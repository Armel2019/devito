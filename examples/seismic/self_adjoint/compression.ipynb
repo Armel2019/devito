{
 "cells": [
  {
   "cell_type": "markdown",
   "metadata": {},
   "source": [
    "# Compression and serialization of seismic wavefields \n",
    "\n",
    "This brief notebook is aimed at learning by manipulation the essentials of compression and serialization for a realistic finite difference modeled wavefield.\n",
    "\n",
    "## Outline\n",
    "1. setup a small 2D seismic modeling example \n",
    "1. generate wavefields to compress\n",
    "1. exercise compression algorithms and benchmark\n",
    "  * compression ratio\n",
    "  * execution time\n",
    "\n",
    "## Use of Memoryview\n",
    "Add comments about use of memoryview to provide a copy free conversion from Devito wavefield arrays to raw bytes."
   ]
  },
  {
   "cell_type": "markdown",
   "metadata": {},
   "source": [
    "## Devito related imports grouped here"
   ]
  },
  {
   "cell_type": "code",
   "execution_count": 1,
   "metadata": {},
   "outputs": [],
   "source": [
    "import numpy as np\n",
    "from examples.seismic import RickerSource, Receiver, TimeAxis, Model, AcquisitionGeometry\n",
    "from devito import (Grid, Function, TimeFunction, SpaceDimension, Constant, \n",
    "                    Eq, Operator, solve, configuration, norm)\n",
    "from examples.seismic.self_adjoint import (acoustic_sa_setup, setup_w_over_q,\n",
    "                                           SaIsoAcousticWaveSolver)\n",
    "import matplotlib as mpl\n",
    "import matplotlib.pyplot as plt\n",
    "from matplotlib import cm\n",
    "from timeit import default_timer as timer\n",
    "\n",
    "# These lines force images to be displayed in the notebook, and scale up fonts \n",
    "%matplotlib inline\n",
    "mpl.rc('font', size=14)\n",
    "\n",
    "# Make white background for plots, not transparent\n",
    "plt.rcParams['figure.facecolor'] = 'white'\n",
    "\n",
    "# Set logging to debug, captures statistics on the performance of operators\n",
    "# configuration['log-level'] = 'DEBUG'\n",
    "configuration['log-level'] = 'INFO'"
   ]
  },
  {
   "cell_type": "markdown",
   "metadata": {},
   "source": [
    "## Setup the model and acoustic wave solver\n",
    "\n",
    "We will use the self-adjoint system from examples/seismic/self-adjoint."
   ]
  },
  {
   "cell_type": "code",
   "execution_count": 2,
   "metadata": {},
   "outputs": [
    {
     "name": "stderr",
     "output_type": "stream",
     "text": [
      "Operator `WOverQ_Operator` run in 0.01 s\n",
      "Operator `padfunc` run in 0.01 s\n",
      "Operator `padfunc` run in 0.01 s\n",
      "Operator `IsoFwdOperator` run in 0.06 s\n"
     ]
    },
    {
     "name": "stdout",
     "output_type": "stream",
     "text": [
      "Receiver wavefield min/max; -2.209856e+01 +3.264765e+01\n",
      "Total    wavefield min/max; -2.209856e+01 +3.450400e+01\n",
      "d.data.shape;  (101, 251)\n",
      "u.data.shape;  (101, 271, 271)\n"
     ]
    }
   ],
   "source": [
    "# NBVAL_IGNORE_OUTPUT\n",
    "\n",
    "# Setup time / frequency\n",
    "nt = 101\n",
    "dt = 1\n",
    "tmin = 0.0\n",
    "tmax = dt * (nt - 1)\n",
    "fpeak = 0.010\n",
    "omega = 2.0 * np.pi * fpeak\n",
    "time_axis = TimeAxis(start=tmin, stop=tmax, step=dt)\n",
    "time = np.linspace(tmin, tmax, nt)\n",
    "\n",
    "# Model\n",
    "space_order = 8\n",
    "npad = 10\n",
    "dx, dz = 10, 10\n",
    "nx, nz = 251, 251\n",
    "shape = (nx, nz)\n",
    "spacing = (dx, dz)\n",
    "origin = (0., 0.)\n",
    "\n",
    "dtype = np.float64\n",
    "qmin = 0.1\n",
    "qmax = 100000\n",
    "v0 = 1.5*np.ones(shape) # velocity\n",
    "b0 = 1.0*np.ones(shape) # buoyancy\n",
    "\n",
    "# Model\n",
    "init_damp = lambda func, nbl: setup_w_over_q(func, omega, qmin, qmax, npad, sigma=0)\n",
    "model = Model(origin=origin, shape=shape, vp=v0, b=b0, spacing=spacing, nbl=npad,\n",
    "              space_order=space_order, bcs=init_damp, dtype=dtype, dt=dt)\n",
    "\n",
    "# Source and reciver coordinates \n",
    "src_coords = np.empty((1, 2), dtype=dtype)\n",
    "src_coords[:,0] = dx * (nx-1) / 2\n",
    "src_coords[:,1] = dz * (nz-1) / 2\n",
    "\n",
    "rec_coords = np.empty((nz, 2), dtype=dtype)\n",
    "rec_coords[:,0] = dx * (nx-1) / 2\n",
    "rec_coords[:,1] = np.linspace(0.0, dz*(nz-1), nz)\n",
    "\n",
    "geometry = AcquisitionGeometry(model, rec_coords, src_coords,\n",
    "                               t0=0.0, tn=tmax, src_type='Ricker', f0=fpeak)\n",
    "\n",
    "# Solver setup \n",
    "solver = SaIsoAcousticWaveSolver(model, geometry, space_order=space_order)\n",
    "\n",
    "# Solution -- note we save all time steps for use in the compression tests\n",
    "d, u, _ = solver.forward(dt=dt, save=nt)\n",
    "\n",
    "dmin, dmax = np.min(d.data[:]), np.max(d.data[:])\n",
    "umin, umax = np.min(u.data[:]), np.max(u.data[:])\n",
    "\n",
    "print(\"Receiver wavefield min/max; %+12.6e %+12.6e\" % (dmin, dmax))\n",
    "print(\"Total    wavefield min/max; %+12.6e %+12.6e\" % (umin, umax))\n",
    "print(\"d.data.shape; \", d.data.shape)\n",
    "print(\"u.data.shape; \", u.data.shape)"
   ]
  },
  {
   "cell_type": "code",
   "execution_count": 3,
   "metadata": {},
   "outputs": [
    {
     "name": "stdout",
     "output_type": "stream",
     "text": [
      "211.12176390411162\n",
      "466.57703970006713\n"
     ]
    }
   ],
   "source": [
    "# NBVAL_IGNORE_OUTPUT\n",
    "\n",
    "# Continuous integration hooks \n",
    "# We ensure the norm of these computed wavefields is repeatable\n",
    "print(norm(d))\n",
    "print(norm(u))\n",
    "assert np.isclose(norm(d), 211.122, atol=0, rtol=1e-3)\n",
    "assert np.isclose(norm(u), 466.577, atol=0, rtol=1e-3)"
   ]
  },
  {
   "cell_type": "code",
   "execution_count": 4,
   "metadata": {},
   "outputs": [],
   "source": [
    "import gzip, lzma, bz2\n",
    "import pprint  # for printing dictionaries below\n",
    "import time    # for timing execution\n",
    "from pathlib import Path # to get file size\n",
    "\n",
    "# list of extensions\n",
    "exts = [\"raw\", \"gzip\", \"lzma\", \"bz2\"]\n",
    "\n",
    "# dictionary for compression, files, sizes, and times\n",
    "cmps = {\n",
    "  \"raw\": None,\n",
    "  \"gzip\": gzip,\n",
    "  \"lzma\": lzma,\n",
    "  \"bz2\": bz2\n",
    "}\n",
    "\n",
    "files = {}\n",
    "sizes = {}\n",
    "times = {}"
   ]
  },
  {
   "cell_type": "code",
   "execution_count": 5,
   "metadata": {},
   "outputs": [
    {
     "name": "stdout",
     "output_type": "stream",
     "text": [
      "u._data.shape;  (101, 287, 287)\n",
      "mv.shape;       (20, 287, 287)\n",
      "\n",
      "time;   0.0058 sec -- size;  12.5685 mb -- type; raw\n",
      "time;   0.3018 sec -- size;   7.3336 mb -- type; gzip\n",
      "time;   2.7395 sec -- size;   2.9805 mb -- type; lzma\n",
      "time;   1.1551 sec -- size;   6.0650 mb -- type; bz2\n"
     ]
    }
   ],
   "source": [
    "# use memoryview to provide a copy-free conversion to raw bytes\n",
    "# mv = memoryview(u._data[nt-20:nt-1,:,:])\n",
    "M = 20 # number time steps blocked for compression/serialization\n",
    "mv = memoryview(u._data[nt-1-M:nt-1,:,:])\n",
    "b = bytearray(mv)\n",
    "\n",
    "print(\"u._data.shape; \", u._data.shape)\n",
    "print(\"mv.shape;      \", mv.shape)\n",
    "\n",
    "print(\"\")\n",
    "for ext in exts:\n",
    "    if cmps[ext] == None:\n",
    "        files[ext] = open(\"file.\" + ext, \"wb\")\n",
    "    else:\n",
    "        files[ext] = cmps[ext].open(\"file.\" + ext, \"wb\")\n",
    "    t1 = time.perf_counter()\n",
    "    files[ext].write(mv)\n",
    "    t2 = time.perf_counter()\n",
    "    files[ext].close()\n",
    "    times[ext] = t2 - t1\n",
    "    s = Path(\"file.\" + ext).stat().st_size / 1024**2\n",
    "    sizes[ext] = s\n",
    "    print(\"time; %8.4f sec -- size; %8.4f mb -- type; %s\" % (times[ext], sizes[ext], ext))"
   ]
  },
  {
   "cell_type": "code",
   "execution_count": null,
   "metadata": {},
   "outputs": [],
   "source": []
  },
  {
   "cell_type": "code",
   "execution_count": null,
   "metadata": {},
   "outputs": [],
   "source": []
  },
  {
   "cell_type": "code",
   "execution_count": null,
   "metadata": {},
   "outputs": [],
   "source": []
  }
 ],
 "metadata": {
  "anaconda-cloud": {},
  "kernelspec": {
   "display_name": "Python 3",
   "language": "python",
   "name": "python3"
  },
  "language_info": {
   "codemirror_mode": {
    "name": "ipython",
    "version": 3
   },
   "file_extension": ".py",
   "mimetype": "text/x-python",
   "name": "python",
   "nbconvert_exporter": "python",
   "pygments_lexer": "ipython3",
   "version": "3.8.3"
  }
 },
 "nbformat": 4,
 "nbformat_minor": 4
}
