{
 "cells": [
  {
   "cell_type": "markdown",
   "metadata": {},
   "source": [
    "# Implementation of time blocking for serialization and de-serialization of wavefields with Devito operators"
   ]
  },
  {
   "cell_type": "markdown",
   "metadata": {},
   "source": [
    "## Introduction \n",
    "\n",
    "The goal of this tutorial is to prototype the serialization and de-serialization for wavefields in Devito. The motivation is using seismic modeling operators for full waveform inversion (FWI). Some of the steps in FWI require the re-use of previsouly computed wavefields, in particular the adjoint of the Jacobian linearized operator that maps data perturbation into velocity perturbation requires the wavefield computed with the nonlinear source. \n",
    "\n",
    "There are implemented alternatives to serialization / de-serialization like checkpointing (link to nb?), but we are investigating the serialization option here. In order to illustrate the use case for serialization, we write the workflow for computing the gradient of the FWI objective function, ignoring a lot of details, as follows:\n",
    "\n",
    "1. Generate the nonlinear forward modeled data at the receivers $d_{mod}$\n",
    "$$ \n",
    "d_{mod} = F m \n",
    "$$\n",
    "\n",
    "1. Serialize the nonlinear source wavefield to disk during computation of 1. \n",
    "\n",
    "1. Compute the data residual $\\delta r$ by differencing observed and modeled data at the receivers \n",
    "$$\n",
    "\\delta r = d_{obs} - d_{mod}\n",
    "$$\n",
    "\n",
    "1. Backproject the data residual $\\delta r$ via time reversal. \n",
    "\n",
    "1. De-serialize the nonlinear source wavefield from disk during computation of 4, synchronizing time step between the nonlinear wavefield computed forward in time and time reversed adjoint wavefield. \n",
    "\n",
    "1. Increment the model perturbation with a correlation of the de-serialized nonlinear source wavefield and the backprojected receiver adjoint wavefield. Note that this computed model perturbation is the  _gradient_ of the FWI objective function.\n",
    "$$\n",
    "\\delta m = \\bigl( \\nabla F\\bigr)^\\top\\ \\delta r\n",
    "$$\n",
    "\n",
    "The main motivation for this notebook is to show a proof of concept for serialization and de-serialization of the nonlinear wavefield. We will achieve this via _time blocking_: we will run a number of time steps in the generated c kernel, and then return control to python for the serialization and de-serialization operations.\n",
    "\n",
    "Please see other notebooks in the project for more details, in particular the notebooks describing the self-adjoint modeling operators. More information: \n",
    "* Nonlinear operator ([sa_01_iso_implementation1.ipynb](sa_01_iso_implementation1.ipynb))\n",
    "* Linearized operators ([sa_02_iso_implementation2.ipynb](sa_02_iso_implementation2.ipynb))."
   ]
  },
  {
   "cell_type": "markdown",
   "metadata": {},
   "source": [
    "## Outline \n",
    "1. Define symbols\n",
    "1. Description of tests to verify correctness\n",
    "1. Instantiate the model for a two dimensional problem\n",
    "1. Time blocking implementation of nonlinear forward\n",
    "1. Time blocking implementation of Jacobian linearized forward\n",
    "1. Time blocking implementation of Jacobian linearized adjoint"
   ]
  },
  {
   "cell_type": "markdown",
   "metadata": {},
   "source": [
    "## Table of symbols\n",
    "\n",
    "We show the symbols here relevant to the implementation of the linearized operators.\n",
    "\n",
    "| Symbol &nbsp; &nbsp; &nbsp; &nbsp; &nbsp; &nbsp; &nbsp; &nbsp; &nbsp; &nbsp; &nbsp; &nbsp; &nbsp; &nbsp; &nbsp; &nbsp; &nbsp; | Description  | Dimensionality | \n",
    "|:---|:---|:---|\n",
    "| $m_0(x,y,z)$ | Reference P wave velocity    | function of space |\n",
    "| $\\delta m(x,y,z)$ | Perturbation to P wave velocity    | function of space |\n",
    "| $u_0(t,x,y,z)$ | Reference pressure wavefield | function of time and space |\n",
    "| $\\delta u(t,x,y,z)$ | Perturbation to pressure wavefield | function of time and space |\n",
    "| $s(t,x,y,z)$ | Source wavefield | function of time, localized in space to source location |\n",
    "| $r(t,x,y,z)$ | Receiver wavefield | function of time, localized in space to receiver locations |\n",
    "| $\\delta r(t,x,y,z)$ | Receiver wavefield perturbation | function of time, localized in space to receiver locations |\n",
    "| $F[m]\\ q$ | Forward linear modeling operator | Nonlinear in $m$, linear in $q, s$: $\\quad$ maps $q \\rightarrow s$ |\n",
    "| $F[m; q]$ | Forward nonlinear modeling operator | Nonlinear in $m$, linear in $q$: $\\quad$ maps $m \\rightarrow r$ |\n",
    "| $\\nabla F[m; q]\\ \\delta m$ | Forward Jacobian modeling operator | Linearized at $[m; q]$: $\\quad$ maps $\\delta m \\rightarrow \\delta r$ |\n",
    "| $\\bigl( \\nabla F[m; q] \\bigr)^\\top\\ \\delta r$ | Adjoint Jacobian modeling operator | Linearized at $[m; q]$: $\\quad$ maps $\\delta r \\rightarrow \\delta m$ |"
   ]
  },
  {
   "cell_type": "markdown",
   "metadata": {},
   "source": [
    "## Description of tests to verify correctness\n",
    "\n",
    "In order to make sure we have implemented these operators correctly, we will compare output from two runs:\n",
    " - a run with all time steps saved \n",
    " - a run using the time blocking implementation\n",
    " \n",
    "We will design the experiment with a source in the middle of the model and short enough elapsed modeling time that we do not need to worry about boundary reflections for these tests. "
   ]
  },
  {
   "cell_type": "markdown",
   "metadata": {},
   "source": [
    "## Imports \n",
    "\n",
    "We have grouped all imports used in this notebook here for consistency."
   ]
  },
  {
   "cell_type": "code",
   "execution_count": 1,
   "metadata": {},
   "outputs": [],
   "source": [
    "from scipy.special import hankel2\n",
    "import numpy as np\n",
    "from examples.seismic import RickerSource, Receiver, TimeAxis, Model, AcquisitionGeometry\n",
    "from devito import (Grid, Function, TimeFunction, SpaceDimension, Constant, \n",
    "                    Eq, Operator, solve, configuration, norm)\n",
    "from devito.finite_differences import Derivative\n",
    "from devito.builtins import gaussian_smooth\n",
    "from examples.seismic.self_adjoint import (acoustic_sa_setup, setup_w_over_q,\n",
    "                                           SaIsoAcousticWaveSolver)\n",
    "import matplotlib as mpl\n",
    "import matplotlib.pyplot as plt\n",
    "from matplotlib import cm\n",
    "from timeit import default_timer as timer\n",
    "\n",
    "# These lines force images to be displayed in the notebook, and scale up fonts \n",
    "%matplotlib inline\n",
    "mpl.rc('font', size=14)\n",
    "\n",
    "# Make white background for plots, not transparent\n",
    "plt.rcParams['figure.facecolor'] = 'white'\n",
    "\n",
    "# Set logging to debug, captures statistics on the performance of operators\n",
    "# configuration['log-level'] = 'DEBUG'\n",
    "configuration['log-level'] = 'INFO'"
   ]
  },
  {
   "cell_type": "markdown",
   "metadata": {},
   "source": [
    "## Instantiate the model for a two dimensional problem\n",
    "\n",
    "Notes:\n",
    " - We use a small 400x400 m. model\n",
    " - We use 10x10 m. discretization \n",
    " - We do not add an absorbing boundary region for this proof of concept\n",
    " - We choose modeling sample rate explicitly (2 msec)\n",
    " - We use a modeling time range of 1 second\n",
    " - We use a wholespace model\n",
    "   - velocity: 1500 m/s\n",
    "   - density: 1 g/cm^3\n",
    " - We place the source in the center of the model\n",
    " - We use a vertical line of receivers in the center of the model"
   ]
  },
  {
   "cell_type": "code",
   "execution_count": 10,
   "metadata": {},
   "outputs": [
    {
     "name": "stdout",
     "output_type": "stream",
     "text": [
      "shape;            (401, 401)\n",
      "origin;           (0.0, 0.0)\n",
      "spacing;          (10.0, 10.0)\n",
      "extent;           (4000.0, 4000.0)\n",
      "\n",
      "grid.shape;       (401, 401)\n",
      "grid.extent;      (4000.0, 4000.0)\n",
      "grid.spacing_map; {h_x: 10.0, h_z: 10.0}\n",
      "\n",
      "time_range;  TimeAxis: start=0, stop=1000, step=2, num=501\n",
      "\n",
      "src_coordinate  X;           +2000.0000\n",
      "src_coordinate  Z;           +2000.0000\n",
      "rec_coordinates X min/max;   +2000.0000   +2000.0000\n",
      "rec_coordinates Z min/max;      +0.0000   +4000.0000\n"
     ]
    }
   ],
   "source": [
    "# Define dimensions for the interior of the model\n",
    "nx,nz = 401,401\n",
    "dx,dz = 10.0,10.0  # Grid spacing in m\n",
    "shape = (nx, nz)   # Number of grid points\n",
    "spacing = (dx, dz) # Domain size is now 5 km by 5 km\n",
    "origin = (0., 0.)  # Origin of coordinate system, specified in m.\n",
    "extent = tuple([s*(n-1) for s, n in zip(spacing, shape)])\n",
    "\n",
    "# Define the dimensions \n",
    "x = SpaceDimension(name='x', spacing=Constant(name='h_x', value=extent[0]/(shape[0]-1)))\n",
    "z = SpaceDimension(name='z', spacing=Constant(name='h_z', value=extent[1]/(shape[1]-1)))\n",
    "\n",
    "# Initialize the Devito grid \n",
    "dtype = np.float64\n",
    "grid = Grid(extent=extent, shape=shape, origin=origin, dimensions=(x, z), dtype=dtype)\n",
    "\n",
    "print(\"shape;           \", shape)\n",
    "print(\"origin;          \", origin)\n",
    "print(\"spacing;         \", spacing)\n",
    "print(\"extent;          \", extent)\n",
    "\n",
    "print(\"\")\n",
    "print(\"grid.shape;      \", grid.shape)\n",
    "print(\"grid.extent;     \", grid.extent)\n",
    "print(\"grid.spacing_map;\", grid.spacing_map)\n",
    "\n",
    "# Create velocity and buoyancy fields. \n",
    "space_order = 8\n",
    "v = Function(name='v', grid=grid, space_order=space_order)\n",
    "b = Function(name='b', grid=grid, space_order=space_order)\n",
    "v.data[:] = 1.5\n",
    "b.data[:,:] = 1.0 / 1.0\n",
    "\n",
    "# Time sampling\n",
    "t0 = dtype(0)     # Simulation time start\n",
    "tn = dtype(1000)  # Simulation time end (1 second = 1000 msec)\n",
    "dt = dtype(2)\n",
    "time_range = TimeAxis(start=t0, stop=tn, step=dt)\n",
    "print(\"\")\n",
    "print(\"time_range; \", time_range)\n",
    "\n",
    "# Source in the center of the model at 10 Hz center frequency\n",
    "fpeak = 0.010\n",
    "src = RickerSource(name='src', grid=grid, f0=fpeak, npoint=1, time_range=time_range)\n",
    "src.coordinates.data[0,0] = dx * (nx//2)\n",
    "src.coordinates.data[0,1] = dz * (nz//2)\n",
    "\n",
    "# line of receivers along the right edge of the model\n",
    "rec = Receiver(name='rec', grid=grid, npoint=nz, time_range=time_range)\n",
    "rec.coordinates.data[:,0] = dx * (nx//2)\n",
    "rec.coordinates.data[:,1] = np.linspace(0.0, dz*(nz-1), nz)\n",
    "\n",
    "print(\"\")\n",
    "print(\"src_coordinate  X;         %+12.4f\" % (src.coordinates.data[0,0]))\n",
    "print(\"src_coordinate  Z;         %+12.4f\" % (src.coordinates.data[0,1]))\n",
    "print(\"rec_coordinates X min/max; %+12.4f %+12.4f\" % \\\n",
    "      (np.min(rec.coordinates.data[:,0]), np.max(rec.coordinates.data[:,0])))\n",
    "print(\"rec_coordinates Z min/max; %+12.4f %+12.4f\" % \\\n",
    "      (np.min(rec.coordinates.data[:,1]), np.max(rec.coordinates.data[:,1])))"
   ]
  },
  {
   "cell_type": "markdown",
   "metadata": {},
   "source": [
    "## Plot velocity and density models\n",
    "\n",
    "Next we plot the velocity and density models for illustration. \n",
    "- The source is shown as a large red asterisk\n",
    "- The extent of the receiver array is shown with a thick black line"
   ]
  },
  {
   "cell_type": "code",
   "execution_count": 12,
   "metadata": {},
   "outputs": [
    {
     "data": {
      "image/png": "[encoded data removed]",
      "text/plain": [
       "<Figure size 864x576 with 4 Axes>"
      ]
     },
     "metadata": {},
     "output_type": "display_data"
    }
   ],
   "source": [
    "# note: flip sense of second dimension to make the plot positive downwards\n",
    "plt_extent = [origin[0], origin[0] + extent[0], origin[1] + extent[1], origin[1]]\n",
    "\n",
    "vmin, vmax = 1.4, 1.7\n",
    "dmin, dmax = 0.9, 1.1\n",
    "\n",
    "plt.figure(figsize=(12,8))\n",
    "\n",
    "plt.subplot(1, 2, 1)\n",
    "plt.imshow(np.transpose(m.data), cmap=cm.jet, \n",
    "           vmin=vmin, vmax=vmax, extent=plt_extent)\n",
    "plt.colorbar(orientation='horizontal', label='Velocity (m/msec)')\n",
    "plt.plot(rec.coordinates.data[:, 0], rec.coordinates.data[:, 1], \\\n",
    "         'black', linestyle='-', label=\"Receiver\")\n",
    "plt.plot(src.coordinates.data[:, 0], src.coordinates.data[:, 1], \\\n",
    "         'red', linestyle='None', marker='*', markersize=15, label=\"Source\")\n",
    "plt.xlabel(\"X Coordinate (m)\")\n",
    "plt.ylabel(\"Z Coordinate (m)\")\n",
    "plt.title(\"Constant velocity\")\n",
    "\n",
    "plt.subplot(1, 2, 2)\n",
    "plt.imshow(np.transpose(1 / b.data), cmap=cm.jet,\n",
    "           vmin=dmin, vmax=dmax, extent=plt_extent)\n",
    "plt.colorbar(orientation='horizontal', label='Density (m^3/kg)')\n",
    "plt.plot(rec.coordinates.data[:, 0], rec.coordinates.data[:, 1], \\\n",
    "         'black', linestyle='-', label=\"Receiver\")\n",
    "plt.plot(src.coordinates.data[:, 0], src.coordinates.data[:, 1], \\\n",
    "         'red', linestyle='None', marker='*', markersize=15, label=\"Source\")\n",
    "plt.xlabel(\"X Coordinate (m)\")\n",
    "plt.ylabel(\"Z Coordinate (m)\")\n",
    "plt.title(\"Constant density\")\n",
    "\n",
    "plt.tight_layout()\n",
    "None"
   ]
  },
  {
   "cell_type": "markdown",
   "metadata": {},
   "source": [
    "## Time blocking implementation of nonlinear forward\n",
    "\n"
   ]
  },
  {
   "cell_type": "code",
   "execution_count": null,
   "metadata": {},
   "outputs": [],
   "source": [
    "# NBVAL_IGNORE_OUTPUT\n",
    "\n",
    "# Setup time / frequency\n",
    "nt = 1001\n",
    "dt = 0.1\n",
    "tmin = 0.0\n",
    "tmax = dt * (nt - 1)\n",
    "fpeak = 0.090\n",
    "t0w = 1.0 / fpeak\n",
    "omega = 2.0 * np.pi * fpeak\n",
    "time_axis = TimeAxis(start=tmin, stop=tmax, step=dt)\n",
    "time = np.linspace(tmin, tmax, nt)\n",
    "\n",
    "# Model\n",
    "space_order = 8\n",
    "npad = 50\n",
    "dx, dz = 0.5, 0.5\n",
    "nx, nz = 801, 801\n",
    "shape = (nx, nz)\n",
    "spacing = (dx, dz)\n",
    "origin = (0., 0.)\n",
    "\n",
    "dtype = np.float64\n",
    "qmin = 0.1\n",
    "qmax = 100000\n",
    "v0 = 1.5*np.ones(shape)\n",
    "b0 = 1.0*np.ones(shape)\n",
    "\n",
    "# Model\n",
    "init_damp = lambda func, nbl: setup_w_over_q(func, omega, qmin, qmax, npad, sigma=0)\n",
    "model = Model(origin=origin, shape=shape, vp=v0, b=b0, spacing=spacing, nbl=npad,\n",
    "              space_order=space_order, bcs=init_damp, dtype=dtype, dt=dt)\n",
    "\n",
    "# Source and reciver coordinates \n",
    "src_coords = np.empty((1, 2), dtype=dtype)\n",
    "rec_coords = np.empty((1, 2), dtype=dtype)\n",
    "src_coords[:, :] = np.array(model.domain_size) * .5\n",
    "rec_coords[:, :] = np.array(model.domain_size) * .5 + 60\n",
    "\n",
    "geometry = AcquisitionGeometry(model, rec_coords, src_coords,\n",
    "                               t0=0.0, tn=tmax, src_type='Ricker',\n",
    "                               f0=fpeak)\n",
    "# Solver setup\n",
    "solver = SaIsoAcousticWaveSolver(model, geometry, space_order=space_order)\n",
    "\n",
    "# Numerical solution\n",
    "recNum, uNum, _ = solver.forward(dt=dt)\n",
    "\n",
    "# Analytic solution\n",
    "recAnaPad = analytic_response(fpeak, time_axis, src_coords, rec_coords, model.vp)\n",
    "recAna = recAnaPad[0:nt]\n",
    "\n",
    "# Compute RMS and difference\n",
    "diff = (recNum.data - recAna)\n",
    "nrms = np.max(np.abs(recNum.data))\n",
    "arms = np.max(np.abs(recAna))\n",
    "drms = np.max(np.abs(diff))\n",
    "\n",
    "print(\"\\nMaximum absolute numerical,analytic,diff; %+12.6e %+12.6e %+12.6e\" % (nrms, arms, drms))\n",
    "\n",
    "# This isnt a very strict tolerance ...\n",
    "tol = 0.1\n",
    "assert np.allclose(diff, 0.0, atol=tol)\n",
    "\n",
    "nmin, nmax = np.min(recNum.data), np.max(recNum.data)\n",
    "amin, amax = np.min(recAna), np.max(recAna)\n",
    "\n",
    "print(\"\")\n",
    "print(\"Numerical min/max; %+12.6e %+12.6e\" % (nmin, nmax))\n",
    "print(\"Analytic  min/max; %+12.6e %+12.6e\" % (amin, amax))"
   ]
  },
  {
   "cell_type": "code",
   "execution_count": null,
   "metadata": {},
   "outputs": [],
   "source": [
    "# Continuous integration hooks \n",
    "# We ensure the norm of these computed wavefields is repeatable\n",
    "assert np.isclose(np.linalg.norm(recAna), 0.0524, atol=0, rtol=1e-3)"
   ]
  },
  {
   "cell_type": "markdown",
   "metadata": {},
   "source": [
    "## Time blocking implementation of Jacobian linearized forward\n",
    "\n",
    "blah"
   ]
  },
  {
   "cell_type": "code",
   "execution_count": null,
   "metadata": {},
   "outputs": [],
   "source": []
  },
  {
   "cell_type": "markdown",
   "metadata": {},
   "source": [
    "## Time blocking implementation of Jacobian linearized adjoint\n",
    "\n",
    "blah"
   ]
  },
  {
   "cell_type": "code",
   "execution_count": null,
   "metadata": {},
   "outputs": [],
   "source": []
  }
 ],
 "metadata": {
  "anaconda-cloud": {},
  "kernelspec": {
   "display_name": "Python 3",
   "language": "python",
   "name": "python3"
  },
  "language_info": {
   "codemirror_mode": {
    "name": "ipython",
    "version": 3
   },
   "file_extension": ".py",
   "mimetype": "text/x-python",
   "name": "python",
   "nbconvert_exporter": "python",
   "pygments_lexer": "ipython3",
   "version": "3.8.3"
  }
 },
 "nbformat": 4,
 "nbformat_minor": 4
}
