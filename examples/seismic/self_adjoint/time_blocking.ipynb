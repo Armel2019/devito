{
 "cells": [
  {
   "cell_type": "markdown",
   "metadata": {},
   "source": [
    "# Implementation of time blocking for serialization and de-serialization of wavefields with Devito operators"
   ]
  },
  {
   "cell_type": "markdown",
   "metadata": {},
   "source": [
    "## Introduction \n",
    "\n",
    "The goal of this tutorial is to prototype the serialization and de-serialization for wavefields in Devito. The motivation is using seismic modeling operators for full waveform inversion (FWI). Some of the steps in FWI require the re-use of previsouly computed wavefields, in particular the adjoint of the Jacobian linearized operator that maps data perturbation into velocity perturbation requires the wavefield computed with the nonlinear source. \n",
    "\n",
    "There are implemented alternatives to serialization / de-serialization like checkpointing (link to nb?), but we are investigating the serialization option here. In order to illustrate the use case for serialization, we write the workflow for computing the gradient of the FWI objective function, ignoring a lot of details, as follows:\n",
    "\n",
    "1. Generate the nonlinear forward modeled data at the receivers $d_{mod}$\n",
    "$$ \n",
    "d_{mod} = F m \n",
    "$$\n",
    "\n",
    "1. Serialize the nonlinear source wavefield to disk during computation of 1. \n",
    "\n",
    "1. Compute the data residual $\\delta r$ by differencing observed and modeled data at the receivers \n",
    "$$\n",
    "\\delta r = d_{obs} - d_{mod}\n",
    "$$\n",
    "\n",
    "1. Backproject the data residual $\\delta r$ via time reversal. \n",
    "\n",
    "1. De-serialize the nonlinear source wavefield from disk during computation of 4, synchronizing time step between the nonlinear wavefield computed forward in time and time reversed adjoint wavefield. \n",
    "\n",
    "1. Increment the model perturbation with a correlation of the de-serialized nonlinear source wavefield and the backprojected receiver adjoint wavefield. Note that this computed model perturbation is the  _gradient_ of the FWI objective function.\n",
    "$$\n",
    "\\delta m = \\bigl( \\nabla F\\bigr)^\\top\\ \\delta r\n",
    "$$\n",
    "\n",
    "The main motivation for this notebook is to show a proof of concept for serialization and de-serialization of the nonlinear wavefield. We will achieve this via _time blocking_: we will run a number of time steps in the generated c kernel, and then return control to python for the serialization and de-serialization operations.\n",
    "\n",
    "Please see other notebooks in the project for more details, in particular the notebooks describing the self-adjoint modeling operators. More information: \n",
    "* Nonlinear operator ([sa_01_iso_implementation1.ipynb](sa_01_iso_implementation1.ipynb))\n",
    "* Linearized operators ([sa_02_iso_implementation2.ipynb](sa_02_iso_implementation2.ipynb))."
   ]
  },
  {
   "cell_type": "markdown",
   "metadata": {},
   "source": [
    "## Outline \n",
    "1. Define symbols\n",
    "1. Description of tests to verify correctness\n",
    "1. Instantiate the model for a two dimensional problem\n",
    "1. Nonlinear forward\n",
    "  - Save all time steps implementation\n",
    "  - Time blocking implementation\n",
    "1. Jacobian linearized forward\n",
    "  - Save all time steps implementation\n",
    "  - Time blocking implementation\n",
    "1. Jacobian linearized adjoint\n",
    "  - Save all time steps implementation\n",
    "  - Time blocking implementation\n",
    "1. Discussion"
   ]
  },
  {
   "cell_type": "markdown",
   "metadata": {},
   "source": [
    "## Table of symbols\n",
    "\n",
    "We show the symbols here relevant to the implementation of the linearized operators.\n",
    "\n",
    "| Symbol &nbsp; &nbsp; &nbsp; &nbsp; &nbsp; &nbsp; &nbsp; &nbsp; &nbsp; &nbsp; &nbsp; &nbsp; &nbsp; &nbsp; &nbsp; &nbsp; &nbsp; | Description  | Dimensionality | \n",
    "|:---|:---|:---|\n",
    "| $m_0(x,y,z)$ | Reference P wave velocity    | function of space |\n",
    "| $\\delta m(x,y,z)$ | Perturbation to P wave velocity    | function of space |\n",
    "| $u_0(t,x,y,z)$ | Reference pressure wavefield | function of time and space |\n",
    "| $\\delta u(t,x,y,z)$ | Perturbation to pressure wavefield | function of time and space |\n",
    "| $s(t,x,y,z)$ | Source wavefield | function of time, localized in space to source location |\n",
    "| $r(t,x,y,z)$ | Receiver wavefield | function of time, localized in space to receiver locations |\n",
    "| $\\delta r(t,x,y,z)$ | Receiver wavefield perturbation | function of time, localized in space to receiver locations |\n",
    "| $F[m]\\ q$ | Forward linear modeling operator | Nonlinear in $m$, linear in $q, s$: $\\quad$ maps $q \\rightarrow s$ |\n",
    "| $F[m; q]$ | Forward nonlinear modeling operator | Nonlinear in $m$, linear in $q$: $\\quad$ maps $m \\rightarrow r$ |\n",
    "| $\\nabla F[m; q]\\ \\delta m$ | Forward Jacobian modeling operator | Linearized at $[m; q]$: $\\quad$ maps $\\delta m \\rightarrow \\delta r$ |\n",
    "| $\\bigl( \\nabla F[m; q] \\bigr)^\\top\\ \\delta r$ | Adjoint Jacobian modeling operator | Linearized at $[m; q]$: $\\quad$ maps $\\delta r \\rightarrow \\delta m$ |"
   ]
  },
  {
   "cell_type": "markdown",
   "metadata": {},
   "source": [
    "## Description of tests to verify correctness\n",
    "\n",
    "In order to make sure we have implemented these operators correctly, we will compare output from two runs:\n",
    " - a run with all time steps saved \n",
    " - a run using the time blocking implementation\n",
    " \n",
    "We will design the experiment with a source in the middle of the model and short enough elapsed modeling time that we do not need to worry about boundary reflections for these tests. "
   ]
  },
  {
   "cell_type": "markdown",
   "metadata": {},
   "source": [
    "## Imports \n",
    "\n",
    "We have grouped all imports used in this notebook here for consistency."
   ]
  },
  {
   "cell_type": "code",
   "execution_count": 1,
   "metadata": {},
   "outputs": [],
   "source": [
    "from scipy.special import hankel2\n",
    "import numpy as np\n",
    "from examples.seismic import RickerSource, Receiver, TimeAxis, Model, AcquisitionGeometry\n",
    "from devito import (Grid, Function, TimeFunction, SpaceDimension, Constant, \n",
    "                    Eq, Operator, solve, configuration, norm, Buffer)\n",
    "from devito.finite_differences import Derivative\n",
    "from devito.builtins import gaussian_smooth\n",
    "from examples.seismic.self_adjoint import (acoustic_sa_setup, setup_w_over_q,\n",
    "                                           SaIsoAcousticWaveSolver)\n",
    "import matplotlib as mpl\n",
    "import matplotlib.pyplot as plt\n",
    "from matplotlib import cm\n",
    "from timeit import default_timer as timer\n",
    "\n",
    "# These lines force images to be displayed in the notebook, and scale up fonts \n",
    "%matplotlib inline\n",
    "mpl.rc('font', size=14)\n",
    "\n",
    "# Make white background for plots, not transparent\n",
    "plt.rcParams['figure.facecolor'] = 'white'\n",
    "\n",
    "# Set logging to debug, captures statistics on the performance of operators\n",
    "configuration['log-level'] = 'DEBUG'"
   ]
  },
  {
   "cell_type": "markdown",
   "metadata": {},
   "source": [
    "## Instantiate the model for a two dimensional problem\n",
    " - We use a small 500x500 m. model\n",
    " - We use 10x10 m. discretization \n",
    " - We choose modeling sample rate explicitly (2 msec)\n",
    " - We use a modeling time range of 1 second\n",
    " - We use a wholespace model\n",
    "   - velocity: 1500 m/s\n",
    "   - density: 1 g/cm^3\n",
    " - We place the source in the center of the model\n",
    " - We use a vertical line of receivers in the center of the model\n",
    " - We use the visco-acoustic absorbing boundary logic from the self-adjoint operators linked above, and add a 50 point absorbing boundary"
   ]
  },
  {
   "cell_type": "code",
   "execution_count": 2,
   "metadata": {},
   "outputs": [
    {
     "name": "stderr",
     "output_type": "stream",
     "text": [
      "Allocating memory for v(517, 517)\n",
      "Allocating memory for b(517, 517)\n"
     ]
    },
    {
     "name": "stdout",
     "output_type": "stream",
     "text": [
      "shape;            (501, 501)\n",
      "origin;           (0.0, 0.0)\n",
      "spacing;          (10.0, 10.0)\n",
      "extent;           (5000.0, 5000.0)\n",
      "\n",
      "grid.shape;       (501, 501)\n",
      "grid.extent;      (5000.0, 5000.0)\n",
      "grid.spacing_map; {h_x: 10.0, h_z: 10.0}\n"
     ]
    },
    {
     "name": "stderr",
     "output_type": "stream",
     "text": [
      "Operator `WOverQ_Operator` generated in 0.17 s\n",
      "  * lowering.Expressions: 0.07 s (42.7 %)\n",
      "  * lowering.IET: 0.06 s (36.6 %)\n",
      "     * specializing.IET: 0.04 s (24.4 %)\n",
      "  * lowering.Clusters: 0.04 s (24.4 %)\n",
      "Flops reduction after symbolic optimization: [19 --> 19]\n",
      "Allocating memory for wOverQ_025(517, 517)\n",
      "Operator `WOverQ_Operator` fetched `/tmp/devito-jitcache-uid5138/0fc6ee978bac09e6d7076aac6a12916bc568e6d6.c` in 0.04 s from jit-cache\n",
      "Operator `WOverQ_Operator` run in 0.01 s\n",
      "* section0<<501,501>,<50,501>,<50,501>,<501,50>,<501,50>,<501,501>> with OI=0.01 computed in 0.01 s [0.24 GFlops/s]\n",
      "Performance[mode=advanced] arguments: {}\n",
      "Allocating memory for src1(501, 1)\n",
      "Allocating memory for src1_coords(1, 2)\n",
      "Allocating memory for src2(501, 1)\n",
      "Allocating memory for src2_coords(1, 2)\n",
      "Allocating memory for rec1_coords(501, 2)\n",
      "Allocating memory for rec2_coords(501, 2)\n"
     ]
    },
    {
     "name": "stdout",
     "output_type": "stream",
     "text": [
      "\n",
      "time_range;  TimeAxis: start=0, stop=1000, step=2, num=501\n",
      "\n",
      "src_coordinate  X;           +2500.0000\n",
      "src_coordinate  Z;           +2500.0000\n",
      "rec_coordinates X min/max;   +2500.0000   +2500.0000\n",
      "rec_coordinates Z min/max;      +0.0000   +5000.0000\n"
     ]
    }
   ],
   "source": [
    "# NBVAL_IGNORE_OUTPUT\n",
    "\n",
    "# Define dimensions for the interior of the model\n",
    "nx,nz = 501,501\n",
    "npad = 50\n",
    "dx,dz = 10.0,10.0  # Grid spacing in m\n",
    "shape = (nx, nz)   # Number of grid points\n",
    "spacing = (dx, dz) # Domain size is now 5 km by 5 km\n",
    "origin = (0., 0.)  # Origin of coordinate system, specified in m.\n",
    "extent = tuple([s*(n-1) for s, n in zip(spacing, shape)])\n",
    "\n",
    "# Define the dimensions \n",
    "x = SpaceDimension(name='x', spacing=Constant(name='h_x', value=extent[0]/(shape[0]-1)))\n",
    "z = SpaceDimension(name='z', spacing=Constant(name='h_z', value=extent[1]/(shape[1]-1)))\n",
    "\n",
    "# Initialize the Devito grid \n",
    "dtype = np.float64\n",
    "grid = Grid(extent=extent, shape=shape, origin=origin, dimensions=(x, z), dtype=dtype)\n",
    "\n",
    "print(\"shape;           \", shape)\n",
    "print(\"origin;          \", origin)\n",
    "print(\"spacing;         \", spacing)\n",
    "print(\"extent;          \", extent)\n",
    "\n",
    "print(\"\")\n",
    "print(\"grid.shape;      \", grid.shape)\n",
    "print(\"grid.extent;     \", grid.extent)\n",
    "print(\"grid.spacing_map;\", grid.spacing_map)\n",
    "\n",
    "# Create velocity and buoyancy fields. \n",
    "space_order = 8\n",
    "v = Function(name='v', grid=grid, space_order=space_order)\n",
    "b = Function(name='b', grid=grid, space_order=space_order)\n",
    "v.data[:] = 1.5\n",
    "b.data[:,:] = 1.0 / 1.0\n",
    "\n",
    "# Initialize the attenuation profile for the absorbing boundary\n",
    "fpeak = 0.010\n",
    "w = 2.0 * np.pi * fpeak\n",
    "qmin = 0.1\n",
    "wOverQ = Function(name='wOverQ_025', grid=grid, space_order=space_order)\n",
    "setup_w_over_q(wOverQ, w, qmin, 100.0, npad)\n",
    "\n",
    "# Time sampling\n",
    "t0 = dtype(0)     # Simulation time start\n",
    "tn = dtype(1000)  # Simulation time end (1 second = 1000 msec)\n",
    "dt = dtype(2)\n",
    "time_range = TimeAxis(start=t0, stop=tn, step=dt)\n",
    "nt = time_range.num\n",
    "print(\"\")\n",
    "print(\"time_range; \", time_range)\n",
    "\n",
    "# Source in the center of the model at 10 Hz center frequency\n",
    "# Note we make two copes, one for save all and one for  time blocking\n",
    "src1 = RickerSource(name='src1', grid=grid, f0=fpeak, npoint=1, time_range=time_range)\n",
    "src1.coordinates.data[0,0] = dx * (nx//2)\n",
    "src1.coordinates.data[0,1] = dz * (nz//2)\n",
    "\n",
    "src2 = RickerSource(name='src2', grid=grid, f0=fpeak, npoint=1, time_range=time_range)\n",
    "src2.coordinates.data[0,0] = dx * (nx//2)\n",
    "src2.coordinates.data[0,1] = dz * (nz//2)\n",
    "\n",
    "# line of receivers along the right edge of the model\n",
    "# Note we make two copes, one for save all and one for  time blocking\n",
    "rec1 = Receiver(name='rec1', grid=grid, npoint=nz, time_range=time_range)\n",
    "rec1.coordinates.data[:,0] = dx * (nx//2)\n",
    "rec1.coordinates.data[:,1] = np.linspace(0.0, dz*(nz-1), nz)\n",
    "\n",
    "rec2 = Receiver(name='rec2', grid=grid, npoint=nz, time_range=time_range)\n",
    "rec2.coordinates.data[:,0] = dx * (nx//2)\n",
    "rec2.coordinates.data[:,1] = np.linspace(0.0, dz*(nz-1), nz)\n",
    "\n",
    "print(\"\")\n",
    "print(\"src_coordinate  X;         %+12.4f\" % (src1.coordinates.data[0,0]))\n",
    "print(\"src_coordinate  Z;         %+12.4f\" % (src2.coordinates.data[0,1]))\n",
    "print(\"rec_coordinates X min/max; %+12.4f %+12.4f\" % \\\n",
    "      (np.min(rec1.coordinates.data[:,0]), np.max(rec1.coordinates.data[:,0])))\n",
    "print(\"rec_coordinates Z min/max; %+12.4f %+12.4f\" % \\\n",
    "      (np.min(rec1.coordinates.data[:,1]), np.max(rec1.coordinates.data[:,1])))"
   ]
  },
  {
   "cell_type": "markdown",
   "metadata": {},
   "source": [
    "## Plot velocity and density models\n",
    "\n",
    "Next we plot the velocity and density models for illustration. \n",
    "- The source is shown as a large red asterisk\n",
    "- The extent of the receiver array is shown with a thick black line"
   ]
  },
  {
   "cell_type": "code",
   "execution_count": 3,
   "metadata": {},
   "outputs": [
    {
     "data": {
      "image/png": "[encoded data removed]",
      "text/plain": [
       "<Figure size 864x1008 with 6 Axes>"
      ]
     },
     "metadata": {},
     "output_type": "display_data"
    }
   ],
   "source": [
    "# note: flip sense of second dimension to make the plot positive downwards\n",
    "plt_extent = [origin[0], origin[0] + extent[0], origin[1] + extent[1], origin[1]]\n",
    "\n",
    "vmin, vmax = 1.4, 1.7\n",
    "dmin, dmax = 0.9, 1.1\n",
    "\n",
    "plt.figure(figsize=(12,14))\n",
    "\n",
    "plt.subplot(2, 2, 1)\n",
    "plt.imshow(np.transpose(v.data), cmap=cm.jet, \n",
    "           vmin=vmin, vmax=vmax, extent=plt_extent)\n",
    "plt.colorbar(orientation='horizontal', label='Velocity (m/msec)')\n",
    "plt.plot(rec1.coordinates.data[:, 0], rec1.coordinates.data[:, 1], \\\n",
    "         'black', linestyle='-', label=\"Receiver\")\n",
    "plt.plot(src1.coordinates.data[:, 0], src1.coordinates.data[:, 1], \\\n",
    "         'red', linestyle='None', marker='*', markersize=15, label=\"Source\")\n",
    "plt.xlabel(\"X Coordinate (m)\")\n",
    "plt.ylabel(\"Z Coordinate (m)\")\n",
    "plt.title(\"Constant velocity\")\n",
    "\n",
    "plt.subplot(2, 2, 2)\n",
    "plt.imshow(np.transpose(1 / b.data), cmap=cm.jet,\n",
    "           vmin=dmin, vmax=dmax, extent=plt_extent)\n",
    "plt.colorbar(orientation='horizontal', label='Density (m^3/kg)')\n",
    "plt.plot(rec1.coordinates.data[:, 0], rec1.coordinates.data[:, 1], \\\n",
    "         'black', linestyle='-', label=\"Receiver\")\n",
    "plt.plot(src1.coordinates.data[:, 0], src1.coordinates.data[:, 1], \\\n",
    "         'red', linestyle='None', marker='*', markersize=15, label=\"Source\")\n",
    "plt.xlabel(\"X Coordinate (m)\")\n",
    "plt.ylabel(\"Z Coordinate (m)\")\n",
    "plt.title(\"Constant density\")\n",
    "\n",
    "# Plot the log of the generated Q profile\n",
    "q = np.log10(w / wOverQ.data)\n",
    "lmin, lmax = np.log10(qmin), np.log10(100)\n",
    "\n",
    "plt.subplot(2, 2, 3)\n",
    "plt.imshow(np.transpose(q.data), cmap=cm.jet, vmin=lmin, vmax=lmax, extent=plt_extent)\n",
    "plt.colorbar(orientation='horizontal', label='log10(Q)')\n",
    "plt.plot(rec1.coordinates.data[:, 0], rec1.coordinates.data[:, 1], \\\n",
    "         'black', linestyle='-', label=\"Receiver\")\n",
    "plt.plot(src1.coordinates.data[:, 0], src1.coordinates.data[:, 1], \\\n",
    "         'red', linestyle='None', marker='*', markersize=15, label=\"Source\")\n",
    "plt.xlabel(\"X Coordinate (m)\")\n",
    "plt.ylabel(\"Z Coordinate (m)\")\n",
    "plt.title(\"log10 of $Q$ model\")\n",
    "\n",
    "plt.tight_layout()\n",
    "None"
   ]
  },
  {
   "cell_type": "markdown",
   "metadata": {},
   "source": [
    "## Time blocking implementation of nonlinear forward"
   ]
  },
  {
   "cell_type": "markdown",
   "metadata": {},
   "source": [
    "### Save all time steps implementation\n",
    "\n",
    "We borrow the stencil from the self-adjoint operators shown in the jupyter notebooks linked above. \n",
    "\n",
    "When we instantiate the ```TimeFunction``` $u$ we pass the argument ```save=nt``` which allocates memory for ```nt``` time steps."
   ]
  },
  {
   "cell_type": "code",
   "execution_count": 4,
   "metadata": {},
   "outputs": [
    {
     "name": "stdout",
     "output_type": "stream",
     "text": [
      "spacing_map;  {h_x: 10.0, h_z: 10.0, dt: 2.0}\n"
     ]
    },
    {
     "name": "stderr",
     "output_type": "stream",
     "text": [
      "Operator `Kernel` generated in 1.36 s\n",
      "  * lowering.Expressions: 0.81 s (59.9 %)\n",
      "  * lowering.Clusters: 0.32 s (23.7 %)\n",
      "Flops reduction after symbolic optimization: [298 --> 68]\n",
      "Allocating memory for rec1(501, 501)\n",
      "Allocating memory for u1(501, 517, 517)\n",
      "Operator `Kernel` fetched `/tmp/devito-jitcache-uid5138/9ec430e4477abcd2660dad633f54bc5a8b62c8f2.c` in 0.17 s from jit-cache\n",
      "Operator `Kernel` run in 1.25 s\n",
      "Global performance indicators\n",
      "  * Achieved 0.10 FD-GPts/s\n",
      "Local performance indicators\n",
      "  * section0<<499,508,508>,<499,501,501>> with OI=0.94 computed in 1.25 s [6.92 GFlops/s, 0.11 GPts/s]\n",
      "  * section1<<499,1>,<499,1>,<499,1>,<499,1>,<499,1>> with OI=1.93 computed in 0.01 s [0.18 GFlops/s, 0.01 GPts/s]\n",
      "  * section2<<499,501>,<499,501>,<499,501>,<499,501>,<499,501>,<499,501>> with OI=2.42 computed in 0.01 s [3.29 GFlops/s]\n",
      "Performance[mode=advanced] arguments: {}\n"
     ]
    },
    {
     "name": "stdout",
     "output_type": "stream",
     "text": [
      "Wavefield     min/max; -2.204950e+01 +4.223651e+01\n",
      "Receiver data min/max; -2.204950e+01 +4.223651e+01\n"
     ]
    }
   ],
   "source": [
    "# NBVAL_IGNORE_OUTPUT\n",
    "\n",
    "u1 = TimeFunction(name=\"u1\", grid=grid, time_order=2, space_order=space_order, save=nt)\n",
    "t,x,z = u1.dimensions\n",
    "\n",
    "# Source and receiver terms (see notebooks linked above for more detail)\n",
    "src1_term = src1.inject(field=u1.forward, expr=src1 * t.spacing**2 * v**2 / b)\n",
    "rec1_term = rec1.interpolate(expr=u1.forward)\n",
    "\n",
    "# Time update equation (see notebooks linked above for more detail)\n",
    "eq_time_update = (t.spacing**2 * v**2 / b) * \\\n",
    "    ((b * u1.dx(x0=x+x.spacing/2)).dx(x0=x-x.spacing/2) + \\\n",
    "     (b * u1.dz(x0=z+z.spacing/2)).dz(x0=z-z.spacing/2)) + \\\n",
    "    (2 - t.spacing * wOverQ) * u1 + \\\n",
    "    (t.spacing * wOverQ - 1) * u1.backward\n",
    "\n",
    "stencil = Eq(u1.forward, eq_time_update)\n",
    "\n",
    "# Update spacing_map (see notebooks linked above for more detail)\n",
    "spacing_map = grid.spacing_map\n",
    "spacing_map.update({t.spacing : dt})\n",
    "print(\"spacing_map; \", spacing_map)\n",
    "\n",
    "# Build and run the Operator\n",
    "op1 = Operator([stencil] + src1_term + rec1_term, subs=spacing_map)\n",
    "op1(time_m=1, time_M=nt - 2)\n",
    "\n",
    "print(\"Wavefield     min/max; %+12.6e %+12.6e\" %\\\n",
    "      (np.min(u1.data[:]), np.max(u1.data[:])))\n",
    "\n",
    "print(\"Receiver data min/max; %+12.6e %+12.6e\" %\\\n",
    "      (np.min(rec1.data[:]), np.max(rec1.data[:])))"
   ]
  },
  {
   "cell_type": "code",
   "execution_count": 5,
   "metadata": {},
   "outputs": [
    {
     "name": "stdout",
     "output_type": "stream",
     "text": [
      "3120.859671923046\n",
      "411.7263304634085\n"
     ]
    }
   ],
   "source": [
    "# Continuous integration hooks \n",
    "# We ensure the norm of these computed wavefields is repeatable\n",
    "print(norm(u1))\n",
    "print(norm(rec1))\n",
    "assert np.isclose(norm(u1), 3120.859, atol=0, rtol=1e-3)\n",
    "assert np.isclose(norm(rec1), 411.726, atol=0, rtol=1e-3)"
   ]
  },
  {
   "cell_type": "markdown",
   "metadata": {},
   "source": [
    "### Time blocking implementation\n",
    "\n",
    "We now will instantiate a ```TimeFunction``` $u2$ that uses a ```Buffer``` for saving time steps. We choose the buffer size $M=25$, a reasonable number in practice that would allow time-tiling but still not create too large a memory footprint for $u2$."
   ]
  },
  {
   "cell_type": "code",
   "execution_count": 6,
   "metadata": {},
   "outputs": [
    {
     "name": "stdout",
     "output_type": "stream",
     "text": [
      "spacing_map;  {h_x: 10.0, h_z: 10.0, dt: 2.0}\n"
     ]
    },
    {
     "name": "stderr",
     "output_type": "stream",
     "text": [
      "Operator `Kernel` generated in 1.22 s\n",
      "  * lowering.Expressions: 0.55 s (45.2 %)\n",
      "  * lowering.Clusters: 0.42 s (34.5 %)\n",
      "Flops reduction after symbolic optimization: [298 --> 68]\n"
     ]
    }
   ],
   "source": [
    "M = 25\n",
    "u2 = TimeFunction(name=\"u2\", grid=grid, time_order=2, space_order=space_order, save=Buffer(M))\n",
    "\n",
    "# Source and receiver terms (see notebooks linked above for more detail)\n",
    "src2_term = src2.inject(field=u2.forward, expr=src2 * t.spacing**2 * v**2 / b)\n",
    "rec2_term = rec2.interpolate(expr=u2.forward)\n",
    "\n",
    "# We need to regenerate the time update equation with the new TimeFunction in order\n",
    "# to get the time handling correct\n",
    "eq_time_update = (t.spacing**2 * v**2 / b) * \\\n",
    "    ((b * u2.dx(x0=x+x.spacing/2)).dx(x0=x-x.spacing/2) + \\\n",
    "     (b * u2.dz(x0=z+z.spacing/2)).dz(x0=z-z.spacing/2)) + \\\n",
    "    (2 - t.spacing * wOverQ) * u2 + \\\n",
    "    (t.spacing * wOverQ - 1) * u2.backward\n",
    "\n",
    "stencil = Eq(u2.forward, eq_time_update)\n",
    "\n",
    "# Update spacing_map (see notebooks linked above for more detail)\n",
    "spacing_map = grid.spacing_map\n",
    "spacing_map.update({t.spacing : dt})\n",
    "print(\"spacing_map; \", spacing_map)\n",
    "\n",
    "# Build the Operator \n",
    "op2 = Operator([stencil] + src2_term + rec2_term, subs=spacing_map)"
   ]
  },
  {
   "cell_type": "markdown",
   "metadata": {},
   "source": [
    "### Run loop over blocks of M time steps\n",
    "\n",
    "Here we will run $N$ blocks of $M$ time steps, where:\n",
    "* the total number of time steps $nt = 501$ \n",
    "* the number of time steps in a time block $M = 25$ \n",
    "* the bumber of time blocks $N = \\frac{\\displaystyle nt}{\\displaystyle M}$."
   ]
  },
  {
   "cell_type": "code",
   "execution_count": 7,
   "metadata": {},
   "outputs": [
    {
     "name": "stdout",
     "output_type": "stream",
     "text": [
      "kN,N,kt1,kt2,nt;     0    20    25    25   501\n"
     ]
    },
    {
     "name": "stderr",
     "output_type": "stream",
     "text": [
      "Allocating memory for rec2(501, 501)\n",
      "Allocating memory for u2(25, 517, 517)\n",
      "Operator `Kernel` fetched `/tmp/devito-jitcache-uid5138/18d561c142b8f617cb4c23be937d9bb81784e906.c` in 0.20 s from jit-cache\n",
      "Operator `Kernel` run in 0.01 s\n",
      "Global performance indicators\n",
      "  * Achieved 0.04 FD-GPts/s\n",
      "Local performance indicators\n",
      "  * section0<<1,508,508>,<1,501,501>> with OI=0.65 computed in 0.01 s [3.07 GFlops/s, 0.05 GPts/s]\n",
      "  * section1<<1,1>,<1,1>,<1,1>,<1,1>,<1,1>> with OI=1.93 computed in 0.01 s [0.08 GFlops/s, 0.01 GPts/s]\n",
      "  * section2<<1,501>,<1,501>,<1,501>,<1,501>,<1,501>,<1,501>> with OI=2.42 computed in 0.01 s [2.65 GFlops/s]\n",
      "Performance[mode=advanced] arguments: {}\n"
     ]
    },
    {
     "name": "stdout",
     "output_type": "stream",
     "text": [
      "kN,N,kt1,kt2,nt;     1    20    50    50   501\n"
     ]
    },
    {
     "name": "stderr",
     "output_type": "stream",
     "text": [
      "Operator `Kernel` run in 0.01 s\n",
      "Global performance indicators\n",
      "  * Achieved 0.10 FD-GPts/s\n",
      "Local performance indicators\n",
      "  * section0<<1,508,508>,<1,501,501>> with OI=0.65 computed in 0.01 s [7.05 GFlops/s, 0.11 GPts/s]\n",
      "  * section1<<1,1>,<1,1>,<1,1>,<1,1>,<1,1>> with OI=1.93 computed in 0.01 s [0.08 GFlops/s, 0.01 GPts/s]\n",
      "  * section2<<1,501>,<1,501>,<1,501>,<1,501>,<1,501>,<1,501>> with OI=2.42 computed in 0.01 s [1.82 GFlops/s]\n",
      "Performance[mode=advanced] arguments: {}\n"
     ]
    },
    {
     "name": "stdout",
     "output_type": "stream",
     "text": [
      "kN,N,kt1,kt2,nt;     2    20    75    75   501\n"
     ]
    },
    {
     "name": "stderr",
     "output_type": "stream",
     "text": [
      "Operator `Kernel` run in 0.01 s\n",
      "Global performance indicators\n",
      "  * Achieved 0.12 FD-GPts/s\n",
      "Local performance indicators\n",
      "  * section0<<1,508,508>,<1,501,501>> with OI=0.65 computed in 0.01 s [8.16 GFlops/s, 0.12 GPts/s]\n",
      "  * section1<<1,1>,<1,1>,<1,1>,<1,1>,<1,1>> with OI=1.93 computed in 0.01 s [0.08 GFlops/s, 0.01 GPts/s]\n",
      "  * section2<<1,501>,<1,501>,<1,501>,<1,501>,<1,501>,<1,501>> with OI=2.42 computed in 0.01 s [2.43 GFlops/s]\n",
      "Performance[mode=advanced] arguments: {}\n"
     ]
    },
    {
     "name": "stdout",
     "output_type": "stream",
     "text": [
      "kN,N,kt1,kt2,nt;     3    20   100   100   501\n"
     ]
    },
    {
     "name": "stderr",
     "output_type": "stream",
     "text": [
      "Operator `Kernel` run in 0.01 s\n",
      "Global performance indicators\n",
      "  * Achieved 0.12 FD-GPts/s\n",
      "Local performance indicators\n",
      "  * section0<<1,508,508>,<1,501,501>> with OI=0.65 computed in 0.01 s [8.14 GFlops/s, 0.12 GPts/s]\n",
      "  * section1<<1,1>,<1,1>,<1,1>,<1,1>,<1,1>> with OI=1.93 computed in 0.01 s [0.08 GFlops/s, 0.01 GPts/s]\n",
      "  * section2<<1,501>,<1,501>,<1,501>,<1,501>,<1,501>,<1,501>> with OI=2.42 computed in 0.01 s [1.94 GFlops/s]\n",
      "Performance[mode=advanced] arguments: {}\n"
     ]
    },
    {
     "name": "stdout",
     "output_type": "stream",
     "text": [
      "kN,N,kt1,kt2,nt;     4    20   125   125   501\n"
     ]
    },
    {
     "name": "stderr",
     "output_type": "stream",
     "text": [
      "Operator `Kernel` run in 0.01 s\n",
      "Global performance indicators\n",
      "  * Achieved 0.11 FD-GPts/s\n",
      "Local performance indicators\n",
      "  * section0<<1,508,508>,<1,501,501>> with OI=0.65 computed in 0.01 s [8.01 GFlops/s, 0.12 GPts/s]\n",
      "  * section1<<1,1>,<1,1>,<1,1>,<1,1>,<1,1>> with OI=1.93 computed in 0.01 s [0.08 GFlops/s, 0.01 GPts/s]\n",
      "  * section2<<1,501>,<1,501>,<1,501>,<1,501>,<1,501>,<1,501>> with OI=2.42 computed in 0.01 s [2.24 GFlops/s]\n",
      "Performance[mode=advanced] arguments: {}\n"
     ]
    },
    {
     "name": "stdout",
     "output_type": "stream",
     "text": [
      "kN,N,kt1,kt2,nt;     5    20   150   150   501\n"
     ]
    },
    {
     "name": "stderr",
     "output_type": "stream",
     "text": [
      "Operator `Kernel` run in 0.01 s\n",
      "Global performance indicators\n",
      "  * Achieved 0.12 FD-GPts/s\n",
      "Local performance indicators\n",
      "  * section0<<1,508,508>,<1,501,501>> with OI=0.65 computed in 0.01 s [8.17 GFlops/s, 0.12 GPts/s]\n",
      "  * section1<<1,1>,<1,1>,<1,1>,<1,1>,<1,1>> with OI=1.93 computed in 0.01 s [0.08 GFlops/s, 0.01 GPts/s]\n",
      "  * section2<<1,501>,<1,501>,<1,501>,<1,501>,<1,501>,<1,501>> with OI=2.42 computed in 0.01 s [2.08 GFlops/s]\n",
      "Performance[mode=advanced] arguments: {}\n"
     ]
    },
    {
     "name": "stdout",
     "output_type": "stream",
     "text": [
      "kN,N,kt1,kt2,nt;     6    20   175   175   501\n"
     ]
    },
    {
     "name": "stderr",
     "output_type": "stream",
     "text": [
      "Operator `Kernel` run in 0.01 s\n",
      "Global performance indicators\n",
      "  * Achieved 0.12 FD-GPts/s\n",
      "Local performance indicators\n",
      "  * section0<<1,508,508>,<1,501,501>> with OI=0.65 computed in 0.01 s [8.16 GFlops/s, 0.12 GPts/s]\n",
      "  * section1<<1,1>,<1,1>,<1,1>,<1,1>,<1,1>> with OI=1.93 computed in 0.01 s [0.08 GFlops/s, 0.01 GPts/s]\n",
      "  * section2<<1,501>,<1,501>,<1,501>,<1,501>,<1,501>,<1,501>> with OI=2.42 computed in 0.01 s [2.08 GFlops/s]\n",
      "Performance[mode=advanced] arguments: {}\n"
     ]
    },
    {
     "name": "stdout",
     "output_type": "stream",
     "text": [
      "kN,N,kt1,kt2,nt;     7    20   200   200   501\n"
     ]
    },
    {
     "name": "stderr",
     "output_type": "stream",
     "text": [
      "Operator `Kernel` run in 0.01 s\n",
      "Global performance indicators\n",
      "  * Achieved 0.12 FD-GPts/s\n",
      "Local performance indicators\n",
      "  * section0<<1,508,508>,<1,501,501>> with OI=0.65 computed in 0.01 s [8.23 GFlops/s, 0.12 GPts/s]\n",
      "  * section1<<1,1>,<1,1>,<1,1>,<1,1>,<1,1>> with OI=1.93 computed in 0.01 s [0.08 GFlops/s, 0.01 GPts/s]\n",
      "  * section2<<1,501>,<1,501>,<1,501>,<1,501>,<1,501>,<1,501>> with OI=2.42 computed in 0.01 s [2.24 GFlops/s]\n",
      "Performance[mode=advanced] arguments: {}\n"
     ]
    },
    {
     "name": "stdout",
     "output_type": "stream",
     "text": [
      "kN,N,kt1,kt2,nt;     8    20   225   225   501\n"
     ]
    },
    {
     "name": "stderr",
     "output_type": "stream",
     "text": [
      "Operator `Kernel` run in 0.01 s\n",
      "Global performance indicators\n",
      "  * Achieved 0.12 FD-GPts/s\n",
      "Local performance indicators\n",
      "  * section0<<1,508,508>,<1,501,501>> with OI=0.65 computed in 0.01 s [8.16 GFlops/s, 0.12 GPts/s]\n",
      "  * section1<<1,1>,<1,1>,<1,1>,<1,1>,<1,1>> with OI=1.93 computed in 0.01 s [0.08 GFlops/s, 0.01 GPts/s]\n",
      "  * section2<<1,501>,<1,501>,<1,501>,<1,501>,<1,501>,<1,501>> with OI=2.42 computed in 0.01 s [1.94 GFlops/s]\n",
      "Performance[mode=advanced] arguments: {}\n"
     ]
    },
    {
     "name": "stdout",
     "output_type": "stream",
     "text": [
      "kN,N,kt1,kt2,nt;     9    20   250   250   501\n"
     ]
    },
    {
     "name": "stderr",
     "output_type": "stream",
     "text": [
      "Operator `Kernel` run in 0.01 s\n",
      "Global performance indicators\n",
      "  * Achieved 0.12 FD-GPts/s\n",
      "Local performance indicators\n",
      "  * section0<<1,508,508>,<1,501,501>> with OI=0.65 computed in 0.01 s [8.24 GFlops/s, 0.12 GPts/s]\n",
      "  * section1<<1,1>,<1,1>,<1,1>,<1,1>,<1,1>> with OI=1.93 computed in 0.01 s [0.08 GFlops/s, 0.01 GPts/s]\n",
      "  * section2<<1,501>,<1,501>,<1,501>,<1,501>,<1,501>,<1,501>> with OI=2.42 computed in 0.01 s [2.08 GFlops/s]\n",
      "Performance[mode=advanced] arguments: {}\n"
     ]
    },
    {
     "name": "stdout",
     "output_type": "stream",
     "text": [
      "kN,N,kt1,kt2,nt;    10    20   275   275   501\n"
     ]
    },
    {
     "name": "stderr",
     "output_type": "stream",
     "text": [
      "Operator `Kernel` run in 0.01 s\n",
      "Global performance indicators\n",
      "  * Achieved 0.11 FD-GPts/s\n",
      "Local performance indicators\n",
      "  * section0<<1,508,508>,<1,501,501>> with OI=0.65 computed in 0.01 s [8.09 GFlops/s, 0.12 GPts/s]\n",
      "  * section1<<1,1>,<1,1>,<1,1>,<1,1>,<1,1>> with OI=1.93 computed in 0.01 s [0.08 GFlops/s, 0.01 GPts/s]\n",
      "  * section2<<1,501>,<1,501>,<1,501>,<1,501>,<1,501>,<1,501>> with OI=2.42 computed in 0.01 s [2.08 GFlops/s]\n",
      "Performance[mode=advanced] arguments: {}\n"
     ]
    },
    {
     "name": "stdout",
     "output_type": "stream",
     "text": [
      "kN,N,kt1,kt2,nt;    11    20   300   300   501\n"
     ]
    },
    {
     "name": "stderr",
     "output_type": "stream",
     "text": [
      "Operator `Kernel` run in 0.01 s\n",
      "Global performance indicators\n",
      "  * Achieved 0.11 FD-GPts/s\n",
      "Local performance indicators\n",
      "  * section0<<1,508,508>,<1,501,501>> with OI=0.65 computed in 0.01 s [7.91 GFlops/s, 0.12 GPts/s]\n",
      "  * section1<<1,1>,<1,1>,<1,1>,<1,1>,<1,1>> with OI=1.93 computed in 0.01 s [0.08 GFlops/s, 0.01 GPts/s]\n",
      "  * section2<<1,501>,<1,501>,<1,501>,<1,501>,<1,501>,<1,501>> with OI=2.42 computed in 0.01 s [2.08 GFlops/s]\n",
      "Performance[mode=advanced] arguments: {}\n"
     ]
    },
    {
     "name": "stdout",
     "output_type": "stream",
     "text": [
      "kN,N,kt1,kt2,nt;    12    20   325   325   501\n"
     ]
    },
    {
     "name": "stderr",
     "output_type": "stream",
     "text": [
      "Operator `Kernel` run in 0.01 s\n",
      "Global performance indicators\n",
      "  * Achieved 0.12 FD-GPts/s\n",
      "Local performance indicators\n",
      "  * section0<<1,508,508>,<1,501,501>> with OI=0.65 computed in 0.01 s [8.14 GFlops/s, 0.12 GPts/s]\n",
      "  * section1<<1,1>,<1,1>,<1,1>,<1,1>,<1,1>> with OI=1.93 computed in 0.01 s [0.08 GFlops/s, 0.01 GPts/s]\n",
      "  * section2<<1,501>,<1,501>,<1,501>,<1,501>,<1,501>,<1,501>> with OI=2.42 computed in 0.01 s [1.62 GFlops/s]\n",
      "Performance[mode=advanced] arguments: {}\n"
     ]
    },
    {
     "name": "stdout",
     "output_type": "stream",
     "text": [
      "kN,N,kt1,kt2,nt;    13    20   350   350   501\n"
     ]
    },
    {
     "name": "stderr",
     "output_type": "stream",
     "text": [
      "Operator `Kernel` run in 0.01 s\n",
      "Global performance indicators\n",
      "  * Achieved 0.12 FD-GPts/s\n",
      "Local performance indicators\n",
      "  * section0<<1,508,508>,<1,501,501>> with OI=0.65 computed in 0.01 s [8.17 GFlops/s, 0.12 GPts/s]\n",
      "  * section1<<1,1>,<1,1>,<1,1>,<1,1>,<1,1>> with OI=1.93 computed in 0.01 s [0.08 GFlops/s, 0.01 GPts/s]\n",
      "  * section2<<1,501>,<1,501>,<1,501>,<1,501>,<1,501>,<1,501>> with OI=2.42 computed in 0.01 s [2.08 GFlops/s]\n",
      "Performance[mode=advanced] arguments: {}\n"
     ]
    },
    {
     "name": "stdout",
     "output_type": "stream",
     "text": [
      "kN,N,kt1,kt2,nt;    14    20   375   375   501\n"
     ]
    },
    {
     "name": "stderr",
     "output_type": "stream",
     "text": [
      "Operator `Kernel` run in 0.01 s\n",
      "Global performance indicators\n",
      "  * Achieved 0.12 FD-GPts/s\n",
      "Local performance indicators\n",
      "  * section0<<1,508,508>,<1,501,501>> with OI=0.65 computed in 0.01 s [8.25 GFlops/s, 0.13 GPts/s]\n",
      "  * section1<<1,1>,<1,1>,<1,1>,<1,1>,<1,1>> with OI=1.93 computed in 0.01 s [0.08 GFlops/s, 0.01 GPts/s]\n",
      "  * section2<<1,501>,<1,501>,<1,501>,<1,501>,<1,501>,<1,501>> with OI=2.42 computed in 0.01 s [2.08 GFlops/s]\n",
      "Performance[mode=advanced] arguments: {}\n"
     ]
    },
    {
     "name": "stdout",
     "output_type": "stream",
     "text": [
      "kN,N,kt1,kt2,nt;    15    20   400   400   501\n"
     ]
    },
    {
     "name": "stderr",
     "output_type": "stream",
     "text": [
      "Operator `Kernel` run in 0.01 s\n",
      "Global performance indicators\n",
      "  * Achieved 0.12 FD-GPts/s\n",
      "Local performance indicators\n",
      "  * section0<<1,508,508>,<1,501,501>> with OI=0.65 computed in 0.01 s [8.23 GFlops/s, 0.12 GPts/s]\n",
      "  * section1<<1,1>,<1,1>,<1,1>,<1,1>,<1,1>> with OI=1.93 computed in 0.01 s [0.08 GFlops/s, 0.01 GPts/s]\n",
      "  * section2<<1,501>,<1,501>,<1,501>,<1,501>,<1,501>,<1,501>> with OI=2.42 computed in 0.01 s [2.08 GFlops/s]\n",
      "Performance[mode=advanced] arguments: {}\n"
     ]
    },
    {
     "name": "stdout",
     "output_type": "stream",
     "text": [
      "kN,N,kt1,kt2,nt;    16    20   425   425   501\n"
     ]
    },
    {
     "name": "stderr",
     "output_type": "stream",
     "text": [
      "Operator `Kernel` run in 0.01 s\n",
      "Global performance indicators\n",
      "  * Achieved 0.12 FD-GPts/s\n",
      "Local performance indicators\n",
      "  * section0<<1,508,508>,<1,501,501>> with OI=0.65 computed in 0.01 s [8.13 GFlops/s, 0.12 GPts/s]\n",
      "  * section1<<1,1>,<1,1>,<1,1>,<1,1>,<1,1>> with OI=1.93 computed in 0.01 s [0.08 GFlops/s, 0.01 GPts/s]\n",
      "  * section2<<1,501>,<1,501>,<1,501>,<1,501>,<1,501>,<1,501>> with OI=2.42 computed in 0.01 s [2.08 GFlops/s]\n",
      "Performance[mode=advanced] arguments: {}\n"
     ]
    },
    {
     "name": "stdout",
     "output_type": "stream",
     "text": [
      "kN,N,kt1,kt2,nt;    17    20   450   450   501\n"
     ]
    },
    {
     "name": "stderr",
     "output_type": "stream",
     "text": [
      "Operator `Kernel` run in 0.01 s\n",
      "Global performance indicators\n",
      "  * Achieved 0.11 FD-GPts/s\n",
      "Local performance indicators\n",
      "  * section0<<1,508,508>,<1,501,501>> with OI=0.65 computed in 0.01 s [8.00 GFlops/s, 0.12 GPts/s]\n",
      "  * section1<<1,1>,<1,1>,<1,1>,<1,1>,<1,1>> with OI=1.93 computed in 0.01 s [0.08 GFlops/s, 0.01 GPts/s]\n",
      "  * section2<<1,501>,<1,501>,<1,501>,<1,501>,<1,501>,<1,501>> with OI=2.42 computed in 0.01 s [2.08 GFlops/s]\n",
      "Performance[mode=advanced] arguments: {}\n"
     ]
    },
    {
     "name": "stdout",
     "output_type": "stream",
     "text": [
      "kN,N,kt1,kt2,nt;    18    20   475   475   501\n"
     ]
    },
    {
     "name": "stderr",
     "output_type": "stream",
     "text": [
      "Operator `Kernel` run in 0.01 s\n",
      "Global performance indicators\n",
      "  * Achieved 0.11 FD-GPts/s\n",
      "Local performance indicators\n",
      "  * section0<<1,508,508>,<1,501,501>> with OI=0.65 computed in 0.01 s [7.84 GFlops/s, 0.12 GPts/s]\n",
      "  * section1<<1,1>,<1,1>,<1,1>,<1,1>,<1,1>> with OI=1.93 computed in 0.01 s [0.08 GFlops/s, 0.01 GPts/s]\n",
      "  * section2<<1,501>,<1,501>,<1,501>,<1,501>,<1,501>,<1,501>> with OI=2.42 computed in 0.01 s [2.08 GFlops/s]\n",
      "Performance[mode=advanced] arguments: {}\n"
     ]
    },
    {
     "name": "stdout",
     "output_type": "stream",
     "text": [
      "kN,N,kt1,kt2,nt;    19    20   500   500   501\n"
     ]
    },
    {
     "name": "stderr",
     "output_type": "stream",
     "text": [
      "Operator `Kernel` run in 0.01 s\n",
      "Global performance indicators\n",
      "  * Achieved 0.12 FD-GPts/s\n",
      "Local performance indicators\n",
      "  * section0<<1,508,508>,<1,501,501>> with OI=0.65 computed in 0.01 s [8.15 GFlops/s, 0.12 GPts/s]\n",
      "  * section1<<1,1>,<1,1>,<1,1>,<1,1>,<1,1>> with OI=1.93 computed in 0.01 s [0.08 GFlops/s, 0.01 GPts/s]\n",
      "  * section2<<1,501>,<1,501>,<1,501>,<1,501>,<1,501>,<1,501>> with OI=2.42 computed in 0.01 s [1.94 GFlops/s]\n",
      "Performance[mode=advanced] arguments: {}\n"
     ]
    }
   ],
   "source": [
    "N = int((nt - 1) / M)\n",
    "\n",
    "for kN in range(0,N,1):\n",
    "    kt1 = (kN + 1) * M \n",
    "    kt2 = (kN + 1) * M \n",
    "    print(\"kN,N,kt1,kt2,nt; %5d %5d %5d %5d %5d\" % (kN, N, kt1, kt2, nt), flush=True)\n",
    "    op2(time_m=kt1, time_M=kt2)\n",
    "    \n",
    "# print(u1.data.shape)\n",
    "# print(u2.data.shape)\n",
    "# print(rec1.data.shape)\n",
    "# print(rec2.data.shape)\n",
    "# print(\"\");\n",
    "# for kt in range(1,25,1):\n",
    "#     print(\"\");\n",
    "#     print(\"extrema u1[%02d,:,:]; %+12.8e %+12.8e\" % (kt, np.min(u1.data[kt,:,:]), np.max(u1.data[kt,:,:])))\n",
    "#     print(\"extrema u2[%02d,:,:]; %+12.8e %+12.8e\" % (kt, np.min(u1.data[kt,:,:]), np.max(u1.data[kt,:,:])))"
   ]
  },
  {
   "cell_type": "code",
   "execution_count": null,
   "metadata": {},
   "outputs": [],
   "source": []
  },
  {
   "cell_type": "markdown",
   "metadata": {},
   "source": [
    "## Time blocking implementation of Jacobian linearized forward\n",
    "\n",
    "blah"
   ]
  },
  {
   "cell_type": "code",
   "execution_count": null,
   "metadata": {},
   "outputs": [],
   "source": []
  },
  {
   "cell_type": "markdown",
   "metadata": {},
   "source": [
    "## Time blocking implementation of Jacobian linearized adjoint\n",
    "\n",
    "blah"
   ]
  },
  {
   "cell_type": "code",
   "execution_count": null,
   "metadata": {},
   "outputs": [],
   "source": []
  }
 ],
 "metadata": {
  "anaconda-cloud": {},
  "kernelspec": {
   "display_name": "Python 3",
   "language": "python",
   "name": "python3"
  },
  "language_info": {
   "codemirror_mode": {
    "name": "ipython",
    "version": 3
   },
   "file_extension": ".py",
   "mimetype": "text/x-python",
   "name": "python",
   "nbconvert_exporter": "python",
   "pygments_lexer": "ipython3",
   "version": "3.8.3"
  }
 },
 "nbformat": 4,
 "nbformat_minor": 4
}
