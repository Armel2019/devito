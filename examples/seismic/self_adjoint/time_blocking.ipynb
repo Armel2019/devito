{
 "cells": [
  {
   "cell_type": "markdown",
   "metadata": {},
   "source": [
    "# Implementation of time blocking for compression/serialization and de-serialization/de-compression of wavefields with Devito operators"
   ]
  },
  {
   "cell_type": "markdown",
   "metadata": {},
   "source": [
    "## Compression note -- use of ```blosc```\n",
    "\n",
    "In this notebook we use ```blosc``` compression that is not loaded by default in devito. The first operational cell in the notebook uses the jupyter notebook *magic* command shown below to install the ```blosc``` compression library and python wrapper, which may require compilation. \n",
    "\n",
    "```\n",
    "import sys\n",
    "!{sys.executable} -m pip install blosc\n",
    "```\n",
    "\n",
    "Note that ```blosc``` provides *lossless compression*, and in practice one uses *lossy compression* to achieve significantly better compression ratios. Consider the use of ```blosc``` as a placeholder for your compression method of choice, providing all essential characteristics of what might be used at scale. \n",
    "\n",
    "```blosc``` Reference:\n",
    "* c project and library: https://blosc.org\n",
    "* python wrapper: https://github.com/Blosc/python-blosc\n",
    "* python wrapper documentation: http://python-blosc.blosc.org"
   ]
  },
  {
   "cell_type": "markdown",
   "metadata": {},
   "source": [
    "## Introduction \n",
    "\n",
    "The goal of this tutorial is to prototype the compression/serialization and de-serialization/de-compression for wavefields in Devito. The motivation is using seismic modeling operators for full waveform inversion (FWI). Some of the steps in FWI require the use of previsouly computed wavefields, and of particular interest the adjoint of the Jacobian linearized operator -- an operator that maps data perturbation into velocity perturbation -- requires a zero-lag temporal correlation with the wavefield that is computed with the nonlinear source. \n",
    "\n",
    "There are implemented alternatives to serialization/de-serialization like checkpointing (link to nb?), but we investigate the serialization option here. \n",
    "\n",
    "We aim to provide a *proof of concept* for compression/serialization and de-serialization/de-compression of the nonlinear wavefield. We will achieve this via _time blocking_: we will run a number of time steps in the generated c kernel, and then return control to python for compression/serialization and de-serialization/de-compression operations.\n",
    "\n",
    "In order to illustrate the use case for serialization, we write the workflow for computing the gradient of the FWI objective function, ignoring a lot of details, as follows:\n",
    "\n",
    "1. Generate the nonlinear forward modeled data at the receivers $d_{mod}$\n",
    "$$ \n",
    "d_{mod} = F m \n",
    "$$\n",
    "\n",
    "1. Compress and serialize the nonlinear source wavefield to disk during computation of 1. The entire nonlinear wavefield is of size $[nt,nx,nz]$ in 2D, but we deal with a block of $M$ time steps at a time, so the size of the chunk to be compressed and serialized is $[M,nx,nz]$. \n",
    "\n",
    "1. Compute the data residual $\\delta r$ by differencing observed and modeled data at the receivers \n",
    "$$\n",
    "\\delta r = d_{obs} - d_{mod}\n",
    "$$\n",
    "\n",
    "1. Backproject the data residual $\\delta r$ via time reversal with the adjoint linearized Jacobian operator.\n",
    "\n",
    "1. De-serialize and de-compress the nonlinear source wavefield from disk during computation in step 4, synchronizing time step between the nonlinear wavefield computed forward in time and time reversed adjoint wavefield. We will deal with de-serialization and de-compression of chunks of $M$ time steps of size $[M,nx,nz]$.\n",
    "\n",
    "1. Increment the model perturbation via zero lag correlation of the de-serialized nonlinear source wavefield and the backprojected receiver adjoint wavefield. Note that this computed model perturbation is the  _gradient_ of the FWI objective function.\n",
    "$$\n",
    "\\delta m = \\bigl( \\nabla F\\bigr)^\\top\\ \\delta r\n",
    "$$\n",
    "\n",
    "Please see other notebooks in this directory for more details, in particular the notebooks describing the self-adjoint modeling operators. More information: \n",
    "* Nonlinear operator ([sa_01_iso_implementation1.ipynb](sa_01_iso_implementation1.ipynb))\n",
    "* Linearized operators ([sa_02_iso_implementation2.ipynb](sa_02_iso_implementation2.ipynb))."
   ]
  },
  {
   "cell_type": "markdown",
   "metadata": {},
   "source": [
    "## Outline \n",
    "1. Define symbols\n",
    "1. Description of tests to verify correctness\n",
    "1. Description of time blocking implementation\n",
    "1. Ensure ```python-blosc``` compression is installed\n",
    "1. Create small 2D test model\n",
    "1. Implement and test the Nonlinear forward operation\n",
    "  - Save all time steps \n",
    "  - Time blocking plus compression/serialization\n",
    "  - Ensure differences are at machine epsilon \n",
    "1. Implement and test the Jacobian linearized forward operation\n",
    "  - Save all time steps \n",
    "  - Time blocking plus compression/serialization\n",
    "  - Ensure differences are at machine epsilon \n",
    "1. Implement and test theJacobian linearized adjoint operation\n",
    "  - Save all time steps \n",
    "  - Time blocking plus compression/serialization\n",
    "  - Ensure differences are at machine epsilon \n",
    "1. Discussion"
   ]
  },
  {
   "cell_type": "markdown",
   "metadata": {},
   "source": [
    "## Table of symbols\n",
    "\n",
    "We show the symbols here relevant to the implementation of the linearized operators.\n",
    "\n",
    "| Symbol &nbsp; &nbsp; &nbsp; &nbsp; &nbsp; &nbsp; &nbsp; &nbsp; &nbsp; &nbsp; &nbsp; &nbsp; &nbsp; &nbsp; &nbsp; &nbsp; &nbsp; | Description  | Dimensionality | \n",
    "|:---|:---|:---|\n",
    "| $m_0(x,y,z)$ | Reference P wave velocity    | function of space |\n",
    "| $\\delta m(x,y,z)$ | Perturbation to P wave velocity    | function of space |\n",
    "| $u_0(t,x,y,z)$ | Reference pressure wavefield | function of time and space |\n",
    "| $\\delta u(t,x,y,z)$ | Perturbation to pressure wavefield | function of time and space |\n",
    "| $s(t,x,y,z)$ | Source wavefield | function of time, localized in space to source location |\n",
    "| $r(t,x,y,z)$ | Receiver wavefield | function of time, localized in space to receiver locations |\n",
    "| $\\delta r(t,x,y,z)$ | Receiver wavefield perturbation | function of time, localized in space to receiver locations |\n",
    "| $F[m]\\ q$ | Forward linear modeling operator | Nonlinear in $m$, linear in $q, s$: $\\quad$ maps $q \\rightarrow s$ |\n",
    "| $F[m; q]$ | Forward nonlinear modeling operator | Nonlinear in $m$, linear in $q$: $\\quad$ maps $m \\rightarrow r$ |\n",
    "| $\\nabla F[m; q]\\ \\delta m$ | Forward Jacobian modeling operator | Linearized at $[m; q]$: $\\quad$ maps $\\delta m \\rightarrow \\delta r$ |\n",
    "| $\\bigl( \\nabla F[m; q] \\bigr)^\\top\\ \\delta r$ | Adjoint Jacobian modeling operator | Linearized at $[m; q]$: $\\quad$ maps $\\delta r \\rightarrow \\delta m$ |"
   ]
  },
  {
   "cell_type": "markdown",
   "metadata": {},
   "source": [
    "## Description of tests to verify correctness\n",
    "\n",
    "In order to make sure we have implemented these operators correctly, we will numerically compare the output from two runs:\n",
    "1. all time steps saved implementation \n",
    "1. time blocking plus compression/serialization implementation\n",
    "\n",
    "We perform these tests for three phases of FWI modeling:\n",
    "1. nonlinear forward (maps model to data)\n",
    "1. Jacobian linearized forward (maps model perturbation to data perturbation)\n",
    "1. Jacobian linearized adjoint (maps data perturbation to model perturbation)\n",
    "\n",
    "We will design the small 2D test experiment with a source in the middle of the model and short enough elapsed modeling time that we do not need to worry about boundary reflections for these tests. "
   ]
  },
  {
   "cell_type": "markdown",
   "metadata": {},
   "source": [
    "## Description of time blocking implementation\n",
    "\n",
    "We gratefully acknowledge Down Under Geosolutions (DUG) for in depth discussions about their production time blocking implementation. Those discussions shaped the implementation shown here. The most important idea is to separate the programmatic containers used for propagation and serialization. To do this we utilize Devito ```TimeFunction``` constructed two different ways.\n",
    "\n",
    "### Propagation uses ```TimeFunction(..., save=None)```\n",
    "\n",
    "We use a default constructed ```TimeFunction``` for propagation. This can be specified in the constructor via either ```save=None``` or no ```save``` argument at all. Devito backs such a default ```TimeFunction``` by a ```Buffer``` of size ```time_order+1```, or 3 for second order in time. We show below the mapping from the monotonic *ordinary time indices* to the buffered *modulo time indices* as used by a ```Buffer``` in a ```TimeFuntion``` with ```time_order=2```.\n",
    "\n",
    "### Modulo indexing for ```Buffer``` of size 3\n",
    "```\n",
    "Ordinary time indices:  0  1  2  3  4  5  6  7  8  9 10 11 12 13 14 15\n",
    "Modulo   time indices:  0  1  2  0  1  2  0  1  2  0  1  2  0  1  2  0\n",
    "```\n",
    "\n",
    "*Important note:* the modulo indexing of ```Buffer``` is the reason we will separate propagation from serialization. If we use a larger ```Bufffer``` as the ```TimeFunction``` for propagation, we would have to deal with the modulo indexing not just for the current time index, but also previous and next time indices (assuming second order in time). This means that the previous and next time steps can overwrite the locations of the ordinary time indices when you propagate for a block of time steps. **This is the reason we do not use the same ```TimeFunction``` for both propagation and serialization.**\n",
    "\n",
    "### Generated code for a second order in time PDE\n",
    "We now show an excerpt from Devito generated code for a second order in time operator. A second order in time PDE requires two wavefields in order to advance in time: the wavefield at the next time step $u(t+\\Delta t)$ is a function of the wavefield at previous time step $u(t-\\Delta t)$ and the wavefield at the current time step $u(t)$. Remember that Devito uses a ```Buffer``` of size 3 to handle this. \n",
    "\n",
    "In the generated code there are three modulo time indices that are a function of ordinary time and cycle through the values $[0,1,2]$:\n",
    "* ```t0``` -- current time step\n",
    "* ```t1``` -- next time step\n",
    "* ```t2``` -- previous time step\n",
    "\n",
    "We show an excerpt at the beginning of the time loop from the generated code below, with ordinary time loop index ```time```. Note that we have simplified the generated code by breaking a single for loop specification line into multiple lines for clarity. We have also added comments to help understand the mapping from ordinary to modulo time indices.\n",
    "\n",
    "```\n",
    "for (int time = time_m; time <= time_M; time += 1) {\n",
    "  t0 = (time + 0)%(5);    // time index for the current time step \n",
    "  t1 = (time + 1)%(5);    // time index for the next time step\n",
    "  t2 = (time + 4)%(5);    // time index for the  previous time step\n",
    "  \n",
    "  // ... PIE: propagation, source injection, receiver extraction ...\n",
    "}\n",
    "\n",
    "```\n",
    "\n",
    "It should be obvious that using a single container for both propagation and serialization is problematic because the loop runs over ordinary time indices ```time_m``` through ```time_M```, but will access stored previous time step wavefields at indices ```time_m-1``` through ```time_M-1``` and store computed next time step wavefields in indices ```time_m+1``` through ```time_M+1```. \n",
    "\n",
    "### Serialization uses ```TimeFunction(..., save=Buffer(M)``` \n",
    "\n",
    "We will use an independent second ```Buffer``` of size $M$ for serialization in our time blocking implementation. This second ```TimeFunction``` will also use modulo indexing, but by design we only access indices ```time_m``` through ```time_M``` in each time block. This means we do not need to worry about wrapping indices from previous time step or next time step wavefields.\n",
    "\n",
    "### Minimum and maximum allowed time indices for second order PDE\n",
    "\n",
    "It is important to note that for a second order in time system the minimum allowed time index ```time_m``` will be $1$, because time index $0$ would imply that the previous time step wavefield $u(t-\\Delta t)$ exists at time index $-1$, and $0$ is the minimum array location.\n",
    "\n",
    "Similarly, the maximum allowed time index ```time_M``` will be $(nt-2)$, because the time index $(nt-1)$ would imply that the next time step wavefield $u(t+\\Delta t)$ exists at $nt$, and $(nt-1)$ is the maximum array location.   \n",
    "\n",
    "### Flow chart for time blocking\n",
    "\n",
    "Putting this all together, here is a flow chart outlining control flow the first three time blocks with $M=5$.\n",
    "\n",
    "```\n",
    "Time block 1\n",
    "    Call generated code Operator(time_m=1, time_M=5)\n",
    "\tReturn control to python\n",
    "    Serialize/Compress indices 1,2,3,4,5 \n",
    "        (access modulo indices 1%5,2%5,3%5,4%5,5%5)\n",
    "\n",
    "Time block 2\n",
    "    Call generated code Operator(time_m=6, time_M=10)\n",
    "\tReturn control to python\n",
    "    Serialize/Compress indices 6,7,8,9,10\n",
    "        (access modulo indices 6%5,7%5,8%5,9%5,10%5)\n",
    "\n",
    "Time block 3\n",
    "    Call generated code Operator(time_m=11, time_M=15)\n",
    "\tReturn control to python\n",
    "    Serialize/Compress indices 11,12,13,14,15\n",
    "        (access modulo indices 11%5,12%5,13%5,14%5,15%5)\n",
    "```"
   ]
  },
  {
   "cell_type": "markdown",
   "metadata": {},
   "source": [
    "## Ensure that ```blosc``` is installed"
   ]
  },
  {
   "cell_type": "code",
   "execution_count": 1,
   "metadata": {},
   "outputs": [
    {
     "name": "stdout",
     "output_type": "stream",
     "text": [
      "Requirement already satisfied: blosc in /cpfs/lfs03/ESDRD/wask/local/lib/python3.8/site-packages (1.9.1)\n"
     ]
    }
   ],
   "source": [
    "# Install pyzfp package in the current Jupyter kernel\n",
    "import sys\n",
    "!{sys.executable} -m pip install blosc\n",
    "import blosc"
   ]
  },
  {
   "cell_type": "markdown",
   "metadata": {},
   "source": [
    "## Imports \n",
    "\n",
    "We have grouped all imports used in this notebook here for consistency."
   ]
  },
  {
   "cell_type": "code",
   "execution_count": 2,
   "metadata": {},
   "outputs": [],
   "source": [
    "from scipy.special import hankel2\n",
    "import numpy as np\n",
    "from examples.seismic import RickerSource, Receiver, TimeAxis, Model, AcquisitionGeometry\n",
    "from devito import (Grid, Function, TimeFunction, SpaceDimension, Constant, \n",
    "                    Eq, Operator, solve, configuration, norm, Buffer)\n",
    "from devito.finite_differences import Derivative\n",
    "from devito.builtins import gaussian_smooth\n",
    "from examples.seismic.self_adjoint import (acoustic_sa_setup, setup_w_over_q,\n",
    "                                           SaIsoAcousticWaveSolver)\n",
    "import matplotlib as mpl\n",
    "import matplotlib.pyplot as plt\n",
    "from matplotlib import cm\n",
    "from timeit import default_timer as timer\n",
    "\n",
    "# These lines force images to be displayed in the notebook, and scale up fonts \n",
    "%matplotlib inline\n",
    "mpl.rc('font', size=14)\n",
    "\n",
    "# Make white background for plots, not transparent\n",
    "plt.rcParams['figure.facecolor'] = 'white'\n",
    "\n",
    "# Set logging to debug, captures statistics on the performance of operators\n",
    "# configuration['log-level'] = 'DEBUG'\n",
    "configuration['log-level'] = 'INFO'"
   ]
  },
  {
   "cell_type": "markdown",
   "metadata": {},
   "source": [
    "## Instantiate the model for a two dimensional problem\n",
    " - We use a small 500x500 m. model\n",
    " - We use 10x10 m. discretization \n",
    " - We choose modeling sample rate explicitly (2 msec)\n",
    " - We use a modeling time range of 1 second\n",
    " - We use a wholespace model\n",
    "   - velocity: 1500 m/s\n",
    "   - density: 1 g/cm^3\n",
    " - We place the source in the center of the model\n",
    " - We use a vertical line of receivers right of center in model\n",
    " - We use the visco-acoustic absorbing boundary logic from the self-adjoint operators linked above, and add a 50 point absorbing boundary\n",
    " - We also generate a velocity perturbation that will be used in the linearized forward Jacobian operator"
   ]
  },
  {
   "cell_type": "code",
   "execution_count": 3,
   "metadata": {},
   "outputs": [
    {
     "name": "stdout",
     "output_type": "stream",
     "text": [
      "shape;            (501, 501)\n",
      "origin;           (0.0, 0.0)\n",
      "spacing;          (10.0, 10.0)\n",
      "extent;           (5000.0, 5000.0)\n",
      "\n",
      "grid.shape;       (501, 501)\n",
      "grid.extent;      (5000.0, 5000.0)\n",
      "grid.spacing_map; {h_x: 10.0, h_z: 10.0}\n"
     ]
    },
    {
     "name": "stderr",
     "output_type": "stream",
     "text": [
      "Operator `WOverQ_Operator` run in 0.01 s\n"
     ]
    },
    {
     "name": "stdout",
     "output_type": "stream",
     "text": [
      "\n",
      "time_range;  TimeAxis: start=0, stop=500, step=2, num=251\n",
      "\n",
      "src_coordinate  X;           +2300.0000\n",
      "src_coordinate  Z;           +2500.0000\n",
      "rec_coordinates X min/max;   +2700.0000   +2700.0000\n",
      "rec_coordinates Z min/max;      +0.0000   +5000.0000\n"
     ]
    }
   ],
   "source": [
    "# NBVAL_IGNORE_OUTPUT\n",
    "\n",
    "# Define dimensions for the interior of the model\n",
    "nx,nz = 501,501\n",
    "npad = 50\n",
    "dx,dz = 10.0,10.0  # Grid spacing in m\n",
    "shape = (nx, nz)   # Number of grid points\n",
    "spacing = (dx, dz) # Domain size is now 5 km by 5 km\n",
    "origin = (0., 0.)  # Origin of coordinate system, specified in m.\n",
    "extent = tuple([s*(n-1) for s, n in zip(spacing, shape)])\n",
    "\n",
    "# Define the dimensions \n",
    "x = SpaceDimension(name='x', spacing=Constant(name='h_x', value=extent[0]/(shape[0]-1)))\n",
    "z = SpaceDimension(name='z', spacing=Constant(name='h_z', value=extent[1]/(shape[1]-1)))\n",
    "\n",
    "# Initialize the Devito grid \n",
    "dtype = np.float32\n",
    "grid = Grid(extent=extent, shape=shape, origin=origin, dimensions=(x, z), dtype=dtype)\n",
    "\n",
    "print(\"shape;           \", shape)\n",
    "print(\"origin;          \", origin)\n",
    "print(\"spacing;         \", spacing)\n",
    "print(\"extent;          \", extent)\n",
    "\n",
    "print(\"\")\n",
    "print(\"grid.shape;      \", grid.shape)\n",
    "print(\"grid.extent;     \", grid.extent)\n",
    "print(\"grid.spacing_map;\", grid.spacing_map)\n",
    "\n",
    "# Create velocity and buoyancy fields. \n",
    "space_order = 8\n",
    "m0 = Function(name='m0', grid=grid, space_order=space_order)\n",
    "b = Function(name='b', grid=grid, space_order=space_order)\n",
    "m0.data[:] = 1.5\n",
    "b.data[:,:] = 1.0 / 1.0\n",
    "\n",
    "# Perturbation to velocity: a square offset from the center of the model\n",
    "dm = Function(name='dm', grid=grid, space_order=space_order)\n",
    "size = 10\n",
    "x0 = (nx-1)//2\n",
    "z0 = (nz-1)//2\n",
    "dm.data[:] = 0.0\n",
    "dm.data[x0-size:x0+size, z0-size:z0+size] = 1.0\n",
    "\n",
    "# Initialize the attenuation profile for the absorbing boundary\n",
    "fpeak = 0.010\n",
    "w = 2.0 * np.pi * fpeak\n",
    "qmin = 0.1\n",
    "wOverQ = Function(name='wOverQ_025', grid=grid, space_order=space_order)\n",
    "setup_w_over_q(wOverQ, w, qmin, 100.0, npad)\n",
    "\n",
    "# Time sampling\n",
    "t0 = dtype(0)     # Simulation time start\n",
    "tn = dtype(500)  # Simulation time end (1 second = 1000 msec)\n",
    "dt = dtype(2)\n",
    "time_range = TimeAxis(start=t0, stop=tn, step=dt)\n",
    "nt = time_range.num\n",
    "print(\"\")\n",
    "print(\"time_range; \", time_range)\n",
    "\n",
    "# Source in the center of the model at 10 Hz center frequency\n",
    "# Note we make two copes, one for save all and one for  time blocking\n",
    "src1 = RickerSource(name='src1', grid=grid, f0=fpeak, npoint=1, time_range=time_range)\n",
    "src2 = RickerSource(name='src2', grid=grid, f0=fpeak, npoint=1, time_range=time_range)\n",
    "src1.coordinates.data[0,0] = dx * ((nx-1) / 2 - 20)\n",
    "src1.coordinates.data[0,1] = dz * (nz-1) / 2\n",
    "src2.coordinates.data[0,0] = dx * ((nx-1) / 2 - 20)\n",
    "src2.coordinates.data[0,1] = dz * (nz-1) / 2\n",
    "\n",
    "# line of receivers along the right edge of the model\n",
    "# Note we make two copes, one for save all and one for  time blocking\n",
    "rec1 = Receiver(name='rec1', grid=grid, npoint=nz, time_range=time_range)\n",
    "rec1.coordinates.data[:,0] = dx * ((nx-1) / 2 + 20)\n",
    "rec1.coordinates.data[:,1] = np.linspace(0.0, dz*(nz-1), nz)\n",
    "\n",
    "rec2 = Receiver(name='rec2', grid=grid, npoint=nz, time_range=time_range)\n",
    "rec1.coordinates.data[:,0] = dx * ((nx-1) / 2 + 20)\n",
    "rec2.coordinates.data[:,1] = np.linspace(0.0, dz*(nz-1), nz)\n",
    "\n",
    "print(\"\")\n",
    "print(\"src_coordinate  X;         %+12.4f\" % (src1.coordinates.data[0,0]))\n",
    "print(\"src_coordinate  Z;         %+12.4f\" % (src2.coordinates.data[0,1]))\n",
    "print(\"rec_coordinates X min/max; %+12.4f %+12.4f\" % \\\n",
    "      (np.min(rec1.coordinates.data[:,0]), np.max(rec1.coordinates.data[:,0])))\n",
    "print(\"rec_coordinates Z min/max; %+12.4f %+12.4f\" % \\\n",
    "      (np.min(rec1.coordinates.data[:,1]), np.max(rec1.coordinates.data[:,1])))"
   ]
  },
  {
   "cell_type": "markdown",
   "metadata": {},
   "source": [
    "## Plot velocity and density models\n",
    "\n",
    "Next we plot the velocity and density models for illustration, with source location shown as a large red asterisk and receiver line shown as a black line."
   ]
  },
  {
   "cell_type": "code",
   "execution_count": 4,
   "metadata": {},
   "outputs": [
    {
     "data": {
      "image/png": "[encoded data removed]",
      "text/plain": [
       "<Figure size 864x1008 with 8 Axes>"
      ]
     },
     "metadata": {},
     "output_type": "display_data"
    }
   ],
   "source": [
    "# note: flip sense of second dimension to make the plot positive downwards\n",
    "plt_extent = [origin[0], origin[0] + extent[0], origin[1] + extent[1], origin[1]]\n",
    "\n",
    "vmin, vmax = 1.4, 1.7\n",
    "pmin, pmax = -1, +1\n",
    "dmin, dmax = 0.9, 1.1\n",
    "\n",
    "plt.figure(figsize=(12,14))\n",
    "\n",
    "# plot velocity \n",
    "plt.subplot(2, 2, 1)\n",
    "plt.imshow(np.transpose(m0.data), cmap=cm.jet, \n",
    "           vmin=vmin, vmax=vmax, extent=plt_extent)\n",
    "plt.colorbar(orientation='horizontal', label='Velocity (m/msec)')\n",
    "plt.plot(rec1.coordinates.data[:, 0], rec1.coordinates.data[:, 1], \\\n",
    "         'black', linestyle='-', label=\"Receiver\")\n",
    "plt.plot(src1.coordinates.data[:, 0], src1.coordinates.data[:, 1], \\\n",
    "         'red', linestyle='None', marker='*', markersize=15, label=\"Source\")\n",
    "plt.xlabel(\"X Coordinate (m)\")\n",
    "plt.ylabel(\"Z Coordinate (m)\")\n",
    "plt.title(\"Constant velocity\")\n",
    "\n",
    "# plot density\n",
    "plt.subplot(2, 2, 2)\n",
    "plt.imshow(np.transpose(1 / b.data), cmap=cm.jet,\n",
    "           vmin=dmin, vmax=dmax, extent=plt_extent)\n",
    "plt.colorbar(orientation='horizontal', label='Density (m^3/kg)')\n",
    "plt.plot(rec1.coordinates.data[:, 0], rec1.coordinates.data[:, 1], \\\n",
    "         'black', linestyle='-', label=\"Receiver\")\n",
    "plt.plot(src1.coordinates.data[:, 0], src1.coordinates.data[:, 1], \\\n",
    "         'red', linestyle='None', marker='*', markersize=15, label=\"Source\")\n",
    "plt.xlabel(\"X Coordinate (m)\")\n",
    "plt.ylabel(\"Z Coordinate (m)\")\n",
    "plt.title(\"Constant density\")\n",
    "\n",
    "# plot velocity perturbation\n",
    "plt.subplot(2, 2, 3)\n",
    "plt.imshow(np.transpose(dm.data), cmap=\"seismic\", \n",
    "           vmin=pmin, vmax=pmax, extent=plt_extent)\n",
    "plt.colorbar(orientation='horizontal', label='Velocity (m/msec)')\n",
    "plt.plot(rec1.coordinates.data[:, 0], rec1.coordinates.data[:, 1], \\\n",
    "         'black', linestyle='-', label=\"Receiver\")\n",
    "plt.plot(src1.coordinates.data[:, 0], src1.coordinates.data[:, 1], \\\n",
    "         'red', linestyle='None', marker='*', markersize=15, label=\"Source\")\n",
    "plt.xlabel(\"X Coordinate (m)\")\n",
    "plt.ylabel(\"Z Coordinate (m)\")\n",
    "plt.title(\"Velocity Perturbation\")\n",
    "\n",
    "# Plot the log of the generated Q profile\n",
    "q = np.log10(w / wOverQ.data)\n",
    "lmin, lmax = np.log10(qmin), np.log10(100)\n",
    "\n",
    "plt.subplot(2, 2, 4)\n",
    "plt.imshow(np.transpose(q.data), cmap=cm.jet, vmin=lmin, vmax=lmax, extent=plt_extent)\n",
    "plt.colorbar(orientation='horizontal', label='log10(Q)')\n",
    "plt.plot(rec1.coordinates.data[:, 0], rec1.coordinates.data[:, 1], \\\n",
    "         'black', linestyle='-', label=\"Receiver\")\n",
    "plt.plot(src1.coordinates.data[:, 0], src1.coordinates.data[:, 1], \\\n",
    "         'red', linestyle='None', marker='*', markersize=15, label=\"Source\")\n",
    "plt.xlabel(\"X Coordinate (m)\")\n",
    "plt.ylabel(\"Z Coordinate (m)\")\n",
    "plt.title(\"log10 of $Q$ model\")\n",
    "\n",
    "plt.tight_layout()\n",
    "None"
   ]
  },
  {
   "cell_type": "markdown",
   "metadata": {},
   "source": [
    "## Time blocking implementation of nonlinear forward"
   ]
  },
  {
   "cell_type": "markdown",
   "metadata": {},
   "source": [
    "### Save all time steps implementation\n",
    "\n",
    "We borrow the stencil from the self-adjoint operators shown in the jupyter notebooks linked above. \n",
    "\n",
    "When we instantiate the ```TimeFunction``` $u$ we pass the argument ```save=nt``` which allocates memory for ```nt``` time steps."
   ]
  },
  {
   "cell_type": "code",
   "execution_count": 5,
   "metadata": {},
   "outputs": [
    {
     "name": "stdout",
     "output_type": "stream",
     "text": [
      "spacing_map;  {h_x: 10.0, h_z: 10.0, dt: 2.0}\n"
     ]
    },
    {
     "name": "stderr",
     "output_type": "stream",
     "text": [
      "Operator `Kernel` run in 0.27 s\n"
     ]
    },
    {
     "data": {
      "text/plain": [
       "PerformanceSummary([(PerfKey(name='section0', rank=None),\n",
       "                     PerfEntry(time=0.2603579999999996, gflopss=0.0, gpointss=0.0, oi=0.0, ops=0, itershapes=[])),\n",
       "                    (PerfKey(name='section1', rank=None),\n",
       "                     PerfEntry(time=5.2999999999999947e-05, gflopss=0.0, gpointss=0.0, oi=0.0, ops=0, itershapes=[])),\n",
       "                    (PerfKey(name='section2', rank=None),\n",
       "                     PerfEntry(time=0.002193000000000004, gflopss=0.0, gpointss=0.0, oi=0.0, ops=0, itershapes=[]))])"
      ]
     },
     "execution_count": 5,
     "metadata": {},
     "output_type": "execute_result"
    }
   ],
   "source": [
    "# NBVAL_IGNORE_OUTPUT\n",
    "\n",
    "# Create a TimeFunction saving all time steps\n",
    "u1 = TimeFunction(name=\"u1\", grid=grid, time_order=2, space_order=space_order, save=nt)\n",
    "t,x,z = u1.dimensions\n",
    "\n",
    "# Source terms (see notebooks linked above for more detail)\n",
    "src1_term = src1.inject(field=u1.forward, expr=src1 * t.spacing**2 * m0**2 / b)\n",
    "rec1_term = rec1.interpolate(expr=u1.forward)\n",
    "\n",
    "# Time update equation (see notebooks linked above for more detail)\n",
    "eq_time_update1 = (t.spacing**2 * m0**2 / b) * \\\n",
    "    ((b * u1.dx(x0=x+x.spacing/2)).dx(x0=x-x.spacing/2) + \\\n",
    "     (b * u1.dz(x0=z+z.spacing/2)).dz(x0=z-z.spacing/2)) + \\\n",
    "    (2 - t.spacing * wOverQ) * u1 + \\\n",
    "    (t.spacing * wOverQ - 1) * u1.backward\n",
    "\n",
    "stencil1 = Eq(u1.forward, eq_time_update1)\n",
    "\n",
    "# Update spacing_map (see notebooks linked above for more detail)\n",
    "spacing_map = grid.spacing_map\n",
    "spacing_map.update({t.spacing : dt})\n",
    "print(\"spacing_map; \", spacing_map)\n",
    "\n",
    "# Build and run the Operator\n",
    "# Note the first time sample we run is 1, and the last is nt-2 \n",
    "op1 = Operator([stencil1] + src1_term + rec1_term, subs=spacing_map)\n",
    "op1(time_m=1, time_M=nt - 2)\n",
    "# print(op1)"
   ]
  },
  {
   "cell_type": "code",
   "execution_count": 6,
   "metadata": {},
   "outputs": [
    {
     "name": "stdout",
     "output_type": "stream",
     "text": [
      "2229.9753\n",
      "154.82512\n"
     ]
    }
   ],
   "source": [
    "# NBVAL_IGNORE_OUTPUT\n",
    "\n",
    "# Continuous integration hooks \n",
    "# We ensure the norm of these computed wavefields is repeatable\n",
    "print(norm(u1))\n",
    "print(norm(rec1))\n",
    "assert np.isclose(norm(u1), 2229.983, atol=0, rtol=1e-3)\n",
    "assert np.isclose(norm(rec1), 154.825, atol=0, rtol=1e-3)"
   ]
  },
  {
   "cell_type": "markdown",
   "metadata": {},
   "source": [
    "### Time blocking implementation\n",
    "\n",
    "We now will instantiate a ```TimeFunction``` $u2$ that uses a ```Buffer``` for saving time steps. We choose the buffer size $M$, hopefully a reasonable number in practice that would allow time-tiling but still not create too large a memory footprint for $u2$."
   ]
  },
  {
   "cell_type": "code",
   "execution_count": 7,
   "metadata": {},
   "outputs": [
    {
     "name": "stdout",
     "output_type": "stream",
     "text": [
      "spacing_map;  {h_x: 10.0, h_z: 10.0, dt: 2.0}\n"
     ]
    }
   ],
   "source": [
    "# Create a TimeFunction using a Buffer to save only M time steps\n",
    "M = 5\n",
    "u2 = TimeFunction(name=\"u2\", grid=grid, time_order=2, space_order=space_order, save=Buffer(M))\n",
    "\n",
    "# Source and receiver terms (see notebooks linked above for more detail)\n",
    "src2_term = src2.inject(field=u2.forward, expr=src2 * t.spacing**2 * m0**2 / b)\n",
    "rec2_term = rec2.interpolate(expr=u2.forward)\n",
    "\n",
    "# We need to regenerate the time update equation with the new TimeFunction in order\n",
    "# to get the time handling correct\n",
    "eq_time_update2 = (t.spacing**2 * m0**2 / b) * \\\n",
    "    ((b * u2.dx(x0=x+x.spacing/2)).dx(x0=x-x.spacing/2) + \\\n",
    "     (b * u2.dz(x0=z+z.spacing/2)).dz(x0=z-z.spacing/2)) + \\\n",
    "    (2 - t.spacing * wOverQ) * u2 + \\\n",
    "    (t.spacing * wOverQ - 1) * u2.backward\n",
    "\n",
    "stencil2 = Eq(u2.forward, eq_time_update2)\n",
    "\n",
    "# Update spacing_map (see notebooks linked above for more detail)\n",
    "spacing_map = grid.spacing_map\n",
    "spacing_map.update({t.spacing : dt})\n",
    "print(\"spacing_map; \", spacing_map)\n",
    "\n",
    "# Build the Operator \n",
    "op2 = Operator([stencil2] + src2_term + rec2_term, subs=spacing_map)\n",
    "# print(op2)"
   ]
  },
  {
   "cell_type": "markdown",
   "metadata": {},
   "source": [
    "### Run loop over blocks of M time steps\n",
    "\n",
    "Here we will run over blocks of $M$ time steps, where:\n",
    "* the total number of time steps $nt$ \n",
    "* the number of time steps in a time block $M$ \n",
    "* the total number of time blocks is $N = 1 + (nt-1)\\ /\\ M$\n",
    "\n",
    "$$\n",
    "\\scriptsize\n",
    "\\begin{matrix}\n",
    "\\text{time block} & & \\text{time} & & \\text{modulo t0} & & \\text{modulo t1} & & \\text{modulo t2} \\\\ \n",
    "\\hline\n",
    "  & \\; &  1 & \\; &  1 & \\; &  2 & \\; &  0 \\\\\n",
    "  & \\; &  2 & \\; &  2 & \\; &  3 & \\; &  1 \\\\\n",
    "1 & \\; &  3 & \\; &  3 & \\; &  4 & \\; &  2 \\\\\n",
    "  & \\; &  4 & \\; &  4 & \\; &  0 & \\; &  3 \\\\\n",
    "  & \\; &  5 & \\; &  0 & \\; &  1 & \\; &  4 \\\\\n",
    "\\hline\n",
    "  & \\; &  6 & \\; &  1 & \\; &  2 & \\; &  0 \\\\\n",
    "  & \\; &  7 & \\; &  2 & \\; &  3 & \\; &  1 \\\\\n",
    "2 & \\; &  8 & \\; &  3 & \\; &  4 & \\; &  2 \\\\\n",
    "  & \\; &  9 & \\; &  4 & \\; &  0 & \\; &  3 \\\\\n",
    "  & \\; & 10 & \\; &  0 & \\; &  1 & \\; &  4 \\\\\n",
    "\\hline\n",
    "  & \\; & 11 & \\; &  1 & \\; &  2 & \\; &  0 \\\\\n",
    "  & \\; & 12 & \\; &  2 & \\; &  3 & \\; &  1 \\\\\n",
    "3 & \\; & 13 & \\; &  3 & \\; &  4 & \\; &  2 \\\\\n",
    "  & \\; & 14 & \\; &  4 & \\; &  0 & \\; &  3 \\\\\n",
    "  & \\; & 15 & \\; &  0 & \\; &  1 & \\; &  4 \\\\\n",
    "\\hline\n",
    "\\end{matrix}\n",
    "$$\n",
    "\n",
    "The next cell that exercises the time blocking operator. At the end of execution, we test the correctness by measuring the norm of the difference between the ```Buffer``` implementation and the save all time steps implementation.\n",
    "\n",
    "### Note on compression \n",
    "\n",
    "We will use the low level interface to blosc compression that allows more easy use of numpy arrays. A synopsis of the compression and decompression calls shown below for devito ```TimeFunction``` $u$:\n",
    "\n",
    "```\n",
    "    c = blosc.compress_ptr(u._data.__array_interface__['data'][0], \n",
    "                           np.prod(u2._data.shape), \n",
    "                           u._data.dtype.itemsize, 9, True, 'zstd')\n",
    "    \n",
    "    blosc.decompress_ptr(u._data, d.__array_interface__['data'][0])\n",
    "```"
   ]
  },
  {
   "cell_type": "code",
   "execution_count": 41,
   "metadata": {},
   "outputs": [
    {
     "name": "stdout",
     "output_type": "stream",
     "text": [
      "u2._data.dtype;           float32\n",
      "u2._data.dtype.itemsize;  4\n",
      "u2._data.shape;           (5, 517, 517)\n",
      "prod(u2._data.shape)*4;   5345780\n"
     ]
    },
    {
     "name": "stderr",
     "output_type": "stream",
     "text": [
      "Operator `Kernel` run in 0.01 s\n"
     ]
    },
    {
     "name": "stdout",
     "output_type": "stream",
     "text": [
      "kt1_op,kt2_op,size,ratio1,ratio2,ratio3;    1    4    4 163.815156 173.008188 181.157613 445.110741 814.781283\n"
     ]
    },
    {
     "name": "stderr",
     "output_type": "stream",
     "text": [
      "Operator `Kernel` run in 0.01 s\n"
     ]
    },
    {
     "name": "stdout",
     "output_type": "stream",
     "text": [
      "kt1_op,kt2_op,size,ratio1,ratio2,ratio3;    5    9    5 43.848419 48.421482 56.299815 73.743034 102.734313\n"
     ]
    },
    {
     "name": "stderr",
     "output_type": "stream",
     "text": [
      "Operator `Kernel` run in 0.01 s\n"
     ]
    },
    {
     "name": "stdout",
     "output_type": "stream",
     "text": [
      "kt1_op,kt2_op,size,ratio1,ratio2,ratio3;   10   14    5 30.620453 33.392968 39.334393 47.598009 66.084581\n"
     ]
    },
    {
     "name": "stderr",
     "output_type": "stream",
     "text": [
      "Operator `Kernel` run in 0.01 s\n"
     ]
    },
    {
     "name": "stdout",
     "output_type": "stream",
     "text": [
      "kt1_op,kt2_op,size,ratio1,ratio2,ratio3;   15   19    5 25.597001 27.919820 32.847382 38.644565 53.824344\n"
     ]
    },
    {
     "name": "stderr",
     "output_type": "stream",
     "text": [
      "Operator `Kernel` run in 0.01 s\n"
     ]
    },
    {
     "name": "stdout",
     "output_type": "stream",
     "text": [
      "kt1_op,kt2_op,size,ratio1,ratio2,ratio3;   20   24    5 23.016361 24.725858 29.102500 33.712642 46.672953\n"
     ]
    },
    {
     "name": "stderr",
     "output_type": "stream",
     "text": [
      "Operator `Kernel` run in 0.01 s\n"
     ]
    },
    {
     "name": "stdout",
     "output_type": "stream",
     "text": [
      "kt1_op,kt2_op,size,ratio1,ratio2,ratio3;   25   29    5 20.933961 22.431289 26.377291 30.176574 41.726743\n"
     ]
    },
    {
     "name": "stderr",
     "output_type": "stream",
     "text": [
      "Operator `Kernel` run in 0.01 s\n"
     ]
    },
    {
     "name": "stdout",
     "output_type": "stream",
     "text": [
      "kt1_op,kt2_op,size,ratio1,ratio2,ratio3;   30   34    5 19.166547 20.552945 24.090399 27.271466 37.658803\n"
     ]
    },
    {
     "name": "stderr",
     "output_type": "stream",
     "text": [
      "Operator `Kernel` run in 0.01 s\n"
     ]
    },
    {
     "name": "stdout",
     "output_type": "stream",
     "text": [
      "kt1_op,kt2_op,size,ratio1,ratio2,ratio3;   35   39    5 17.809471 18.877275 22.095478 24.820455 34.203798\n"
     ]
    },
    {
     "name": "stderr",
     "output_type": "stream",
     "text": [
      "Operator `Kernel` run in 0.01 s\n"
     ]
    },
    {
     "name": "stdout",
     "output_type": "stream",
     "text": [
      "kt1_op,kt2_op,size,ratio1,ratio2,ratio3;   40   44    5 16.563068 17.390815 20.342480 22.786592 31.322134\n"
     ]
    },
    {
     "name": "stderr",
     "output_type": "stream",
     "text": [
      "Operator `Kernel` run in 0.01 s\n"
     ]
    },
    {
     "name": "stdout",
     "output_type": "stream",
     "text": [
      "kt1_op,kt2_op,size,ratio1,ratio2,ratio3;   45   49    5 15.409614 16.263847 18.963660 21.189364 29.143592\n"
     ]
    },
    {
     "name": "stderr",
     "output_type": "stream",
     "text": [
      "Operator `Kernel` run in 0.01 s\n"
     ]
    },
    {
     "name": "stdout",
     "output_type": "stream",
     "text": [
      "kt1_op,kt2_op,size,ratio1,ratio2,ratio3;   50   54    5 14.488465 15.211680 17.735025 19.732387 27.284271\n"
     ]
    },
    {
     "name": "stderr",
     "output_type": "stream",
     "text": [
      "Operator `Kernel` run in 0.01 s\n"
     ]
    },
    {
     "name": "stdout",
     "output_type": "stream",
     "text": [
      "kt1_op,kt2_op,size,ratio1,ratio2,ratio3;   55   59    5 13.604675 14.281959 16.656582 18.501222 25.568964\n"
     ]
    },
    {
     "name": "stderr",
     "output_type": "stream",
     "text": [
      "Operator `Kernel` run in 0.01 s\n"
     ]
    },
    {
     "name": "stdout",
     "output_type": "stream",
     "text": [
      "kt1_op,kt2_op,size,ratio1,ratio2,ratio3;   60   64    5 12.929658 13.460626 15.665198 17.355921 24.014537\n"
     ]
    },
    {
     "name": "stderr",
     "output_type": "stream",
     "text": [
      "Operator `Kernel` run in 0.01 s\n"
     ]
    },
    {
     "name": "stdout",
     "output_type": "stream",
     "text": [
      "kt1_op,kt2_op,size,ratio1,ratio2,ratio3;   65   69    5 12.230779 12.723625 14.811250 16.368474 22.610700\n"
     ]
    },
    {
     "name": "stderr",
     "output_type": "stream",
     "text": [
      "Operator `Kernel` run in 0.01 s\n"
     ]
    },
    {
     "name": "stdout",
     "output_type": "stream",
     "text": [
      "kt1_op,kt2_op,size,ratio1,ratio2,ratio3;   70   74    5 11.610786 12.079876 14.055377 15.492590 21.393903\n"
     ]
    },
    {
     "name": "stderr",
     "output_type": "stream",
     "text": [
      "Operator `Kernel` run in 0.01 s\n"
     ]
    },
    {
     "name": "stdout",
     "output_type": "stream",
     "text": [
      "kt1_op,kt2_op,size,ratio1,ratio2,ratio3;   75   79    5 11.044954 11.449910 13.326237 14.657417 20.273664\n"
     ]
    },
    {
     "name": "stderr",
     "output_type": "stream",
     "text": [
      "Operator `Kernel` run in 0.01 s\n"
     ]
    },
    {
     "name": "stdout",
     "output_type": "stream",
     "text": [
      "kt1_op,kt2_op,size,ratio1,ratio2,ratio3;   80   84    5 10.482559 10.896057 12.691665 13.948291 19.350119\n"
     ]
    },
    {
     "name": "stderr",
     "output_type": "stream",
     "text": [
      "Operator `Kernel` run in 0.01 s\n"
     ]
    },
    {
     "name": "stdout",
     "output_type": "stream",
     "text": [
      "kt1_op,kt2_op,size,ratio1,ratio2,ratio3;   85   89    5 10.068710 10.403447 12.097399 13.264634 18.423686\n"
     ]
    },
    {
     "name": "stderr",
     "output_type": "stream",
     "text": [
      "Operator `Kernel` run in 0.01 s\n"
     ]
    },
    {
     "name": "stdout",
     "output_type": "stream",
     "text": [
      "kt1_op,kt2_op,size,ratio1,ratio2,ratio3;   90   94    5 9.604124 9.912755 11.526742 12.613178 17.454297\n"
     ]
    },
    {
     "name": "stderr",
     "output_type": "stream",
     "text": [
      "Operator `Kernel` run in 0.01 s\n"
     ]
    },
    {
     "name": "stdout",
     "output_type": "stream",
     "text": [
      "kt1_op,kt2_op,size,ratio1,ratio2,ratio3;   95   99    5 9.181955 9.457339 11.005163 12.025474 16.626173\n"
     ]
    },
    {
     "name": "stderr",
     "output_type": "stream",
     "text": [
      "Operator `Kernel` run in 0.01 s\n"
     ]
    },
    {
     "name": "stdout",
     "output_type": "stream",
     "text": [
      "kt1_op,kt2_op,size,ratio1,ratio2,ratio3;  100  104    5 8.820662 9.065945 10.541180 11.494941 15.890811\n"
     ]
    },
    {
     "name": "stderr",
     "output_type": "stream",
     "text": [
      "Operator `Kernel` run in 0.01 s\n"
     ]
    },
    {
     "name": "stdout",
     "output_type": "stream",
     "text": [
      "kt1_op,kt2_op,size,ratio1,ratio2,ratio3;  105  109    5 8.463441 8.707617 10.122417 11.019841 15.237783\n"
     ]
    },
    {
     "name": "stderr",
     "output_type": "stream",
     "text": [
      "Operator `Kernel` run in 0.01 s\n"
     ]
    },
    {
     "name": "stdout",
     "output_type": "stream",
     "text": [
      "kt1_op,kt2_op,size,ratio1,ratio2,ratio3;  110  114    5 8.135760 8.359665 9.718381 10.551187 14.575491\n"
     ]
    },
    {
     "name": "stderr",
     "output_type": "stream",
     "text": [
      "Operator `Kernel` run in 0.01 s\n"
     ]
    },
    {
     "name": "stdout",
     "output_type": "stream",
     "text": [
      "kt1_op,kt2_op,size,ratio1,ratio2,ratio3;  115  119    5 7.843114 8.032619 9.331755 10.110490 13.944397\n"
     ]
    },
    {
     "name": "stderr",
     "output_type": "stream",
     "text": [
      "Operator `Kernel` run in 0.01 s\n"
     ]
    },
    {
     "name": "stdout",
     "output_type": "stream",
     "text": [
      "kt1_op,kt2_op,size,ratio1,ratio2,ratio3;  120  124    5 7.522370 7.732222 8.990805 9.731207 13.405773\n"
     ]
    },
    {
     "name": "stderr",
     "output_type": "stream",
     "text": [
      "Operator `Kernel` run in 0.01 s\n"
     ]
    },
    {
     "name": "stdout",
     "output_type": "stream",
     "text": [
      "kt1_op,kt2_op,size,ratio1,ratio2,ratio3;  125  129    5 7.252065 7.439367 8.657989 9.356303 12.912325\n"
     ]
    },
    {
     "name": "stderr",
     "output_type": "stream",
     "text": [
      "Operator `Kernel` run in 0.01 s\n"
     ]
    },
    {
     "name": "stdout",
     "output_type": "stream",
     "text": [
      "kt1_op,kt2_op,size,ratio1,ratio2,ratio3;  130  134    5 6.993058 7.167818 8.348216 9.013529 12.449853\n"
     ]
    },
    {
     "name": "stderr",
     "output_type": "stream",
     "text": [
      "Operator `Kernel` run in 0.01 s\n"
     ]
    },
    {
     "name": "stdout",
     "output_type": "stream",
     "text": [
      "kt1_op,kt2_op,size,ratio1,ratio2,ratio3;  135  139    5 6.768018 6.904926 8.055556 8.682570 12.006594\n"
     ]
    },
    {
     "name": "stderr",
     "output_type": "stream",
     "text": [
      "Operator `Kernel` run in 0.01 s\n"
     ]
    },
    {
     "name": "stdout",
     "output_type": "stream",
     "text": [
      "kt1_op,kt2_op,size,ratio1,ratio2,ratio3;  140  144    5 6.542414 6.678493 7.787381 8.384327 11.592481\n"
     ]
    },
    {
     "name": "stderr",
     "output_type": "stream",
     "text": [
      "Operator `Kernel` run in 0.01 s\n"
     ]
    },
    {
     "name": "stdout",
     "output_type": "stream",
     "text": [
      "kt1_op,kt2_op,size,ratio1,ratio2,ratio3;  145  149    5 6.328404 6.462742 7.536762 8.107811 11.216704\n"
     ]
    },
    {
     "name": "stderr",
     "output_type": "stream",
     "text": [
      "Operator `Kernel` run in 0.01 s\n"
     ]
    },
    {
     "name": "stdout",
     "output_type": "stream",
     "text": [
      "kt1_op,kt2_op,size,ratio1,ratio2,ratio3;  150  154    5 6.143494 6.258530 7.296041 7.842838 10.826502\n"
     ]
    },
    {
     "name": "stderr",
     "output_type": "stream",
     "text": [
      "Operator `Kernel` run in 0.01 s\n"
     ]
    },
    {
     "name": "stdout",
     "output_type": "stream",
     "text": [
      "kt1_op,kt2_op,size,ratio1,ratio2,ratio3;  155  159    5 5.911218 6.043140 7.041379 7.559687 10.432928\n"
     ]
    },
    {
     "name": "stderr",
     "output_type": "stream",
     "text": [
      "Operator `Kernel` run in 0.01 s\n"
     ]
    },
    {
     "name": "stdout",
     "output_type": "stream",
     "text": [
      "kt1_op,kt2_op,size,ratio1,ratio2,ratio3;  160  164    5 5.708132 5.856932 6.828579 7.320519 10.075978\n"
     ]
    },
    {
     "name": "stderr",
     "output_type": "stream",
     "text": [
      "Operator `Kernel` run in 0.01 s\n"
     ]
    },
    {
     "name": "stdout",
     "output_type": "stream",
     "text": [
      "kt1_op,kt2_op,size,ratio1,ratio2,ratio3;  165  169    5 5.549387 5.675751 6.619169 7.097000 9.750714\n"
     ]
    },
    {
     "name": "stderr",
     "output_type": "stream",
     "text": [
      "Operator `Kernel` run in 0.01 s\n"
     ]
    },
    {
     "name": "stdout",
     "output_type": "stream",
     "text": [
      "kt1_op,kt2_op,size,ratio1,ratio2,ratio3;  170  174    5 5.392261 5.515748 6.426645 6.888989 9.451871\n"
     ]
    },
    {
     "name": "stderr",
     "output_type": "stream",
     "text": [
      "Operator `Kernel` run in 0.01 s\n"
     ]
    },
    {
     "name": "stdout",
     "output_type": "stream",
     "text": [
      "kt1_op,kt2_op,size,ratio1,ratio2,ratio3;  175  179    5 5.251876 5.356729 6.241811 6.680238 9.176832\n"
     ]
    },
    {
     "name": "stderr",
     "output_type": "stream",
     "text": [
      "Operator `Kernel` run in 0.01 s\n"
     ]
    },
    {
     "name": "stdout",
     "output_type": "stream",
     "text": [
      "kt1_op,kt2_op,size,ratio1,ratio2,ratio3;  180  184    5 5.101855 5.204002 6.061112 6.478555 8.893211\n"
     ]
    },
    {
     "name": "stderr",
     "output_type": "stream",
     "text": [
      "Operator `Kernel` run in 0.01 s\n"
     ]
    },
    {
     "name": "stdout",
     "output_type": "stream",
     "text": [
      "kt1_op,kt2_op,size,ratio1,ratio2,ratio3;  185  189    5 4.959624 5.058661 5.897373 6.305882 8.652033\n"
     ]
    },
    {
     "name": "stderr",
     "output_type": "stream",
     "text": [
      "Operator `Kernel` run in 0.01 s\n"
     ]
    },
    {
     "name": "stdout",
     "output_type": "stream",
     "text": [
      "kt1_op,kt2_op,size,ratio1,ratio2,ratio3;  190  194    5 4.822783 4.922939 5.742803 6.130777 8.413649\n"
     ]
    },
    {
     "name": "stderr",
     "output_type": "stream",
     "text": [
      "Operator `Kernel` run in 0.01 s\n"
     ]
    },
    {
     "name": "stdout",
     "output_type": "stream",
     "text": [
      "kt1_op,kt2_op,size,ratio1,ratio2,ratio3;  195  199    5 4.694952 4.804539 5.593523 5.960704 8.183122\n"
     ]
    },
    {
     "name": "stderr",
     "output_type": "stream",
     "text": [
      "Operator `Kernel` run in 0.01 s\n"
     ]
    },
    {
     "name": "stdout",
     "output_type": "stream",
     "text": [
      "kt1_op,kt2_op,size,ratio1,ratio2,ratio3;  200  204    5 4.559499 4.669219 5.438058 5.793678 7.943977\n"
     ]
    },
    {
     "name": "stderr",
     "output_type": "stream",
     "text": [
      "Operator `Kernel` run in 0.01 s\n"
     ]
    },
    {
     "name": "stdout",
     "output_type": "stream",
     "text": [
      "kt1_op,kt2_op,size,ratio1,ratio2,ratio3;  205  209    5 4.433959 4.544750 5.294770 5.641847 7.730377\n"
     ]
    },
    {
     "name": "stderr",
     "output_type": "stream",
     "text": [
      "Operator `Kernel` run in 0.01 s\n"
     ]
    },
    {
     "name": "stdout",
     "output_type": "stream",
     "text": [
      "kt1_op,kt2_op,size,ratio1,ratio2,ratio3;  210  214    5 4.311040 4.421731 5.155242 5.489489 7.510491\n"
     ]
    },
    {
     "name": "stderr",
     "output_type": "stream",
     "text": [
      "Operator `Kernel` run in 0.01 s\n"
     ]
    },
    {
     "name": "stdout",
     "output_type": "stream",
     "text": [
      "kt1_op,kt2_op,size,ratio1,ratio2,ratio3;  215  219    5 4.197137 4.314081 5.024763 5.345689 7.302549\n"
     ]
    },
    {
     "name": "stderr",
     "output_type": "stream",
     "text": [
      "Operator `Kernel` run in 0.01 s\n"
     ]
    },
    {
     "name": "stdout",
     "output_type": "stream",
     "text": [
      "kt1_op,kt2_op,size,ratio1,ratio2,ratio3;  220  224    5 4.090437 4.205620 4.897547 5.210739 7.112618\n"
     ]
    },
    {
     "name": "stderr",
     "output_type": "stream",
     "text": [
      "Operator `Kernel` run in 0.01 s\n"
     ]
    },
    {
     "name": "stdout",
     "output_type": "stream",
     "text": [
      "kt1_op,kt2_op,size,ratio1,ratio2,ratio3;  225  229    5 3.990940 4.105828 4.783293 5.087624 6.936275\n"
     ]
    },
    {
     "name": "stderr",
     "output_type": "stream",
     "text": [
      "Operator `Kernel` run in 0.01 s\n"
     ]
    },
    {
     "name": "stdout",
     "output_type": "stream",
     "text": [
      "kt1_op,kt2_op,size,ratio1,ratio2,ratio3;  230  234    5 3.899385 4.010034 4.673485 4.965756 6.775301\n"
     ]
    },
    {
     "name": "stderr",
     "output_type": "stream",
     "text": [
      "Operator `Kernel` run in 0.01 s\n"
     ]
    },
    {
     "name": "stdout",
     "output_type": "stream",
     "text": [
      "kt1_op,kt2_op,size,ratio1,ratio2,ratio3;  235  239    5 3.805725 3.917258 4.563266 4.844948 6.601252\n"
     ]
    },
    {
     "name": "stderr",
     "output_type": "stream",
     "text": [
      "Operator `Kernel` run in 0.01 s\n"
     ]
    },
    {
     "name": "stdout",
     "output_type": "stream",
     "text": [
      "kt1_op,kt2_op,size,ratio1,ratio2,ratio3;  240  244    5 3.718687 3.833092 4.462645 4.738671 6.449114\n"
     ]
    },
    {
     "name": "stderr",
     "output_type": "stream",
     "text": [
      "Operator `Kernel` run in 0.01 s\n"
     ]
    },
    {
     "name": "stdout",
     "output_type": "stream",
     "text": [
      "kt1_op,kt2_op,size,ratio1,ratio2,ratio3;  245  249    5 3.632621 3.746293 4.354390 4.620233 6.278207\n"
     ]
    },
    {
     "data": {
      "text/plain": [
       "<function matplotlib.pyplot.show(*args, **kw)>"
      ]
     },
     "execution_count": 41,
     "metadata": {},
     "output_type": "execute_result"
    },
    {
     "data": {
      "image/png": "[encoded data removed]",
      "text/plain": [
       "<Figure size 864x432 with 1 Axes>"
      ]
     },
     "metadata": {},
     "output_type": "display_data"
    }
   ],
   "source": [
    "# NBVAL_IGNORE_OUTPUT\n",
    "\n",
    "# We make an array the full size in order to save the time blocked wavefield\n",
    "# for comparison with u1 above\n",
    "u2_all = np.zeros(u1.data.shape, dtype=dtype)\n",
    "\n",
    "# Number of time blocks\n",
    "N = int((nt - 2) / M) + 1\n",
    "\n",
    "# Open a binary file in append mode to save the wavefield chunks  \n",
    "filename = \"timeblocking.nonlinear.bin\"\n",
    "f = open(filename, \"ab\")\n",
    "\n",
    "import zlib, gzip, bz2, lzma, copy\n",
    "\n",
    "u2.data[:] = 0\n",
    "u2_all[:] = 0\n",
    "\n",
    "print(\"u2._data.dtype;          \", u2._data.dtype, flush=True)\n",
    "print(\"u2._data.dtype.itemsize; \", u2._data.dtype.itemsize, flush=True)\n",
    "print(\"u2._data.shape;          \", u2._data.shape, flush=True)\n",
    "print(\"prod(u2._data.shape)*4;  \", np.prod(u2._data.shape) * 4, flush=True)\n",
    "\n",
    "cratio1 = np.zeros(N)\n",
    "cratio2 = np.zeros(N)\n",
    "cratio3 = np.zeros(N)\n",
    "cratio4 = np.zeros(N)\n",
    "cratio5 = np.zeros(N)\n",
    "\n",
    "for kN in range(0,N,1):\n",
    "    kt1 = (kN + 0) * M\n",
    "    kt2 = (kN + 1) * M - 1\n",
    "    \n",
    "    # for the operator: minimum time sample 1, maximum time sample nt-2\n",
    "    kt1_op = max(kt1, 1)\n",
    "    kt2_op = min(kt2, nt - 2)\n",
    "    op2(time_m=kt1_op, time_M=kt2_op)\n",
    "\n",
    "#     print(\"nt,kt1,kt2,kt1_op,kt2_op,size; %3d %3d %3d %3d %3d %3d\" % \n",
    "#           (nt, kt1, kt2, kt1_op, kt2_op, kt2_op - kt1_op + 1), flush=True)\n",
    "\n",
    "    # Save the computed wavefield\n",
    "    # Note as index M+1 rolls over to 0 in u2, we need to do the assignment in two steps\n",
    "    u2_all[kt1+M,:,:] = u2.data[0,:,:]\n",
    "    u2_all[kt1+1:kt1+M,:,:] = u2.data[1:M,:,:]\n",
    "    \n",
    "    # compression and serialization\n",
    "    c1 = blosc.compress(u2._data, typesize=32, cname='blosclz')\n",
    "    c2 = blosc.compress(u2._data, typesize=32, cname='lz4')\n",
    "    c3 = blosc.compress(u2._data, typesize=32, cname='lz4hc')\n",
    "    c4 = blosc.compress(u2._data, typesize=32, cname='zlib')\n",
    "    c5 = blosc.compress(u2._data, typesize=32, cname='zstd')\n",
    "#     d = blosc.decompress(c)\n",
    "    \n",
    "    len0 = np.prod(u2._data.shape) * 4.0 / (1024.0 * 1024.0)\n",
    "    len1 = len(c1) / (1024.0 * 1024.0)\n",
    "    len2 = len(c2) / (1024.0 * 1024.0)\n",
    "    len3 = len(c3) / (1024.0 * 1024.0)\n",
    "    len4 = len(c4) / (1024.0 * 1024.0)\n",
    "    len5 = len(c5) / (1024.0 * 1024.0)\n",
    "\n",
    "    cratio1[kN] = len0 / len1\n",
    "    cratio2[kN] = len0 / len2\n",
    "    cratio3[kN] = len0 / len3\n",
    "    cratio4[kN] = len0 / len4\n",
    "    cratio5[kN] = len0 / len5\n",
    "\n",
    "    print(\"kt1_op,kt2_op,size,ratio1,ratio2,ratio3; %4d %4d %4d %8.6f %8.6f %8.6f %8.6f %8.6f\" % \n",
    "          (kt1_op, kt2_op, kt2_op - kt1_op + 1, len0/len1, len0/len2, len0/len3, len0/len4, len0/len5), flush=True)\n",
    "\n",
    "# c = blosc.compress_ptr(a.__array_interface__['data'][0], a.size, a.dtype.itemsize, 9, True)\n",
    "# a2 = np.empty(a.size, dtype=a.dtype)\n",
    "# blosc.decompress_ptr(c, a2.__array_interface__['data'][0])\n",
    "\n",
    "    c = blosc.compress_ptr(u2._data.__array_interface__['data'][0], \n",
    "                           np.prod(u2._data.shape), \n",
    "                           u2._data.dtype.itemsize, 9, True, 'zstd')\n",
    "    \n",
    "    d = copy.copy(u2._data)\n",
    "    blosc.decompress_ptr(c, d.__array_interface__['data'][0])\n",
    "    \n",
    "    assert(np.array_equal(u2._data,d))\n",
    "    \n",
    "    # Uncomment these lines if you want see more detail about how the two implementations match up\n",
    "#     for k in range(kt1,kt2+1,1):\n",
    "#         rms_u1 = np.linalg.norm(u1.data[k,:,:].reshape(-1))\n",
    "#         rms_u2 = np.linalg.norm(u2_all[k,:,:].reshape(-1))\n",
    "#         print(\"kt1,kt2,k,|u1|,|u2|; %3d %3d %3d %12.6e %12.6e -- diff; %12.6e\" % \n",
    "#               (kt1, kt2, k, rms_u1, rms_u2, rms_u1 - rms_u2), flush=True)\n",
    "#     print(\"\", flush=True)\n",
    "\n",
    "# dmax = np.max(np.abs(u1.data - u2_all))\n",
    "# print(\"Maximum difference %+12.8e\" % (dmax))\n",
    "# assert np.isclose(dmax, 0, atol=0, rtol=1e-14)\n",
    "\n",
    "block = np.linspace(1, N, N, endpoint=True)\n",
    "\n",
    "k1 = 10\n",
    "plt.figure(figsize=(12,6))\n",
    "plt.plot(block[k1:N], cratio1[k1:N], label=\"blosclz\")\n",
    "plt.plot(block[k1:N], cratio2[k1:N], label=\"lz4\")\n",
    "plt.plot(block[k1:N], cratio3[k1:N], label=\"lz4hc\")\n",
    "plt.plot(block[k1:N], cratio4[k1:N], label=\"zlib\")\n",
    "plt.plot(block[k1:N], cratio5[k1:N], label=\"zstd\")\n",
    "plt.xlim([k1,N])\n",
    "plt.legend()\n",
    "plt.grid(\"on\")\n",
    "plt.xlabel(\"Time Block\")\n",
    "plt.ylabel(\"Compression Ratio\")\n",
    "plt.title(\"Compression ratio as function of time block\")\n",
    "plt.show"
   ]
  },
  {
   "cell_type": "markdown",
   "metadata": {},
   "source": [
    "## Time blocking implementation of Jacobian linearized forward"
   ]
  },
  {
   "cell_type": "markdown",
   "metadata": {},
   "source": [
    "### Save all time steps implementation\n",
    "\n",
    "We re-use the computed nonlinear forward wavefields $u1$ and $u2$ and create a new ```TimeFunction``` with ```save=nt``` for the linearized forward wavefield $du1$. We implement the stencil described in the second jupyter notebook linked above for this operator. \n",
    "\n",
    "Below we generate the linearized ```Born wavefield``` for the save all time steps case."
   ]
  },
  {
   "cell_type": "code",
   "execution_count": null,
   "metadata": {},
   "outputs": [],
   "source": [
    "# NBVAL_IGNORE_OUTPUT\n",
    "\n",
    "# Create a TimeFunction saving all time steps\n",
    "du1 = TimeFunction(name=\"du1\", grid=grid, time_order=2, space_order=space_order, save=nt)\n",
    "\n",
    "# The linearized forward time update equation\n",
    "eq_time_update_ln_fwd1 = (t.spacing**2 * m0**2 / b) * \\\n",
    "    ((b * du1.dx(x0=x+x.spacing/2)).dx(x0=x-x.spacing/2) + \\\n",
    "     (b * du1.dz(x0=z+z.spacing/2)).dz(x0=z-z.spacing/2) + \\\n",
    "     2 * b * dm * m0**-3 * (wOverQ * u1.dt(x0=t-t.spacing/2) + u1.dt2)) +\\\n",
    "    (2 - t.spacing * wOverQ) * du1 + \\\n",
    "    (t.spacing * wOverQ - 1) * du1.backward\n",
    "\n",
    "stencil_ln_fwd1 = Eq(du1.forward, eq_time_update_ln_fwd1)\n",
    "\n",
    "# Receiver container and receiver extraction for the linearized operator\n",
    "rec_ln1 = Receiver(name='rec_ln1', grid=grid, npoint=nz, time_range=time_range)\n",
    "rec_ln1.coordinates.data[:,0] = dx * ((nx-1) / 2 + 20)\n",
    "rec_ln1.coordinates.data[:,1] = np.linspace(0.0, dz*(nz-1), nz)\n",
    "rec_term_ln_fwd1 = rec_ln1.interpolate(expr=du1.forward)\n",
    "\n",
    "# Instantiate and run the operator for the linearized forward\n",
    "op_ln_fwd1 = Operator([stencil_ln_fwd1] + rec_term_ln_fwd1, subs=spacing_map)\n",
    "du1.data[:] = 0\n",
    "op_ln_fwd1.apply()\n",
    "None"
   ]
  },
  {
   "cell_type": "code",
   "execution_count": null,
   "metadata": {},
   "outputs": [],
   "source": [
    "# NBVAL_IGNORE_OUTPUT\n",
    "\n",
    "# Continuous integration hooks \n",
    "# We ensure the norm of these computed wavefields is repeatable\n",
    "print(norm(du1))\n",
    "print(norm(rec_ln1))\n",
    "assert np.isclose(norm(du1), 3797.154, atol=0, rtol=1e-3)\n",
    "assert np.isclose(norm(rec_ln1), 624.125, atol=0, rtol=1e-3)"
   ]
  },
  {
   "cell_type": "markdown",
   "metadata": {},
   "source": [
    "### Time blocking implementation -- file for serialization\n",
    "\n",
    "We create the binary file ```file.bin``` for serialiazation of compressed computed wavefields. "
   ]
  },
  {
   "cell_type": "code",
   "execution_count": null,
   "metadata": {},
   "outputs": [],
   "source": [
    "file = open(\"file.bin\", \"wb\")"
   ]
  },
  {
   "cell_type": "markdown",
   "metadata": {},
   "source": [
    "### Time blocking implementation\n",
    "\n",
    "We now instantiate $du2$, a ```TimeFunction``` that uses ```Buffer``` for saving $M$ time steps. \n",
    "\n",
    "Below we generate the linearized ```Born wavefield``` for the time blocking case."
   ]
  },
  {
   "cell_type": "code",
   "execution_count": null,
   "metadata": {},
   "outputs": [],
   "source": [
    "# Create a TimeFunction using a Buffer to save only M time steps\n",
    "du2 = TimeFunction(name=\"du2\", grid=grid, time_order=2, space_order=space_order, save=Buffer(M))\n",
    "\n",
    "# We need to regenerate the time update equation with the new TimeFunction in order\n",
    "# to get the time handling correct\n",
    "eq_time_update_ln_fwd2 = (t.spacing**2 * m0**2 / b) * \\\n",
    "    ((b * du2.dx(x0=x+x.spacing/2)).dx(x0=x-x.spacing/2) + \\\n",
    "     (b * du2.dz(x0=z+z.spacing/2)).dz(x0=z-z.spacing/2) + \\\n",
    "     2 * b * dm * m0**-3 * (wOverQ * u2.dt(x0=t-t.spacing/2) + u2.dt2)) +\\\n",
    "    (2 - t.spacing * wOverQ) * du2 + \\\n",
    "    (t.spacing * wOverQ - 1) * du2.backward\n",
    "\n",
    "stencil_ln_fwd2 = Eq(du2.forward, eq_time_update_ln_fwd2)\n",
    "\n",
    "# Receiver container and receiver extraction for the linearized operator\n",
    "# Receiver container and receiver extraction for the linearized operator\n",
    "rec_ln2 = Receiver(name='rec_ln2', grid=grid, npoint=nz, time_range=time_range)\n",
    "rec_ln2.coordinates.data[:,0] = dx * ((nx-1) / 2 + 20)\n",
    "rec_ln2.coordinates.data[:,1] = np.linspace(0.0, dz*(nz-1), nz)\n",
    "rec_term_ln_fwd1 = rec_ln2.interpolate(expr=du1.forward)\n",
    "\n",
    "# Instantiate and run the operator for the linearized forward\n",
    "op_ln_fwd2 = Operator([stencil_ln_fwd1] + rec_term_ln_fwd1, subs=spacing_map)"
   ]
  },
  {
   "cell_type": "markdown",
   "metadata": {},
   "source": [
    "### Run loop over blocks of M time steps\n",
    "\n",
    "As in the nonlinear forward example above, we run $N$ blocks of $M$ time steps."
   ]
  },
  {
   "cell_type": "code",
   "execution_count": null,
   "metadata": {},
   "outputs": [],
   "source": [
    "# NBVAL_IGNORE_OUTPUT\n",
    "\n",
    "# We make an array the full size in order to save the time blocked wavefield\n",
    "# for comparison with u1 above\n",
    "du2_all = np.zeros(du1.data.shape, dtype=dtype)\n",
    "\n",
    "# Open a binary file in append mode to save the wavefield chunks  \n",
    "filename = \"timeblocking.nonlinear.bin\"\n",
    "f = open(filename, \"rb\")\n",
    "\n",
    "u2.data[:] = 0\n",
    "u2_all[:] = 0\n",
    "\n",
    "for kN in range(0,N,1):\n",
    "    kt1_save = (kN + 0) * M\n",
    "    kt2_save = (kN + 1) * M - 1\n",
    "    # minimum time sample is 1, maximum time sample is nt-2\n",
    "    kt1 = max(kt1_save, 1)\n",
    "    kt2 = min(kt2_save, nt - 2)\n",
    "#     op2(time_m=kt1, time_M=kt2)\n",
    "    np.save(f, u2.data)\n",
    "    \n",
    "    # Save the computed wavefield\n",
    "    # Note as index M+1 rolls over to 0 in u2, we need to copy in two steps\n",
    "    for kt in range(1, M + 1):\n",
    "        u2_all[kt1_save+M,:,:] = u2.data[0,:,:]\n",
    "        u2_all[kt1_save+1:kt1_save+M,:,:] = u2.data[1:M,:,:]\n",
    "#         ft = kt1_save + kt\n",
    "#         u2_all[ft,:,:] = u2.data[kt,:,:]\n",
    "\n",
    "dmax = np.max(np.abs(u1.data - u2_all))\n",
    "print(\"Maximum difference %+12.8e\" % (dmax))\n",
    "\n",
    "assert np.isclose(dmax, 0, atol=0, rtol=1e-12)"
   ]
  },
  {
   "cell_type": "markdown",
   "metadata": {},
   "source": [
    "## Time blocking implementation of Jacobian linearized adjoint"
   ]
  },
  {
   "cell_type": "markdown",
   "metadata": {},
   "source": [
    "### Save all time steps implementation\n",
    "\n",
    "We re-use the computed nonlinear forward wavefields $u1$ and $u2$ and create a new ```TimeFunction``` with ```save=nt``` for the linearized forward wavefield $du1$. We implement the stencil described in the second jupyter notebook linked above for this operator. \n",
    "\n",
    "Below we generate the linearized ```Born wavefield``` for the save all time steps case."
   ]
  },
  {
   "cell_type": "code",
   "execution_count": null,
   "metadata": {},
   "outputs": [],
   "source": []
  },
  {
   "cell_type": "markdown",
   "metadata": {},
   "source": [
    "### Time blocking implementation\n",
    "\n",
    "We now instantiate $du2$, a ```TimeFunction``` that uses ```Buffer``` for saving $M$ time steps.\n",
    "\n",
    "Below we generate the linearized ```Born wavefield``` for the time blocking case."
   ]
  },
  {
   "cell_type": "code",
   "execution_count": null,
   "metadata": {},
   "outputs": [],
   "source": []
  },
  {
   "cell_type": "markdown",
   "metadata": {},
   "source": [
    "### Run loop over blocks of M time steps\n",
    "\n",
    "As in the nonlinear forward example above, we run $N$ blocks of $M$ time steps."
   ]
  },
  {
   "cell_type": "code",
   "execution_count": null,
   "metadata": {},
   "outputs": [],
   "source": []
  }
 ],
 "metadata": {
  "anaconda-cloud": {},
  "kernelspec": {
   "display_name": "Python 3",
   "language": "python",
   "name": "python3"
  },
  "language_info": {
   "codemirror_mode": {
    "name": "ipython",
    "version": 3
   },
   "file_extension": ".py",
   "mimetype": "text/x-python",
   "name": "python",
   "nbconvert_exporter": "python",
   "pygments_lexer": "ipython3",
   "version": "3.8.3"
  }
 },
 "nbformat": 4,
 "nbformat_minor": 4
}
