{
 "cells": [
  {
   "cell_type": "markdown",
   "metadata": {},
   "source": [
    "# Implementation of time blocking for compression/serialization and de-serialization/de-compression of wavefields with Devito operators"
   ]
  },
  {
   "cell_type": "markdown",
   "metadata": {},
   "source": [
    "## Introduction \n",
    "\n",
    "The goal of this tutorial is to prototype the compression/serialization and de-serialization/de-compression for wavefields in Devito. The motivation is using seismic modeling operators for full waveform inversion (FWI). Some of the steps in FWI require the use of previously computed wavefields, and of particular interest the adjoint of the Jacobian linearized operator -- an operator that maps data perturbation into velocity perturbation and is used to build FWI gradients -- requires a zero-lag temporal correlation with the wavefield that is computed with the nonlinear source. \n",
    "\n",
    "There are implemented alternatives to serialization/de-serialization like checkpointing (link to nb?), but we investigate the serialization option here. \n",
    "\n",
    "We aim to provide a *proof of concept* for compression/serialization and de-serialization/de-compression of the nonlinear wavefield. We will achieve this via _time blocking_: we will run a number of time steps in the generated c kernel, and then return control to python for compression/serialization (for the nonlinear forward operator), and de-serialization/de-compression (for the linearized Jacobian forward and adjoint operators).\n",
    "\n",
    "In order to illustrate the use case for serialization, we outline the workflow for computing the gradient of the FWI objective function, ignoring a lot of details, as follows:\n",
    "\n",
    "1. Generate the nonlinear forward modeled data at the receivers $d_{mod}$\n",
    "$$ \n",
    "d_{mod} = F m \n",
    "$$\n",
    "\n",
    "1. Compress and serialize the nonlinear source wavefield to disk in *time blocks* during computation of 1. The entire nonlinear wavefield is of size $[nt,nx,nz]$ in 2D, but we deal with a block of $M$ time steps at a time, so the size of the chunk to be compressed and serialized is $[M,nx,nz]$. \n",
    "\n",
    "1. Compute the data residual $\\delta r$ by differencing observed and modeled data at the receivers \n",
    "$$\n",
    "\\delta r = d_{obs} - d_{mod}\n",
    "$$\n",
    "\n",
    "1. Backproject the data residual $\\delta r$ via time reversal with the adjoint linearized Jacobian operator.\n",
    "\n",
    "1. De-serialize and de-compress the nonlinear source wavefield from disk during computation in step 4, synchronizing time step between the nonlinear wavefield computed forward in time, and time reversed adjoint wavefield. We will deal with de-serialization and de-compression of chunks of $M$ time steps of size $[M,nx,nz]$.\n",
    "\n",
    "1. Increment the model perturbation via zero lag correlation of the de-serialized nonlinear source wavefield and the backprojected receiver adjoint wavefield. Note that this computed model perturbation is the  _gradient_ of the FWI objective function.\n",
    "$$\n",
    "\\delta m = \\bigl( \\nabla F\\bigr)^\\top\\ \\delta r\n",
    "$$\n",
    "\n",
    "Please see other notebooks in this directory for more details, in particular the notebooks describing the self-adjoint modeling operators. \n",
    "\n",
    "| Notebook description | Link | \n",
    "|:---|:---|\n",
    "| Nonlinear operator | [sa_01_iso_implementation1.ipynb](sa_01_iso_implementation1.ipynb) |\n",
    "| Jacobian linearized operators | [sa_02_iso_implementation2.ipynb](sa_02_iso_implementation2.ipynb) |\n",
    "| Correctness tests |[ sa_03_iso_correctness.ipynb](sa_03_iso_correctness.ipynb) |"
   ]
  },
  {
   "cell_type": "markdown",
   "metadata": {},
   "source": [
    "## Outline \n",
    "1. Define symbols\n",
    "1. Description of tests to verify correctness\n",
    "1. Description of time blocking implementation\n",
    "1. Compression note -- use of ```blosc```\n",
    "1. Create small 2D test model\n",
    "1. Implement and test the Nonlinear forward operation\n",
    "  - Save all time steps \n",
    "  - Time blocking plus compression/serialization\n",
    "  - Ensure differences are at machine epsilon \n",
    "1. Implement and test the Jacobian linearized forward operation\n",
    "  - Save all time steps \n",
    "  - Time blocking plus compression/serialization\n",
    "  - Ensure differences are at machine epsilon \n",
    "1. Implement and test theJacobian linearized adjoint operation\n",
    "  - Save all time steps \n",
    "  - Time blocking plus compression/serialization\n",
    "  - Ensure differences are at machine epsilon \n",
    "1. Discussion"
   ]
  },
  {
   "cell_type": "markdown",
   "metadata": {},
   "source": [
    "## Table of symbols\n",
    "\n",
    "We show the symbols here relevant to the implementation of the linearized operators.\n",
    "\n",
    "| Symbol &nbsp; &nbsp; &nbsp; &nbsp; &nbsp; &nbsp; &nbsp; &nbsp; &nbsp; &nbsp; &nbsp; &nbsp; &nbsp; &nbsp; &nbsp; &nbsp; &nbsp; | Description  | Dimensionality | \n",
    "|:---|:---|:---|\n",
    "| $m_0(x,y,z)$ | Reference P wave velocity    | function of space |\n",
    "| $\\delta m(x,y,z)$ | Perturbation to P wave velocity    | function of space |\n",
    "| $u_0(t,x,y,z)$ | Reference pressure wavefield | function of time and space |\n",
    "| $\\delta u(t,x,y,z)$ | Perturbation to pressure wavefield | function of time and space |\n",
    "| $s(t,x,y,z)$ | Source wavefield | function of time, localized in space to source location |\n",
    "| $r(t,x,y,z)$ | Receiver wavefield | function of time, localized in space to receiver locations |\n",
    "| $\\delta r(t,x,y,z)$ | Receiver wavefield perturbation | function of time, localized in space to receiver locations |\n",
    "| $F[m]\\ q$ | Forward linear modeling operator | Nonlinear in $m$, linear in $q, s$: $\\quad$ maps $q \\rightarrow s$ |\n",
    "| $F[m; q]$ | Forward nonlinear modeling operator | Nonlinear in $m$, linear in $q$: $\\quad$ maps $m \\rightarrow r$ |\n",
    "| $\\nabla F[m; q]\\ \\delta m$ | Forward Jacobian modeling operator | Linearized at $[m; q]$: $\\quad$ maps $\\delta m \\rightarrow \\delta r$ |\n",
    "| $\\bigl( \\nabla F[m; q] \\bigr)^\\top\\ \\delta r$ | Adjoint Jacobian modeling operator | Linearized at $[m; q]$: $\\quad$ maps $\\delta r \\rightarrow \\delta m$ |"
   ]
  },
  {
   "cell_type": "markdown",
   "metadata": {},
   "source": [
    "## Description of tests to verify correctness\n",
    "\n",
    "In order to make sure we have implemented the time blocking correctly, we numerically compare the output from two runs:\n",
    "1. all time steps saved implementation -- requires a lot of memory to hold wavefields at each time step\n",
    "1. time blocking plus compression/serialization implementation -- requires only enough memory to hold the wavefields in a time block  \n",
    "\n",
    "We perform these tests for three phases of FWI modeling:\n",
    "1. nonlinear forward: maps model to data, *forward in time*\n",
    "1. Jacobian linearized forward: maps model perturbation to data perturbation, *forward in time*\n",
    "1. Jacobian linearized adjoint: maps data perturbation to model perturbation, *backward in time*\n",
    "\n",
    "We will design a small 2D test experiment with a source in the middle of the model and short enough elapsed modeling time that we do not need to worry about boundary reflections for these tests, or runnin out of memory saving all time steps."
   ]
  },
  {
   "cell_type": "markdown",
   "metadata": {},
   "source": [
    "## Description of time blocking implementation\n",
    "\n",
    "We gratefully acknowledge Down Under Geosolutions (DUG) for in depth discussions about their production time blocking implementation. Those discussions shaped the implementation shown here. The most important idea is to separate the programmatic containers used for propagation and serialization. To do this we utilize Devito ```TimeFunction``` constructed two different ways.\n",
    "\n",
    "### Propagation uses ```TimeFunction(..., save=None)```\n",
    "\n",
    "We use a default constructed ```TimeFunction``` for propagation. This can be specified in the constructor via either ```save=None``` or no ```save``` argument at all. Devito backs such a default ```TimeFunction``` by a ```Buffer``` of size ```time_order+1```, or 3 for second order in time. We show below the mapping from the monotonic *ordinary time indices* to the buffered *modulo time indices* as used by a ```Buffer``` in a ```TimeFuntion``` with ```time_order=2```.\n",
    "\n",
    "### Modulo indexing for ```Buffer``` of size 3\n",
    "```\n",
    "Ordinary time indices:  0  1  2  3  4  5  6  7  8  9 10 11 12 13 14 15\n",
    "Modulo   time indices:  0  1  2  0  1  2  0  1  2  0  1  2  0  1  2  0\n",
    "```\n",
    "\n",
    "*Important note:* the modulo indexing of ```Buffer``` is the reason we will separate propagation from serialization. If we use a larger ```Bufffer``` as the ```TimeFunction``` for propagation, we would have to deal with the modulo indexing not just for the current time index, but also previous and next time indices (assuming second order in time). This means that the previous and next time steps can overwrite the locations of the ordinary time indices when you propagate for a block of time steps. **This is the reason we do not use the same ```TimeFunction``` for both propagation and serialization.**\n",
    "\n",
    "### Generated code for a second order in time PDE\n",
    "We now show an excerpt from Devito generated code for a second order in time operator. A second order in time PDE requires two wavefields in order to advance in time: the wavefield at the next time step $u(t+\\Delta t)$ is a function of the wavefield at previous time step $u(t-\\Delta t)$ and the wavefield at the current time step $u(t)$. Remember that Devito uses a ```Buffer``` of size 3 to handle this. \n",
    "\n",
    "In the generated code there are three modulo time indices that are a function of ordinary time and cycle through the values $[0,1,2]$:\n",
    "* ```t0``` -- current time step\n",
    "* ```t1``` -- next time step\n",
    "* ```t2``` -- previous time step\n",
    "\n",
    "We show an excerpt at the beginning of the time loop from the generated code below, with ordinary time loop index ```time```. Note that we have simplified the generated code by breaking a single for loop specification line into multiple lines for clarity. We have also added comments to help understand the mapping from ordinary to modulo time indices.\n",
    "\n",
    "```\n",
    "for (int time = time_m; time <= time_M; time += 1) {\n",
    "  t0 = (time + 0)%(3);    // time index for the current time step \n",
    "  t1 = (time + 1)%(3);    // time index for the next time step\n",
    "  t2 = (time + 2)%(3);    // time index for the  previous time step\n",
    "  \n",
    "  // ... PIE: propagation, source injection, receiver extraction ...\n",
    "}\n",
    "\n",
    "```\n",
    "\n",
    "It should be obvious that using a single container for both propagation and serialization is problematic because the loop runs over ordinary time indices ```time_m``` through ```time_M```, but will access stored previous time step wavefields at indices ```time_m-1``` through ```time_M-1``` and store computed next time step wavefields in indices ```time_m+1``` through ```time_M+1```. \n",
    "\n",
    "### Serialization uses ```TimeFunction(..., save=Buffer(M)``` \n",
    "\n",
    "We will use an independent second ```Buffer``` of size $M$ for serialization in our time blocking implementation. This second ```TimeFunction``` will also use modulo indexing, but by design we only access indices ```time_m``` through ```time_M``` in each time block. This means we do not need to worry about wrapping indices from previous time step or next time step wavefields.\n",
    "\n",
    "### Minimum and maximum allowed time index for second order PDE\n",
    "\n",
    "It is important to note that for a second order in time system the minimum allowed time index ```time_m``` will be $1$, because time index $0$ would imply that the previous time step wavefield $u(t-\\Delta t)$ exists at time index $-1$, and $0$ is the minimum array location.\n",
    "\n",
    "Similarly, the maximum allowed time index ```time_M``` will be $nt-2$, because time index $nt-1$ would imply that the next time step wavefield $u(t+\\Delta t)$ exists at time index $nt$, and $nt-1$ is the maximum array location.\n",
    "\n",
    "### Flow chart for time blocking\n",
    "\n",
    "Putting this all together, here is a flow chart outlining control flow the first three time blocks with $M=5$.\n",
    "\n",
    "```\n",
    "Time block 1\n",
    "    Call generated code Operator(time_m=1, time_M=5)\n",
    "\tReturn control to python\n",
    "    Serialize/Compress indices 1,2,3,4,5 \n",
    "        (access modulo indices 1%5,2%5,3%5,4%5,5%5)\n",
    "\n",
    "Time block 2\n",
    "    Call generated code Operator(time_m=6, time_M=10)\n",
    "\tReturn control to python\n",
    "    Serialize/Compress indices 6,7,8,9,10\n",
    "        (access modulo indices 6%5,7%5,8%5,9%5,10%5)\n",
    "\n",
    "Time block 3\n",
    "    Call generated code Operator(time_m=11, time_M=15)\n",
    "\tReturn control to python\n",
    "    Serialize/Compress indices 11,12,13,14,15\n",
    "        (access modulo indices 11%5,12%5,13%5,14%5,15%5)\n",
    "```\n",
    "\n",
    "## Arrays used to save file offsets and compressed sizes\n",
    "\n",
    "We use two arrays the length of the total number of time steps to save bookeeping information used for the serialization and compression. During de-serialization these offsets and lengths will be used to seek the correct location and read the correct length from the bindary file saving the compressed data.\n",
    "\n",
    "| Array | Description |\n",
    "|:---|:---|\n",
    "| file_offset | stores the location of the start of the compressed block for each time step | \n",
    "| file_length | stores the length of the compressed block for each time step | \n"
   ]
  },
  {
   "cell_type": "markdown",
   "metadata": {},
   "source": [
    "## Compression note -- use of ```blosc```\n",
    "\n",
    "In this notebook we use ```blosc``` compression that is not loaded by default in devito. The first operational cell immediately below ensures that  ```blosc``` compression and python wrapper are installed in this jupyter kernel. \n",
    "\n",
    "Note that ```blosc``` provides *lossless compression*, and in practice one would use *lossy compression* to achieve significantly better compression ratios. Consider the use of ```blosc``` here as a placeholder for your compression method of choice, providing all the essential characteristics of what might be used at scale. \n",
    "\n",
    "We will use the low level interface to blosc compression because it allows the easiest use of numpy arrays. A synopsis of the compression and decompression calls is shown below for devito ```TimeFunction``` $u$, employing compression level $9$ of the ```zstd``` type with the optional shuffle, at modulo time index ```kt%M```.\n",
    "\n",
    "```\n",
    "    c = blosc.compress_ptr(u._data[kt%M,:,:].__array_interface__['data'][0], \n",
    "                           np.prod(u2._data[kt%M,:,:].shape), \n",
    "                           u._data[kt%M,:,:].dtype.itemsize, 9, True, 'zstd')\n",
    "    \n",
    "    blosc.decompress_ptr(u._data[kt,:,:], d.__array_interface__['data'][0])\n",
    "```\n",
    "\n",
    "```blosc``` Reference:\n",
    "* c project and library: https://blosc.org\n",
    "* python wrapper: https://github.com/Blosc/python-blosc\n",
    "* python wrapper documentation: http://python-blosc.blosc.org\n",
    "* low level interface to compression call: http://python-blosc.blosc.org/tutorial.html#compressing-from-a-data-pointer"
   ]
  },
  {
   "cell_type": "code",
   "execution_count": 17,
   "metadata": {},
   "outputs": [
    {
     "name": "stdout",
     "output_type": "stream",
     "text": [
      "Requirement already satisfied: blosc in /cpfs/lfs03/ESDRD/wask/local/lib/python3.8/site-packages (1.9.1)\n"
     ]
    }
   ],
   "source": [
    "# Install pyzfp package in the current Jupyter kernel\n",
    "import sys\n",
    "!{sys.executable} -m pip install blosc\n",
    "import blosc"
   ]
  },
  {
   "cell_type": "markdown",
   "metadata": {},
   "source": [
    "## Imports \n",
    "\n",
    "We have grouped all imports used in this notebook here for consistency."
   ]
  },
  {
   "cell_type": "code",
   "execution_count": 18,
   "metadata": {},
   "outputs": [],
   "source": [
    "from scipy.special import hankel2\n",
    "import numpy as np\n",
    "from examples.seismic import RickerSource, Receiver, TimeAxis, Model, AcquisitionGeometry\n",
    "from devito import (Grid, Function, TimeFunction, SpaceDimension, Constant, \n",
    "                    Eq, Operator, solve, configuration, norm, Buffer)\n",
    "from devito.finite_differences import Derivative\n",
    "from devito.builtins import gaussian_smooth\n",
    "from examples.seismic.self_adjoint import (acoustic_sa_setup, setup_w_over_q,\n",
    "                                           SaIsoAcousticWaveSolver)\n",
    "import matplotlib as mpl\n",
    "import matplotlib.pyplot as plt\n",
    "from matplotlib import cm\n",
    "from timeit import default_timer as timer\n",
    "import copy\n",
    "import os\n",
    "\n",
    "# These lines force images to be displayed in the notebook, and scale up fonts \n",
    "%matplotlib inline\n",
    "mpl.rc('font', size=14)\n",
    "\n",
    "# Make white background for plots, not transparent\n",
    "plt.rcParams['figure.facecolor'] = 'white'\n",
    "\n",
    "# Set logging to debug, captures statistics on the performance of operators\n",
    "# configuration['log-level'] = 'DEBUG'\n",
    "configuration['log-level'] = 'INFO'"
   ]
  },
  {
   "cell_type": "markdown",
   "metadata": {},
   "source": [
    "## Instantiate the model for a two dimensional problem\n",
    " - We use a small 200x200 m. model\n",
    " - We use 20x20 m. discretization \n",
    " - We choose modeling sample rate explicitly (2.5 msec)\n",
    " - We use a modeling time range of 100 milliseconds\n",
    " - We use a wholespace model\n",
    "   - velocity: 1500 m/s\n",
    "   - density: 1 g/cm^3\n",
    " - We place the source in the center of the model\n",
    " - We use a vertical line of receivers right of center in model\n",
    " - We use the visco-acoustic absorbing boundary logic from the self-adjoint operators linked above, and add a 50 point absorbing boundary\n",
    " - We also generate a velocity perturbation that will be used in the linearized forward Jacobian operator"
   ]
  },
  {
   "cell_type": "code",
   "execution_count": 19,
   "metadata": {},
   "outputs": [
    {
     "name": "stdout",
     "output_type": "stream",
     "text": [
      "shape;            (201, 201)\n",
      "origin;           (0.0, 0.0)\n",
      "spacing;          (20.0, 20.0)\n",
      "extent;           (4000.0, 4000.0)\n",
      "\n",
      "grid.shape;       (201, 201)\n",
      "grid.extent;      (4000.0, 4000.0)\n",
      "grid.spacing_map; {h_x: 20.0, h_z: 20.0}\n"
     ]
    },
    {
     "name": "stderr",
     "output_type": "stream",
     "text": [
      "Operator `WOverQ_Operator` run in 0.01 s\n"
     ]
    },
    {
     "name": "stdout",
     "output_type": "stream",
     "text": [
      "\n",
      "time_range;  TimeAxis: start=0, stop=100, step=2.5, num=41\n",
      "\n",
      "src_coordinate  X;           +1800.0000\n",
      "src_coordinate  Z;           +2000.0000\n",
      "rec_coordinates X min/max;   +2200.0000   +2200.0000\n",
      "rec_coordinates Z min/max;      +0.0000   +4000.0000\n"
     ]
    }
   ],
   "source": [
    "# NBVAL_IGNORE_OUTPUT\n",
    "\n",
    "# Define dimensions for the interior of the model\n",
    "nx,nz = 201,201\n",
    "npad = 50\n",
    "dx,dz = 20.0,20.0  # Grid spacing in m\n",
    "shape = (nx, nz)   # Number of grid points\n",
    "spacing = (dx, dz) # Domain size is now 5 km by 5 km\n",
    "origin = (0., 0.)  # Origin of coordinate system, specified in m.\n",
    "extent = tuple([s*(n-1) for s, n in zip(spacing, shape)])\n",
    "\n",
    "# Define the dimensions \n",
    "x = SpaceDimension(name='x', spacing=Constant(name='h_x', value=extent[0]/(shape[0]-1)))\n",
    "z = SpaceDimension(name='z', spacing=Constant(name='h_z', value=extent[1]/(shape[1]-1)))\n",
    "\n",
    "# Initialize the Devito grid \n",
    "dtype = np.float32\n",
    "grid = Grid(extent=extent, shape=shape, origin=origin, dimensions=(x, z), dtype=dtype)\n",
    "\n",
    "print(\"shape;           \", shape)\n",
    "print(\"origin;          \", origin)\n",
    "print(\"spacing;         \", spacing)\n",
    "print(\"extent;          \", extent)\n",
    "\n",
    "print(\"\")\n",
    "print(\"grid.shape;      \", grid.shape)\n",
    "print(\"grid.extent;     \", grid.extent)\n",
    "print(\"grid.spacing_map;\", grid.spacing_map)\n",
    "\n",
    "# Create velocity and buoyancy fields. \n",
    "space_order = 8\n",
    "m0 = Function(name='m0', grid=grid, space_order=space_order)\n",
    "b = Function(name='b', grid=grid, space_order=space_order)\n",
    "m0.data[:] = 1.5\n",
    "b.data[:,:] = 1.0 / 1.0\n",
    "\n",
    "# Perturbation to velocity: a square offset from the center of the model\n",
    "dm = Function(name='dm', grid=grid, space_order=space_order)\n",
    "size = 4\n",
    "x0 = (nx-1)//2 + 1\n",
    "z0 = (nz-1)//2 + 1\n",
    "dm.data[:] = 0.0\n",
    "dm.data[(x0-size):(x0+size+1), (z0-size):(z0+size+1)] = 1.0\n",
    "\n",
    "# Initialize the attenuation profile for the absorbing boundary\n",
    "fpeak = 0.001\n",
    "w = 2.0 * np.pi * fpeak\n",
    "qmin = 0.1\n",
    "wOverQ = Function(name='wOverQ_025', grid=grid, space_order=space_order)\n",
    "setup_w_over_q(wOverQ, w, qmin, 100.0, npad)\n",
    "\n",
    "# Time sampling\n",
    "t0 = 0    # Simulation time start\n",
    "tn = 100  # Simulation time end\n",
    "dt = 2.5  # Simulation time step interval\n",
    "time_range = TimeAxis(start=t0, stop=tn, step=dt)\n",
    "nt = time_range.num\n",
    "print(\"\")\n",
    "print(\"time_range; \", time_range)\n",
    "\n",
    "# Source 10 Hz center frequency\n",
    "src = RickerSource(name='src', grid=grid, f0=fpeak, npoint=1, time_range=time_range)\n",
    "src.coordinates.data[0,:] = [dx * ((nx-1) / 2 - 10), dz * (nz-1) / 2]\n",
    "\n",
    "# Receivers: copies for save all, time blocking; and for nonlinear forward, linearized forward\n",
    "nl_rec1 = Receiver(name='nl_rec1', grid=grid, npoint=nz, time_range=time_range)\n",
    "nl_rec2 = Receiver(name='nl_rec2', grid=grid, npoint=nz, time_range=time_range)\n",
    "lf_rec1 = Receiver(name='nl_rec1', grid=grid, npoint=nz, time_range=time_range)\n",
    "lf_rec2 = Receiver(name='nl_rec2', grid=grid, npoint=nz, time_range=time_range)\n",
    "nl_rec1.coordinates.data[:,0] = nl_rec2.coordinates.data[:,0] = dx * ((nx-1) / 2 + 10)\n",
    "nl_rec1.coordinates.data[:,1] = nl_rec2.coordinates.data[:,1] = np.linspace(0.0, dz*(nz-1), nz)\n",
    "lf_rec1.coordinates.data[:,0] = nl_rec2.coordinates.data[:,0] = dx * ((nx-1) / 2 + 10)\n",
    "lf_rec1.coordinates.data[:,1] = nl_rec2.coordinates.data[:,1] = np.linspace(0.0, dz*(nz-1), nz)\n",
    "\n",
    "print(\"\")\n",
    "print(\"src_coordinate  X;         %+12.4f\" % (src.coordinates.data[0,0]))\n",
    "print(\"src_coordinate  Z;         %+12.4f\" % (src.coordinates.data[0,1]))\n",
    "print(\"rec_coordinates X min/max; %+12.4f %+12.4f\" % \\\n",
    "      (np.min(nl_rec1.coordinates.data[:,0]), np.max(nl_rec1.coordinates.data[:,0])))\n",
    "print(\"rec_coordinates Z min/max; %+12.4f %+12.4f\" % \\\n",
    "      (np.min(nl_rec1.coordinates.data[:,1]), np.max(nl_rec1.coordinates.data[:,1])))"
   ]
  },
  {
   "cell_type": "markdown",
   "metadata": {},
   "source": [
    "## Plot velocity and density models\n",
    "\n",
    "Next we plot the velocity and density models for illustration, with source location shown as a large red asterisk and receiver line shown as a black line."
   ]
  },
  {
   "cell_type": "code",
   "execution_count": 20,
   "metadata": {},
   "outputs": [
    {
     "data": {
      "image/png": "[encoded data removed]",
      "text/plain": [
       "<Figure size 864x1008 with 8 Axes>"
      ]
     },
     "metadata": {},
     "output_type": "display_data"
    }
   ],
   "source": [
    "# note: flip sense of second dimension to make the plot positive downwards\n",
    "plt_extent = [origin[0], origin[0] + extent[0], origin[1] + extent[1], origin[1]]\n",
    "\n",
    "vmin, vmax = 1.4, 1.7\n",
    "pmin, pmax = -1, +1\n",
    "dmin, dmax = 0.9, 1.1\n",
    "\n",
    "plt.figure(figsize=(12,14))\n",
    "\n",
    "# plot velocity \n",
    "plt.subplot(2, 2, 1)\n",
    "plt.imshow(np.transpose(m0.data), cmap=cm.jet, \n",
    "           vmin=vmin, vmax=vmax, extent=plt_extent)\n",
    "plt.colorbar(orientation='horizontal', label='Velocity (m/msec)')\n",
    "plt.plot(nl_rec1.coordinates.data[:, 0], nl_rec1.coordinates.data[:, 1], \\\n",
    "         'black', linestyle='-', label=\"Receiver\")\n",
    "plt.plot(src.coordinates.data[:, 0], src.coordinates.data[:, 1], \\\n",
    "         'red', linestyle='None', marker='*', markersize=15, label=\"Source\")\n",
    "plt.xlabel(\"X Coordinate (m)\")\n",
    "plt.ylabel(\"Z Coordinate (m)\")\n",
    "plt.title(\"Constant velocity\")\n",
    "\n",
    "# plot density\n",
    "plt.subplot(2, 2, 2)\n",
    "plt.imshow(np.transpose(1 / b.data), cmap=cm.jet,\n",
    "           vmin=dmin, vmax=dmax, extent=plt_extent)\n",
    "plt.colorbar(orientation='horizontal', label='Density (m^3/kg)')\n",
    "plt.plot(nl_rec1.coordinates.data[:, 0], nl_rec1.coordinates.data[:, 1], \\\n",
    "         'black', linestyle='-', label=\"Receiver\")\n",
    "plt.plot(src.coordinates.data[:, 0], src.coordinates.data[:, 1], \\\n",
    "         'red', linestyle='None', marker='*', markersize=15, label=\"Source\")\n",
    "plt.xlabel(\"X Coordinate (m)\")\n",
    "plt.ylabel(\"Z Coordinate (m)\")\n",
    "plt.title(\"Constant density\")\n",
    "\n",
    "# plot velocity perturbation\n",
    "plt.subplot(2, 2, 3)\n",
    "plt.imshow(np.transpose(dm.data), cmap=\"seismic\", \n",
    "           vmin=pmin, vmax=pmax, extent=plt_extent)\n",
    "plt.colorbar(orientation='horizontal', label='Velocity (m/msec)')\n",
    "plt.plot(nl_rec1.coordinates.data[:, 0], nl_rec1.coordinates.data[:, 1], \\\n",
    "         'black', linestyle='-', label=\"Receiver\")\n",
    "plt.plot(src.coordinates.data[:, 0], src.coordinates.data[:, 1], \\\n",
    "         'red', linestyle='None', marker='*', markersize=15, label=\"Source\")\n",
    "plt.xlabel(\"X Coordinate (m)\")\n",
    "plt.ylabel(\"Z Coordinate (m)\")\n",
    "plt.title(\"Velocity Perturbation\")\n",
    "\n",
    "# Plot the log of the generated Q profile\n",
    "q = np.log10(w / wOverQ.data)\n",
    "lmin, lmax = np.log10(qmin), np.log10(100)\n",
    "\n",
    "plt.subplot(2, 2, 4)\n",
    "plt.imshow(np.transpose(q.data), cmap=cm.jet, vmin=lmin, vmax=lmax, extent=plt_extent)\n",
    "plt.colorbar(orientation='horizontal', label='log10(Q)')\n",
    "plt.plot(nl_rec1.coordinates.data[:, 0], nl_rec1.coordinates.data[:, 1], \\\n",
    "         'black', linestyle='-', label=\"Receiver\")\n",
    "plt.plot(src.coordinates.data[:, 0], src.coordinates.data[:, 1], \\\n",
    "         'red', linestyle='None', marker='*', markersize=15, label=\"Source\")\n",
    "plt.xlabel(\"X Coordinate (m)\")\n",
    "plt.ylabel(\"Z Coordinate (m)\")\n",
    "plt.title(\"log10 of $Q$ model\")\n",
    "\n",
    "plt.tight_layout()\n",
    "None"
   ]
  },
  {
   "cell_type": "markdown",
   "metadata": {},
   "source": [
    "## Implementation of the nonlinear forward\n",
    "\n",
    "We copy the nonlinear forward PDE described in the 1st self-adjoint notebook linked above:\n",
    "\n",
    "$$\n",
    "L_t[\\cdot] \\equiv \\frac{\\omega_c}{Q} \\overleftarrow{\\partial_t}[\\cdot] + \\partial_{tt}[\\cdot]\n",
    "$$\n",
    "\n",
    "$$\n",
    "\\frac{b}{m^2} L_t[u] =\n",
    "    \\overleftarrow{\\partial_x}\\left(b\\ \\overrightarrow{\\partial_x}\\ u \\right) +\n",
    "    \\overleftarrow{\\partial_y}\\left(b\\ \\overrightarrow{\\partial_y}\\ u \\right) +\n",
    "    \\overleftarrow{\\partial_z}\\left(b\\ \\overrightarrow{\\partial_z}\\ u \\right) + q\n",
    "$$\n",
    "\n",
    "## Quantity that is serialized \n",
    "\n",
    "Recall that for Jacobian operators we need the scaled time derivatives of the reference wavefield for both the Born source in the Jacobian forward, and the imaging condition in the Jacobian adjoint. The quantity shown below is used in those expressions, and this is what we will serialize and compress during the nonlinear forward.\n",
    "\n",
    "$$\n",
    "\\frac{2\\ b}{m_0}\\ L_t[u_0] \n",
    "$$\n",
    "\n",
    "## The two implementations\n",
    "\n",
    "We borrow the stencil from the self-adjoint operators shown in the jupyter notebooks linked above, and make two operators. Here are details about the configuration.\n",
    "\n",
    "### Save all time steps implementation\n",
    "  * wavefield for propagation: ```u1 = TimeFunctions(..., save=None)```\n",
    "  * wavefield for serialization: ```v1 = TimeFunctions(..., save=nt)```\n",
    "  * Run the operator in a single execution from ```time_m=1``` to ```time_M=nt-1```\n",
    "\n",
    "### Time blocking implementation\n",
    "  * wavefield for propagation: ```u2 = TimeFunctions(..., save=None)```\n",
    "  * wavefield for serialization: ```v2 = TimeFunctions(..., save=Buffer(M))```\n",
    "  * Run the operator in a sequence of time blocks, each with $M$ time steps, from ```time_m=1``` to ```time_M=nt-1```"
   ]
  },
  {
   "cell_type": "code",
   "execution_count": 21,
   "metadata": {},
   "outputs": [
    {
     "name": "stderr",
     "output_type": "stream",
     "text": [
      "Operator `Kernel` run in 0.02 s\n"
     ]
    }
   ],
   "source": [
    "# NBVAL_IGNORE_OUTPUT\n",
    "\n",
    "# Define M: number of time steps in each time block\n",
    "M = 5\n",
    "\n",
    "# Create TimeFunctions\n",
    "u1 = TimeFunction(name=\"u1\", grid=grid, time_order=2, space_order=space_order, save=None)\n",
    "u2 = TimeFunction(name=\"u2\", grid=grid, time_order=2, space_order=space_order, save=None)\n",
    "v1 = TimeFunction(name=\"v1\", grid=grid, time_order=2, space_order=space_order, save=nt)\n",
    "v2 = TimeFunction(name=\"v2\", grid=grid, time_order=2, space_order=space_order, save=Buffer(M))\n",
    "\n",
    "# get time and space dimensions \n",
    "t,x,z = u1.dimensions\n",
    "\n",
    "# Source terms (see notebooks linked above for more detail)\n",
    "src1_term = src.inject(field=u1.forward, expr=src * t.spacing**2 * m0**2 / b)\n",
    "src2_term = src.inject(field=u2.forward, expr=src * t.spacing**2 * m0**2 / b)\n",
    "nl_rec1_term = nl_rec1.interpolate(expr=u1.forward)\n",
    "nl_rec2_term = nl_rec2.interpolate(expr=u2.forward)\n",
    "\n",
    "# The nonlinear forward time update equation\n",
    "update1 = (t.spacing**2 * m0**2 / b) * \\\n",
    "    ((b * u1.dx(x0=x+x.spacing/2)).dx(x0=x-x.spacing/2) + \\\n",
    "     (b * u1.dz(x0=z+z.spacing/2)).dz(x0=z-z.spacing/2)) + \\\n",
    "    (2 - t.spacing * wOverQ) * u1 + \\\n",
    "    (t.spacing * wOverQ - 1) * u1.backward\n",
    "\n",
    "update2 = (t.spacing**2 * m0**2 / b) * \\\n",
    "    ((b * u2.dx(x0=x+x.spacing/2)).dx(x0=x-x.spacing/2) + \\\n",
    "     (b * u2.dz(x0=z+z.spacing/2)).dz(x0=z-z.spacing/2)) + \\\n",
    "    (2 - t.spacing * wOverQ) * u2 + \\\n",
    "    (t.spacing * wOverQ - 1) * u2.backward\n",
    "\n",
    "stencil1 = Eq(u1.forward, update1)\n",
    "stencil2 = Eq(u2.forward, update2)\n",
    "\n",
    "# Equations for the Born term\n",
    "v1_term = Eq(v1, (2 * b * m0**-3) * (wOverQ * u1.dt(x0=t-t.spacing/2) + u1.dt2))\n",
    "v2_term = Eq(v2, (2 * b * m0**-3) * (wOverQ * u2.dt(x0=t-t.spacing/2) + u2.dt2))\n",
    "\n",
    "# Update spacing_map (see notebooks linked above for more detail)\n",
    "spacing_map = grid.spacing_map\n",
    "spacing_map.update({t.spacing : dt})\n",
    "\n",
    "# Build the Operators\n",
    "nl_op1 = Operator([stencil1, src1_term, nl_rec1_term, v1_term], subs=spacing_map)\n",
    "nl_op2 = Operator([stencil2, src2_term, nl_rec2_term, v2_term], subs=spacing_map)\n",
    "\n",
    "# Run operator 1 for all time samples\n",
    "u1.data[:] = 0\n",
    "v1.data[:] = 0\n",
    "nl_rec1.data[:] = 0\n",
    "nl_op1(time_m=1, time_M=nt-2)\n",
    "\n",
    "None"
   ]
  },
  {
   "cell_type": "code",
   "execution_count": 22,
   "metadata": {},
   "outputs": [
    {
     "name": "stdout",
     "output_type": "stream",
     "text": [
      "3.739e+00\n",
      "2.205e-10\n",
      "6.167e-03\n"
     ]
    }
   ],
   "source": [
    "# NBVAL_IGNORE_OUTPUT\n",
    "\n",
    "# Continuous integration hooks for the save all timesteps implementation\n",
    "# We ensure the norm of these computed wavefields is repeatable\n",
    "print(\"%.3e\" % norm(u1))\n",
    "print(\"%.3e\" % norm(nl_rec1))\n",
    "print(\"%.3e\" % norm(v1))\n",
    "assert np.isclose(norm(u1), 3.739e+00, atol=0, rtol=1e-3)\n",
    "assert np.isclose(norm(nl_rec1), 2.205e-10, atol=0, rtol=1e-3)\n",
    "assert np.isclose(norm(v1), 6.167e-03, atol=0, rtol=1e-3)"
   ]
  },
  {
   "cell_type": "markdown",
   "metadata": {},
   "source": [
    "### Run the time blocking implementation over blocks of M time steps\n",
    "\n",
    "After each block of $M$ time steps, we return control to python to extract the Born term and serialize/compress. \n",
    "\n",
    "The next cell exercises the time blocking operator over $N$ time blocks. "
   ]
  },
  {
   "cell_type": "code",
   "execution_count": 23,
   "metadata": {},
   "outputs": [
    {
     "name": "stderr",
     "output_type": "stream",
     "text": [
      "Operator `Kernel` run in 0.01 s\n"
     ]
    },
    {
     "name": "stdout",
     "output_type": "stream",
     "text": [
      "kt1,kt2,len,cratio,|u1|,|u2|,|v1-v2|;   1   4   4  2269.3494 1.350484e-03 1.350484e-03 0.000000e+00\n",
      "kt1,kt2,len,cratio,|u1|,|u2|,|v1-v2|;   1   4   4   634.1953 1.148622e-03 1.148622e-03 0.000000e+00\n",
      "kt1,kt2,len,cratio,|u1|,|u2|,|v1-v2|;   1   4   4   200.3787 8.238639e-04 8.238639e-04 0.000000e+00\n",
      "kt1,kt2,len,cratio,|u1|,|u2|,|v1-v2|;   1   4   4    96.8909 6.871836e-04 6.871836e-04 0.000000e+00\n"
     ]
    },
    {
     "name": "stderr",
     "output_type": "stream",
     "text": [
      "Operator `Kernel` run in 0.01 s\n"
     ]
    },
    {
     "name": "stdout",
     "output_type": "stream",
     "text": [
      "kt1,kt2,len,cratio,|u1|,|u2|,|v1-v2|;   5   9   5    54.8344 8.612646e-04 8.612646e-04 0.000000e+00\n",
      "kt1,kt2,len,cratio,|u1|,|u2|,|v1-v2|;   5   9   5    37.4019 1.037131e-03 1.037131e-03 0.000000e+00\n",
      "kt1,kt2,len,cratio,|u1|,|u2|,|v1-v2|;   5   9   5    31.4977 1.067067e-03 1.067067e-03 0.000000e+00\n",
      "kt1,kt2,len,cratio,|u1|,|u2|,|v1-v2|;   5   9   5    27.9667 9.896747e-04 9.896747e-04 0.000000e+00\n",
      "kt1,kt2,len,cratio,|u1|,|u2|,|v1-v2|;   5   9   5    26.3767 9.165464e-04 9.165464e-04 0.000000e+00\n"
     ]
    },
    {
     "name": "stderr",
     "output_type": "stream",
     "text": [
      "Operator `Kernel` run in 0.01 s\n"
     ]
    },
    {
     "name": "stdout",
     "output_type": "stream",
     "text": [
      "kt1,kt2,len,cratio,|u1|,|u2|,|v1-v2|;  10  14   5    24.0097 9.124626e-04 9.124626e-04 0.000000e+00\n",
      "kt1,kt2,len,cratio,|u1|,|u2|,|v1-v2|;  10  14   5    22.6716 9.440763e-04 9.440763e-04 0.000000e+00\n",
      "kt1,kt2,len,cratio,|u1|,|u2|,|v1-v2|;  10  14   5    21.9657 9.703403e-04 9.703403e-04 0.000000e+00\n",
      "kt1,kt2,len,cratio,|u1|,|u2|,|v1-v2|;  10  14   5    21.0571 9.909896e-04 9.909896e-04 0.000000e+00\n",
      "kt1,kt2,len,cratio,|u1|,|u2|,|v1-v2|;  10  14   5    20.4535 1.005566e-03 1.005566e-03 0.000000e+00\n"
     ]
    },
    {
     "name": "stderr",
     "output_type": "stream",
     "text": [
      "Operator `Kernel` run in 0.01 s\n"
     ]
    },
    {
     "name": "stdout",
     "output_type": "stream",
     "text": [
      "kt1,kt2,len,cratio,|u1|,|u2|,|v1-v2|;  15  19   5    19.7252 9.935920e-04 9.935920e-04 0.000000e+00\n",
      "kt1,kt2,len,cratio,|u1|,|u2|,|v1-v2|;  15  19   5    18.9037 9.520441e-04 9.520441e-04 0.000000e+00\n",
      "kt1,kt2,len,cratio,|u1|,|u2|,|v1-v2|;  15  19   5    18.3672 9.215065e-04 9.215065e-04 0.000000e+00\n",
      "kt1,kt2,len,cratio,|u1|,|u2|,|v1-v2|;  15  19   5    17.6396 9.422954e-04 9.422954e-04 0.000000e+00\n",
      "kt1,kt2,len,cratio,|u1|,|u2|,|v1-v2|;  15  19   5    17.2361 9.907656e-04 9.907656e-04 0.000000e+00\n"
     ]
    },
    {
     "name": "stderr",
     "output_type": "stream",
     "text": [
      "Operator `Kernel` run in 0.01 s\n"
     ]
    },
    {
     "name": "stdout",
     "output_type": "stream",
     "text": [
      "kt1,kt2,len,cratio,|u1|,|u2|,|v1-v2|;  20  24   5    16.6201 1.010868e-03 1.010868e-03 0.000000e+00\n",
      "kt1,kt2,len,cratio,|u1|,|u2|,|v1-v2|;  20  24   5    16.1167 9.856700e-04 9.856700e-04 0.000000e+00\n",
      "kt1,kt2,len,cratio,|u1|,|u2|,|v1-v2|;  20  24   5    15.8549 9.502065e-04 9.502065e-04 0.000000e+00\n",
      "kt1,kt2,len,cratio,|u1|,|u2|,|v1-v2|;  20  24   5    15.6377 9.453722e-04 9.453722e-04 0.000000e+00\n",
      "kt1,kt2,len,cratio,|u1|,|u2|,|v1-v2|;  20  24   5    15.1035 9.683384e-04 9.683384e-04 0.000000e+00\n"
     ]
    },
    {
     "name": "stderr",
     "output_type": "stream",
     "text": [
      "Operator `Kernel` run in 0.01 s\n"
     ]
    },
    {
     "name": "stdout",
     "output_type": "stream",
     "text": [
      "kt1,kt2,len,cratio,|u1|,|u2|,|v1-v2|;  25  29   5    14.7533 9.893423e-04 9.893423e-04 0.000000e+00\n",
      "kt1,kt2,len,cratio,|u1|,|u2|,|v1-v2|;  25  29   5    14.3882 9.960936e-04 9.960936e-04 0.000000e+00\n",
      "kt1,kt2,len,cratio,|u1|,|u2|,|v1-v2|;  25  29   5    14.3052 9.959053e-04 9.959053e-04 0.000000e+00\n",
      "kt1,kt2,len,cratio,|u1|,|u2|,|v1-v2|;  25  29   5    13.8742 9.920930e-04 9.920930e-04 0.000000e+00\n",
      "kt1,kt2,len,cratio,|u1|,|u2|,|v1-v2|;  25  29   5    13.5596 9.809518e-04 9.809518e-04 0.000000e+00\n"
     ]
    },
    {
     "name": "stderr",
     "output_type": "stream",
     "text": [
      "Operator `Kernel` run in 0.01 s\n"
     ]
    },
    {
     "name": "stdout",
     "output_type": "stream",
     "text": [
      "kt1,kt2,len,cratio,|u1|,|u2|,|v1-v2|;  30  34   5    13.3595 9.698760e-04 9.698760e-04 0.000000e+00\n",
      "kt1,kt2,len,cratio,|u1|,|u2|,|v1-v2|;  30  34   5    12.9197 9.764855e-04 9.764855e-04 0.000000e+00\n",
      "kt1,kt2,len,cratio,|u1|,|u2|,|v1-v2|;  30  34   5    12.8667 1.000876e-03 1.000876e-03 0.000000e+00\n",
      "kt1,kt2,len,cratio,|u1|,|u2|,|v1-v2|;  30  34   5    12.5170 1.018203e-03 1.018203e-03 0.000000e+00\n",
      "kt1,kt2,len,cratio,|u1|,|u2|,|v1-v2|;  30  34   5    12.3496 1.010040e-03 1.010040e-03 0.000000e+00\n"
     ]
    },
    {
     "name": "stderr",
     "output_type": "stream",
     "text": [
      "Operator `Kernel` run in 0.01 s\n"
     ]
    },
    {
     "name": "stdout",
     "output_type": "stream",
     "text": [
      "kt1,kt2,len,cratio,|u1|,|u2|,|v1-v2|;  35  39   5    12.2269 9.891847e-04 9.891847e-04 0.000000e+00\n",
      "kt1,kt2,len,cratio,|u1|,|u2|,|v1-v2|;  35  39   5    11.9850 9.849145e-04 9.849145e-04 0.000000e+00\n",
      "kt1,kt2,len,cratio,|u1|,|u2|,|v1-v2|;  35  39   5    11.8972 1.005200e-03 1.005200e-03 0.000000e+00\n",
      "kt1,kt2,len,cratio,|u1|,|u2|,|v1-v2|;  35  39   5    11.5520 1.029141e-03 1.029141e-03 0.000000e+00\n",
      "kt1,kt2,len,cratio,|u1|,|u2|,|v1-v2|;  35  39   5    11.2599 1.038208e-03 1.038208e-03 0.000000e+00\n"
     ]
    },
    {
     "name": "stderr",
     "output_type": "stream",
     "text": [
      "Operator `Kernel` run in 0.01 s\n"
     ]
    }
   ],
   "source": [
    "# NBVAL_IGNORE_OUTPUT\n",
    "\n",
    "# We make an array the full size for correctness testing\n",
    "v2_all = np.zeros(v1.data.shape, dtype=dtype)\n",
    "\n",
    "# Number of time blocks\n",
    "N = int((nt-1) / M) + 1\n",
    "\n",
    "# Open a binary file in append mode to save the wavefield chunks  \n",
    "filename = \"timeblocking.nonlinear.bin\"\n",
    "\n",
    "if os.path.exists(filename):\n",
    "    os.remove(filename)\n",
    "f = open(filename, \"ab\")\n",
    "\n",
    "# Arrays to save offset and length of compressed data\n",
    "file_offset = np.zeros(nt, dtype=np.int64)\n",
    "file_length = np.zeros(nt, dtype=np.int64)\n",
    "\n",
    "# The length of the data type, 4 bytes for float32\n",
    "itemsize = v2.data[0,:,:].dtype.itemsize \n",
    "\n",
    "# The length of a an uncompressed wavefield, used to compute compression ratio below\n",
    "len0 = 4.0 * np.prod(v2._data[0,:,:].shape)\n",
    "\n",
    "# Loop over time blocks\n",
    "v2_all[:] = 0\n",
    "u2.data[:] = 0\n",
    "v2.data[:] = 0\n",
    "nl_rec2.data[:] = 0\n",
    "for kN in range(0,N,1):\n",
    "    kt1 = max((kN + 0) * M, 1)\n",
    "    kt2 = min((kN + 1) * M - 1, nt-2)\n",
    "    nl_op2(time_m=kt1, time_M=kt2)\n",
    "\n",
    "    # Copy computed Born term for correctness testing\n",
    "    for kt in range(kt1,kt2+1):\n",
    "\n",
    "        # assign\n",
    "        v2_all[kt,:,:] = v2.data[(kt%M),:,:]\n",
    "    \n",
    "        # compression\n",
    "        c = blosc.compress_ptr(v2._data[(kt%M),:,:].__array_interface__['data'][0], \n",
    "                               np.prod(v2._data[(kt%M),:,:].shape), \n",
    "                               v2._data[(kt%M),:,:].dtype.itemsize, 9, True, 'zstd')\n",
    "\n",
    "#         d = copy.copy(v2._data[0,:,:])\n",
    "#         blosc.decompress_ptr(c, d.__array_interface__['data'][0])\n",
    "#         n1 = np.linalg.norm(d)\n",
    "#         n2 = np.linalg.norm(v2._data[(kt%M),:,:])\n",
    "#         print(\"n1,n2; \", n1, n2, n1 - n2)\n",
    "\n",
    "        # compression ratio\n",
    "        cratio = len0 / (1.0 * len(c))\n",
    "        \n",
    "        # serialization\n",
    "        file_offset[kt] = f.tell()\n",
    "        f.write(c)\n",
    "        file_length[kt] = len(c)\n",
    "\n",
    "        rms_v1 = np.linalg.norm(v1.data[kt,:,:].reshape(-1))\n",
    "        rms_v2 = np.linalg.norm(v2_all[kt,:,:].reshape(-1))\n",
    "        rms_12 = np.linalg.norm(v1.data[kt,:,:].reshape(-1) - v2_all[kt,:,:].reshape(-1))\n",
    "        print(\"kt1,kt2,len,cratio,|u1|,|u2|,|v1-v2|; %3d %3d %3d %10.4f %12.6e %12.6e %12.6e\" % \n",
    "              (kt1, kt2, kt2 - kt1 + 1, cratio, rms_v1, rms_v2, rms_12), flush=True)\n",
    "        \n",
    "# Close the binary file\n",
    "f.close()"
   ]
  },
  {
   "cell_type": "code",
   "execution_count": 24,
   "metadata": {},
   "outputs": [
    {
     "name": "stdout",
     "output_type": "stream",
     "text": [
      "2.205e-10\n",
      "6.167e-03\n"
     ]
    }
   ],
   "source": [
    "# NBVAL_IGNORE_OUTPUT\n",
    "\n",
    "# Continuous integration hooks for the time blocking implementation\n",
    "# We ensure the norm of these computed wavefields is repeatable\n",
    "# Note these are exactly the same norm values as the save all timesteps check above\n",
    "print(\"%.3e\" % norm(nl_rec1))\n",
    "print(\"%.3e\" % np.linalg.norm(v2_all))\n",
    "assert np.isclose(norm(nl_rec1), 2.205e-10, atol=0, rtol=1e-3)\n",
    "assert np.isclose(np.linalg.norm(v2_all), 6.167e-03, atol=0, rtol=1e-3)"
   ]
  },
  {
   "cell_type": "markdown",
   "metadata": {},
   "source": [
    "## Correctness test for nonlinear forward wavefield\n",
    "\n",
    "We now test correctness by measuring the maximum absolute difference between the wavefields computed with the```Buffer``` and save all time steps implementations."
   ]
  },
  {
   "cell_type": "code",
   "execution_count": 25,
   "metadata": {},
   "outputs": [
    {
     "name": "stdout",
     "output_type": "stream",
     "text": [
      "Maximum absolute difference +0.0000e+00\n"
     ]
    }
   ],
   "source": [
    "# NBVAL_IGNORE_OUTPUT\n",
    "\n",
    "dmax = np.max(np.abs(v1.data - v2_all))\n",
    "print(\"Maximum absolute difference %+.4e\" % (dmax))\n",
    "assert np.isclose(dmax, 0, atol=0, rtol=1e-14)"
   ]
  },
  {
   "cell_type": "markdown",
   "metadata": {},
   "source": [
    "## Implementation of Jacobian linearized forward\n",
    "\n",
    "As before we have two implementations:\n",
    "1. operates on all time steps in a single implementation and consumes the all time steps saved version of the nonlinear forward wavefield\n",
    "1. operates in time blocks, de-serializes and de-compresses $M$ time steps at a time, and consumes the compressed and serialized time blocking version of the nonlinear forward wavefield \n",
    "\n",
    "One difference in the correctness testing for this case is that we will assign the propagated perturbed wavefields to two ```TimeFunction(..., save=nt)``` for comparison."
   ]
  },
  {
   "cell_type": "code",
   "execution_count": 26,
   "metadata": {},
   "outputs": [
    {
     "name": "stderr",
     "output_type": "stream",
     "text": [
      "Operator `Kernel` run in 0.01 s\n"
     ]
    }
   ],
   "source": [
    "# NBVAL_IGNORE_OUTPUT\n",
    "\n",
    "# Create TimeFunctions\n",
    "du1 = TimeFunction(name=\"du1\", grid=grid, time_order=2, space_order=space_order, save=nt)\n",
    "du2 = TimeFunction(name=\"du2\", grid=grid, time_order=2, space_order=space_order, save=nt)\n",
    "\n",
    "lf_rec1_term = lf_rec1.interpolate(expr=du1.forward)\n",
    "lf_rec2_term = lf_rec2.interpolate(expr=du2.forward)\n",
    "\n",
    "# Time update equations\n",
    "# The linearized forward time update equation\n",
    "update1 = (t.spacing**2 * m0**2 / b) * \\\n",
    "    ((b * du1.dx(x0=x+x.spacing/2)).dx(x0=x-x.spacing/2) + \\\n",
    "     (b * du1.dz(x0=z+z.spacing/2)).dz(x0=z-z.spacing/2) + \\\n",
    "     (dm * v1)) + (2 - t.spacing * wOverQ) * du1 + \\\n",
    "    (t.spacing * wOverQ - 1) * du1.backward\n",
    "\n",
    "update2 = (t.spacing**2 * m0**2 / b) * \\\n",
    "    ((b * du2.dx(x0=x+x.spacing/2)).dx(x0=x-x.spacing/2) + \\\n",
    "     (b * du2.dz(x0=z+z.spacing/2)).dz(x0=z-z.spacing/2) + \\\n",
    "     (dm * v2)) + (2 - t.spacing * wOverQ) * du2 + \\\n",
    "    (t.spacing * wOverQ - 1) * du2.backward\n",
    "\n",
    "stencil1 = Eq(du1.forward, update1)\n",
    "stencil2 = Eq(du2.forward, update2)\n",
    "\n",
    "# Build the Operators\n",
    "lf_op1 = Operator([stencil1, lf_rec1_term], subs=spacing_map)\n",
    "lf_op2 = Operator([stencil2, lf_rec2_term], subs=spacing_map)\n",
    "\n",
    "# Run operator 1 for all time samples\n",
    "du1.data[:] = 0\n",
    "lf_rec1.data[:] = 0\n",
    "lf_op1(time_m=1, time_M=nt - 2)\n",
    "\n",
    "None"
   ]
  },
  {
   "cell_type": "code",
   "execution_count": 27,
   "metadata": {},
   "outputs": [
    {
     "name": "stdout",
     "output_type": "stream",
     "text": [
      "5.204e-02\n",
      "9.905e-10\n"
     ]
    }
   ],
   "source": [
    "# NBVAL_IGNORE_OUTPUT\n",
    "\n",
    "# Continuous integration hooks for the save all timesteps implementation\n",
    "# We ensure the norm of these computed wavefields is repeatable\n",
    "print(\"%.3e\" % norm(du1))\n",
    "print(\"%.3e\" % norm(lf_rec1))\n",
    "assert np.isclose(norm(du1), 5.204e-02, atol=0, rtol=1e-3)\n",
    "assert np.isclose(norm(lf_rec1), 9.905e-10, atol=0, rtol=1e-3)"
   ]
  },
  {
   "cell_type": "markdown",
   "metadata": {},
   "source": [
    "### Run the time blocking implementation over blocks of M time steps\n",
    "\n",
    "Before each block of $M$ time steps, we de-serialize and de-compress. \n",
    "\n",
    "### TODO\n",
    "* in the linearized op below figure out how the hell to use a pre-allocated array to hold the compressed bytes, instead of returning a new bytearray each time we read. Note this is not a problem when not using python, and there must be a way."
   ]
  },
  {
   "cell_type": "code",
   "execution_count": 28,
   "metadata": {},
   "outputs": [
    {
     "name": "stderr",
     "output_type": "stream",
     "text": [
      "Operator `Kernel` run in 0.01 s\n"
     ]
    },
    {
     "name": "stdout",
     "output_type": "stream",
     "text": [
      "kt1,kt2,len,cratio,|du1|,|du2|,|du1-du2|;   1   4   4  2269.3494 0.000000e+00 0.000000e+00 0.000000e+00\n",
      "kt1,kt2,len,cratio,|du1|,|du2|,|du1-du2|;   1   4   4   634.1953 0.000000e+00 0.000000e+00 0.000000e+00\n",
      "kt1,kt2,len,cratio,|du1|,|du2|,|du1-du2|;   1   4   4   200.3787 3.248618e-10 3.248618e-10 0.000000e+00\n",
      "kt1,kt2,len,cratio,|du1|,|du2|,|du1-du2|;   1   4   4    96.8909 6.293924e-09 6.293924e-09 0.000000e+00\n"
     ]
    },
    {
     "name": "stderr",
     "output_type": "stream",
     "text": [
      "Operator `Kernel` run in 0.01 s\n"
     ]
    },
    {
     "name": "stdout",
     "output_type": "stream",
     "text": [
      "kt1,kt2,len,cratio,|du1|,|du2|,|du1-du2|;   5   9   5    54.8344 3.011667e-08 3.011667e-08 0.000000e+00\n",
      "kt1,kt2,len,cratio,|du1|,|du2|,|du1-du2|;   5   9   5    37.4019 5.526788e-08 5.526788e-08 0.000000e+00\n",
      "kt1,kt2,len,cratio,|du1|,|du2|,|du1-du2|;   5   9   5    31.4977 3.888593e-08 3.888593e-08 0.000000e+00\n",
      "kt1,kt2,len,cratio,|du1|,|du2|,|du1-du2|;   5   9   5    27.9667 2.700029e-07 2.700029e-07 0.000000e+00\n",
      "kt1,kt2,len,cratio,|du1|,|du2|,|du1-du2|;   5   9   5    26.3767 8.058460e-07 8.058460e-07 0.000000e+00\n"
     ]
    },
    {
     "name": "stderr",
     "output_type": "stream",
     "text": [
      "Operator `Kernel` run in 0.01 s\n"
     ]
    },
    {
     "name": "stdout",
     "output_type": "stream",
     "text": [
      "kt1,kt2,len,cratio,|du1|,|du2|,|du1-du2|;  10  14   5    24.0097 1.515287e-06 1.515287e-06 0.000000e+00\n",
      "kt1,kt2,len,cratio,|du1|,|du2|,|du1-du2|;  10  14   5    22.6716 2.043159e-06 2.043159e-06 0.000000e+00\n",
      "kt1,kt2,len,cratio,|du1|,|du2|,|du1-du2|;  10  14   5    21.9657 2.163814e-06 2.163814e-06 0.000000e+00\n",
      "kt1,kt2,len,cratio,|du1|,|du2|,|du1-du2|;  10  14   5    21.0571 3.649038e-06 3.649038e-06 0.000000e+00\n",
      "kt1,kt2,len,cratio,|du1|,|du2|,|du1-du2|;  10  14   5    20.4535 8.698074e-06 8.698074e-06 0.000000e+00\n"
     ]
    },
    {
     "name": "stderr",
     "output_type": "stream",
     "text": [
      "Operator `Kernel` run in 0.01 s\n"
     ]
    },
    {
     "name": "stdout",
     "output_type": "stream",
     "text": [
      "kt1,kt2,len,cratio,|du1|,|du2|,|du1-du2|;  15  19   5    19.7252 1.687538e-05 1.687538e-05 0.000000e+00\n",
      "kt1,kt2,len,cratio,|du1|,|du2|,|du1-du2|;  15  19   5    18.9037 2.681207e-05 2.681207e-05 0.000000e+00\n",
      "kt1,kt2,len,cratio,|du1|,|du2|,|du1-du2|;  15  19   5    18.3672 3.581040e-05 3.581040e-05 0.000000e+00\n",
      "kt1,kt2,len,cratio,|du1|,|du2|,|du1-du2|;  15  19   5    17.6396 4.089360e-05 4.089360e-05 0.000000e+00\n",
      "kt1,kt2,len,cratio,|du1|,|du2|,|du1-du2|;  15  19   5    17.2361 4.530985e-05 4.530985e-05 0.000000e+00\n"
     ]
    },
    {
     "name": "stderr",
     "output_type": "stream",
     "text": [
      "Operator `Kernel` run in 0.01 s\n"
     ]
    },
    {
     "name": "stdout",
     "output_type": "stream",
     "text": [
      "kt1,kt2,len,cratio,|du1|,|du2|,|du1-du2|;  20  24   5    16.6201 6.876001e-05 6.876001e-05 0.000000e+00\n",
      "kt1,kt2,len,cratio,|du1|,|du2|,|du1-du2|;  20  24   5    16.1167 1.238207e-04 1.238207e-04 0.000000e+00\n",
      "kt1,kt2,len,cratio,|du1|,|du2|,|du1-du2|;  20  24   5    15.8549 2.005535e-04 2.005535e-04 0.000000e+00\n",
      "kt1,kt2,len,cratio,|du1|,|du2|,|du1-du2|;  20  24   5    15.6377 2.810454e-04 2.810454e-04 0.000000e+00\n",
      "kt1,kt2,len,cratio,|du1|,|du2|,|du1-du2|;  20  24   5    15.1035 3.451817e-04 3.451817e-04 0.000000e+00\n"
     ]
    },
    {
     "name": "stderr",
     "output_type": "stream",
     "text": [
      "Operator `Kernel` run in 0.01 s\n"
     ]
    },
    {
     "name": "stdout",
     "output_type": "stream",
     "text": [
      "kt1,kt2,len,cratio,|du1|,|du2|,|du1-du2|;  25  29   5    14.7533 3.841233e-04 3.841233e-04 0.000000e+00\n",
      "kt1,kt2,len,cratio,|du1|,|du2|,|du1-du2|;  25  29   5    14.3882 4.327434e-04 4.327434e-04 0.000000e+00\n",
      "kt1,kt2,len,cratio,|du1|,|du2|,|du1-du2|;  25  29   5    14.3052 5.876190e-04 5.876190e-04 0.000000e+00\n",
      "kt1,kt2,len,cratio,|du1|,|du2|,|du1-du2|;  25  29   5    13.8742 9.081661e-04 9.081661e-04 0.000000e+00\n",
      "kt1,kt2,len,cratio,|du1|,|du2|,|du1-du2|;  25  29   5    13.5596 1.357245e-03 1.357245e-03 0.000000e+00\n"
     ]
    },
    {
     "name": "stderr",
     "output_type": "stream",
     "text": [
      "Operator `Kernel` run in 0.01 s\n"
     ]
    },
    {
     "name": "stdout",
     "output_type": "stream",
     "text": [
      "kt1,kt2,len,cratio,|du1|,|du2|,|du1-du2|;  30  34   5    13.3595 1.853241e-03 1.853241e-03 0.000000e+00\n",
      "kt1,kt2,len,cratio,|du1|,|du2|,|du1-du2|;  30  34   5    12.9197 2.298179e-03 2.298179e-03 0.000000e+00\n",
      "kt1,kt2,len,cratio,|du1|,|du2|,|du1-du2|;  30  34   5    12.8667 2.620240e-03 2.620240e-03 0.000000e+00\n",
      "kt1,kt2,len,cratio,|du1|,|du2|,|du1-du2|;  30  34   5    12.5170 2.897672e-03 2.897672e-03 0.000000e+00\n",
      "kt1,kt2,len,cratio,|du1|,|du2|,|du1-du2|;  30  34   5    12.3496 3.571639e-03 3.571639e-03 0.000000e+00\n"
     ]
    },
    {
     "name": "stderr",
     "output_type": "stream",
     "text": [
      "Operator `Kernel` run in 0.01 s\n"
     ]
    },
    {
     "name": "stdout",
     "output_type": "stream",
     "text": [
      "kt1,kt2,len,cratio,|du1|,|du2|,|du1-du2|;  35  39   5    12.2269 5.320055e-03 5.320055e-03 0.000000e+00\n",
      "kt1,kt2,len,cratio,|du1|,|du2|,|du1-du2|;  35  39   5    11.9850 8.485367e-03 8.485367e-03 0.000000e+00\n",
      "kt1,kt2,len,cratio,|du1|,|du2|,|du1-du2|;  35  39   5    11.8972 1.312570e-02 1.312570e-02 0.000000e+00\n",
      "kt1,kt2,len,cratio,|du1|,|du2|,|du1-du2|;  35  39   5    11.5520 1.926270e-02 1.926270e-02 0.000000e+00\n",
      "kt1,kt2,len,cratio,|du1|,|du2|,|du1-du2|;  35  39   5    11.2599 2.691003e-02 2.691003e-02 0.000000e+00\n"
     ]
    },
    {
     "name": "stderr",
     "output_type": "stream",
     "text": [
      "Operator `Kernel` run in 0.01 s\n"
     ]
    }
   ],
   "source": [
    "# NBVAL_IGNORE_OUTPUT\n",
    "\n",
    "# We make an array the full size for correctness testing\n",
    "v2_all = np.zeros(v1.data.shape, dtype=dtype)\n",
    "\n",
    "# Open the binary file in read only mode\n",
    "f = open(filename, \"rb\")\n",
    "\n",
    "# Temporay nd array for decompression\n",
    "d = copy.copy(v2._data[0,:,:])\n",
    "\n",
    "# Array to hold compression ratio\n",
    "cratio = np.zeros(nt, dtype=dtype)\n",
    "\n",
    "# Loop over time blocks\n",
    "du2.data[:] = 0\n",
    "lf_rec2.data[:] = 0\n",
    "for kN in range(0,N,1):\n",
    "    kt1 = max((kN + 0) * M, 1)\n",
    "    kt2 = min((kN + 1) * M - 1, nt-2)\n",
    "    \n",
    "    # 1. Seek to file_offset[kt] \n",
    "    # 2. Read file_length[kt1] bytes from file\n",
    "    # 3. Decompress wavefield and assign to v2 Buffer\n",
    "    for kt in range(kt1,kt2+1):\n",
    "        f.seek(file_offset[kt], 0)\n",
    "        c = f.read(file_length[kt])\n",
    "        blosc.decompress_ptr(c, v2._data[(kt%M),:,:].__array_interface__['data'][0])\n",
    "        cratio[kt] = len0 / (1.0 * len(c))\n",
    "\n",
    "    # Run the operator for this time block\n",
    "    lf_op2(time_m=kt1, time_M=kt2)\n",
    "    \n",
    "    for kt in range(kt1,kt2+1):\n",
    "        rms_du1 = np.linalg.norm(du1.data[kt,:,:].reshape(-1))\n",
    "        rms_du2 = np.linalg.norm(du2.data[kt,:,:].reshape(-1))\n",
    "        rms_d12 = np.linalg.norm(du1.data[kt,:,:].reshape(-1) - du2.data[kt,:,:].reshape(-1))\n",
    "        print(\"kt1,kt2,len,cratio,|du1|,|du2|,|du1-du2|; %3d %3d %3d %10.4f %12.6e %12.6e %12.6e\" % \n",
    "              (kt1, kt2, kt2 - kt1 + 1, cratio[kt], rms_du1, rms_du2, rms_d12), flush=True)"
   ]
  },
  {
   "cell_type": "markdown",
   "metadata": {},
   "source": [
    "## Correctness test for Jacobian forward wavefield\n",
    "\n",
    "We now test correctness by measuring the maximum absolute difference between the wavefields computed with the```Buffer``` and save all time steps implementations."
   ]
  },
  {
   "cell_type": "code",
   "execution_count": 31,
   "metadata": {},
   "outputs": [
    {
     "name": "stdout",
     "output_type": "stream",
     "text": [
      "Maximum absolute difference +0.0000e+00\n"
     ]
    }
   ],
   "source": [
    "# NBVAL_IGNORE_OUTPUT\n",
    "\n",
    "dmax = np.max(np.abs(du1.data - du2.data))\n",
    "print(\"Maximum absolute difference %+.4e\" % (dmax))\n",
    "assert np.isclose(dmax, 0, atol=0, rtol=1e-14)"
   ]
  },
  {
   "cell_type": "markdown",
   "metadata": {},
   "source": [
    "## Time blocking implementation of Jacobian linearized adjoint"
   ]
  },
  {
   "cell_type": "markdown",
   "metadata": {},
   "source": [
    "### Save all time steps implementation\n",
    "\n",
    "We re-use the computed nonlinear forward wavefields $u1$ and $u2$ and create a new ```TimeFunction``` with ```save=nt``` for the linearized forward wavefield $du1$. We implement the stencil described in the second jupyter notebook linked above for this operator. \n",
    "\n",
    "Below we generate the linearized ```Born wavefield``` for the save all time steps case."
   ]
  },
  {
   "cell_type": "code",
   "execution_count": null,
   "metadata": {},
   "outputs": [],
   "source": []
  },
  {
   "cell_type": "markdown",
   "metadata": {},
   "source": [
    "### Time blocking implementation\n",
    "\n",
    "We now instantiate $du2$, a ```TimeFunction``` that uses ```Buffer``` for saving $M$ time steps.\n",
    "\n",
    "Below we generate the linearized ```Born wavefield``` for the time blocking case."
   ]
  },
  {
   "cell_type": "code",
   "execution_count": null,
   "metadata": {},
   "outputs": [],
   "source": []
  },
  {
   "cell_type": "markdown",
   "metadata": {},
   "source": [
    "### Run loop over blocks of M time steps\n",
    "\n",
    "As in the nonlinear forward example above, we run $N$ blocks of $M$ time steps."
   ]
  },
  {
   "cell_type": "markdown",
   "metadata": {},
   "source": [
    "# Delete the file used for serialiation"
   ]
  },
  {
   "cell_type": "code",
   "execution_count": 30,
   "metadata": {},
   "outputs": [],
   "source": [
    "# os.remove(filename)"
   ]
  },
  {
   "cell_type": "code",
   "execution_count": null,
   "metadata": {},
   "outputs": [],
   "source": []
  }
 ],
 "metadata": {
  "anaconda-cloud": {},
  "kernelspec": {
   "display_name": "Python 3",
   "language": "python",
   "name": "python3"
  },
  "language_info": {
   "codemirror_mode": {
    "name": "ipython",
    "version": 3
   },
   "file_extension": ".py",
   "mimetype": "text/x-python",
   "name": "python",
   "nbconvert_exporter": "python",
   "pygments_lexer": "ipython3",
   "version": "3.8.3"
  }
 },
 "nbformat": 4,
 "nbformat_minor": 4
}
