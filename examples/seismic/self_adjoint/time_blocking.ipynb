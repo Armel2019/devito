{
 "cells": [
  {
   "cell_type": "markdown",
   "metadata": {},
   "source": [
    "# Implementation of time blocking for compression/serialization and de-serialization/de-compression of wavefields with Devito operators"
   ]
  },
  {
   "cell_type": "markdown",
   "metadata": {},
   "source": [
    "## Introduction \n",
    "\n",
    "The goal of this tutorial is to prototype the compression/serialization and de-serialization/de-compression for wavefields in Devito. The motivation is using seismic modeling operators for full waveform inversion (FWI). Some of the steps in FWI require the use of previously computed wavefields, and of particular interest the adjoint of the Jacobian linearized operator -- an operator that maps data perturbation into velocity perturbation and is used to build FWI gradients -- requires a zero-lag temporal correlation with the wavefield that is computed with the nonlinear source. \n",
    "\n",
    "There are implemented alternatives to serialization/de-serialization like checkpointing (link to nb?), but we investigate the serialization option here. \n",
    "\n",
    "We aim to provide a *proof of concept* for compression/serialization and de-serialization/de-compression of the nonlinear wavefield. We will achieve this via _time blocking_: we will run a number of time steps in the generated c kernel, and then return control to python for compression/serialization (for the nonlinear forward operator), and de-serialization/de-compression (for the linearized Jacobian forward and adjoint operators).\n",
    "\n",
    "In order to illustrate the use case for serialization, we outline the workflow for computing the gradient of the FWI objective function, ignoring a lot of details, as follows:\n",
    "\n",
    "1. Generate the nonlinear forward modeled data at the receivers $d_{mod}$\n",
    "$$ \n",
    "d_{mod} = F m \n",
    "$$\n",
    "\n",
    "1. Compress and serialize the nonlinear source wavefield to disk in *time blocks* during computation of 1. The entire nonlinear wavefield is of size $[nt,nx,nz]$ in 2D, but we deal with a block of $M$ time steps at a time, so the size of the chunk to be compressed and serialized is $[M,nx,nz]$. \n",
    "\n",
    "1. Compute the data residual $\\delta r$ by differencing observed and modeled data at the receivers \n",
    "$$\n",
    "\\delta r = d_{obs} - d_{mod}\n",
    "$$\n",
    "\n",
    "1. Backproject the data residual $\\delta r$ via time reversal with the adjoint linearized Jacobian operator.\n",
    "\n",
    "1. De-serialize and de-compress the nonlinear source wavefield from disk during computation in step 4, synchronizing time step between the nonlinear wavefield computed forward in time, and time reversed adjoint wavefield. We will deal with de-serialization and de-compression of chunks of $M$ time steps of size $[M,nx,nz]$.\n",
    "\n",
    "1. Increment the model perturbation via zero lag correlation of the de-serialized nonlinear source wavefield and the backprojected receiver adjoint wavefield. Note that this computed model perturbation is the  _gradient_ of the FWI objective function.\n",
    "$$\n",
    "\\delta m = \\bigl( \\nabla F\\bigr)^\\top\\ \\delta r\n",
    "$$\n",
    "\n",
    "Please see other notebooks in this directory for more details, in particular the notebooks describing the self-adjoint modeling operators. \n",
    "\n",
    "| Notebook description | Link | \n",
    "|:---|:---|\n",
    "| Nonlinear operator | [sa_01_iso_implementation1.ipynb](sa_01_iso_implementation1.ipynb) |\n",
    "| Jacobian linearized operators | [sa_02_iso_implementation2.ipynb](sa_02_iso_implementation2.ipynb) |\n",
    "| Correctness tests |[ sa_03_iso_correctness.ipynb](sa_03_iso_correctness.ipynb) |"
   ]
  },
  {
   "cell_type": "markdown",
   "metadata": {},
   "source": [
    "## Outline \n",
    "1. Define symbols\n",
    "1. Description of tests to verify correctness\n",
    "1. Description of time blocking implementation\n",
    "1. Compression note -- use of ```blosc```\n",
    "1. Create small 2D test model\n",
    "1. Implement and test the Nonlinear forward operation\n",
    "  - Save all time steps \n",
    "  - Time blocking plus compression/serialization\n",
    "  - Ensure differences are at machine epsilon \n",
    "1. Implement and test the Jacobian linearized forward operation\n",
    "  - Save all time steps \n",
    "  - Time blocking plus compression/serialization\n",
    "  - Ensure differences are at machine epsilon \n",
    "1. Implement and test theJacobian linearized adjoint operation\n",
    "  - Save all time steps \n",
    "  - Time blocking plus compression/serialization\n",
    "  - Ensure differences are at machine epsilon \n",
    "1. Discussion"
   ]
  },
  {
   "cell_type": "markdown",
   "metadata": {},
   "source": [
    "## Table of symbols\n",
    "\n",
    "We show the symbols here relevant to the implementation of the linearized operators.\n",
    "\n",
    "| Symbol &nbsp; &nbsp; &nbsp; &nbsp; &nbsp; &nbsp; &nbsp; &nbsp; &nbsp; &nbsp; &nbsp; &nbsp; &nbsp; &nbsp; &nbsp; &nbsp; &nbsp; | Description  | Dimensionality | \n",
    "|:---|:---|:---|\n",
    "| $m_0(x,y,z)$ | Reference P wave velocity    | function of space |\n",
    "| $\\delta m(x,y,z)$ | Perturbation to P wave velocity    | function of space |\n",
    "| $u_0(t,x,y,z)$ | Reference pressure wavefield | function of time and space |\n",
    "| $\\delta u(t,x,y,z)$ | Perturbation to pressure wavefield | function of time and space |\n",
    "| $s(t,x,y,z)$ | Source wavefield | function of time, localized in space to source location |\n",
    "| $r(t,x,y,z)$ | Receiver wavefield | function of time, localized in space to receiver locations |\n",
    "| $\\delta r(t,x,y,z)$ | Receiver wavefield perturbation | function of time, localized in space to receiver locations |\n",
    "| $F[m]\\ q$ | Forward linear modeling operator | Nonlinear in $m$, linear in $q, s$: $\\quad$ maps $q \\rightarrow s$ |\n",
    "| $F[m; q]$ | Forward nonlinear modeling operator | Nonlinear in $m$, linear in $q$: $\\quad$ maps $m \\rightarrow r$ |\n",
    "| $\\nabla F[m; q]\\ \\delta m$ | Forward Jacobian modeling operator | Linearized at $[m; q]$: $\\quad$ maps $\\delta m \\rightarrow \\delta r$ |\n",
    "| $\\bigl( \\nabla F[m; q] \\bigr)^\\top\\ \\delta r$ | Adjoint Jacobian modeling operator | Linearized at $[m; q]$: $\\quad$ maps $\\delta r \\rightarrow \\delta m$ |"
   ]
  },
  {
   "cell_type": "markdown",
   "metadata": {},
   "source": [
    "## Description of tests to verify correctness\n",
    "\n",
    "In order to make sure we have implemented the time blocking correctly, we numerically compare the output from two runs:\n",
    "1. all time steps saved implementation -- requires a lot of memory to hold wavefields at each time step\n",
    "1. time blocking plus compression/serialization implementation -- requires only enough memory to hold the wavefields in a time block  \n",
    "\n",
    "We perform these tests for three phases of FWI modeling:\n",
    "1. nonlinear forward: maps model to data, *forward in time*\n",
    "1. Jacobian linearized forward: maps model perturbation to data perturbation, *forward in time*\n",
    "1. Jacobian linearized adjoint: maps data perturbation to model perturbation, *backward in time*\n",
    "\n",
    "We will design a small 2D test experiment with a source in the middle of the model and short enough elapsed modeling time that we do not need to worry about boundary reflections for these tests, or runnin out of memory saving all time steps."
   ]
  },
  {
   "cell_type": "markdown",
   "metadata": {},
   "source": [
    "## Description of time blocking implementation\n",
    "\n",
    "We gratefully acknowledge Down Under Geosolutions (DUG) for in depth discussions about their production time blocking implementation. Those discussions shaped the implementation shown here. The most important idea is to separate the programmatic containers used for propagation and serialization. To do this we utilize Devito ```TimeFunction``` constructed two different ways.\n",
    "\n",
    "### Propagation uses ```TimeFunction(..., save=None)```\n",
    "\n",
    "We use a default constructed ```TimeFunction``` for propagation. This can be specified in the constructor via either ```save=None``` or no ```save``` argument at all. Devito backs such a default ```TimeFunction``` by a ```Buffer``` of size ```time_order+1```, or 3 for second order in time. We show below the mapping from the monotonic *ordinary time indices* to the buffered *modulo time indices* as used by a ```Buffer``` in a ```TimeFuntion``` with ```time_order=2```.\n",
    "\n",
    "### Modulo indexing for ```Buffer``` of size 3\n",
    "```\n",
    "Ordinary time indices:  0  1  2  3  4  5  6  7  8  9 10 11 12 13 14 15\n",
    "Modulo   time indices:  0  1  2  0  1  2  0  1  2  0  1  2  0  1  2  0\n",
    "```\n",
    "\n",
    "*Important note:* the modulo indexing of ```Buffer``` is the reason we will separate propagation from serialization. If we use a larger ```Bufffer``` as the ```TimeFunction``` for propagation, we would have to deal with the modulo indexing not just for the current time index, but also previous and next time indices (assuming second order in time). This means that the previous and next time steps can overwrite the locations of the ordinary time indices when you propagate for a block of time steps. **This is the reason we do not use the same ```TimeFunction``` for both propagation and serialization.**\n",
    "\n",
    "### Generated code for a second order in time PDE\n",
    "We now show an excerpt from Devito generated code for a second order in time operator. A second order in time PDE requires two wavefields in order to advance in time: the wavefield at the next time step $u(t+\\Delta t)$ is a function of the wavefield at previous time step $u(t-\\Delta t)$ and the wavefield at the current time step $u(t)$. Remember that Devito uses a ```Buffer``` of size 3 to handle this. \n",
    "\n",
    "In the generated code there are three modulo time indices that are a function of ordinary time and cycle through the values $[0,1,2]$:\n",
    "* ```t0``` -- current time step\n",
    "* ```t1``` -- next time step\n",
    "* ```t2``` -- previous time step\n",
    "\n",
    "We show an excerpt at the beginning of the time loop from the generated code below, with ordinary time loop index ```time```. Note that we have simplified the generated code by breaking a single for loop specification line into multiple lines for clarity. We have also added comments to help understand the mapping from ordinary to modulo time indices.\n",
    "\n",
    "```\n",
    "for (int time = time_m; time <= time_M; time += 1) {\n",
    "  t0 = (time + 0)%(3);    // time index for the current time step \n",
    "  t1 = (time + 1)%(3);    // time index for the next time step\n",
    "  t2 = (time + 2)%(3);    // time index for the  previous time step\n",
    "  \n",
    "  // ... PIE: propagation, source injection, receiver extraction ...\n",
    "}\n",
    "\n",
    "```\n",
    "\n",
    "It should be obvious that using a single container for both propagation and serialization is problematic because the loop runs over ordinary time indices ```time_m``` through ```time_M```, but will access stored previous time step wavefields at indices ```time_m-1``` through ```time_M-1``` and store computed next time step wavefields in indices ```time_m+1``` through ```time_M+1```. \n",
    "\n",
    "### Serialization uses ```TimeFunction(..., save=Buffer(M)``` \n",
    "\n",
    "We will use an independent second ```Buffer``` of size $M$ for serialization in our time blocking implementation. This second ```TimeFunction``` will also use modulo indexing, but by design we only access indices ```time_m``` through ```time_M``` in each time block. This means we do not need to worry about wrapping indices from previous time step or next time step wavefields.\n",
    "\n",
    "### Minimum and maximum allowed time index for second order PDE\n",
    "\n",
    "It is important to note that for a second order in time system the minimum allowed time index ```time_m``` will be $1$, because time index $0$ would imply that the previous time step wavefield $u(t-\\Delta t)$ exists at time index $-1$, and $0$ is the minimum array location.\n",
    "\n",
    "Similarly, the maximum allowed time index ```time_M``` will be $nt-2$, because time index $nt-1$ would imply that the next time step wavefield $u(t+\\Delta t)$ exists at time index $nt$, and $nt-1$ is the maximum array location.\n",
    "\n",
    "### Flow chart for time blocking\n",
    "\n",
    "Putting this all together, here is a flow chart outlining control flow the first three time blocks with $M=5$.\n",
    "\n",
    "```\n",
    "Time block 1\n",
    "    Call generated code Operator(time_m=1, time_M=5)\n",
    "\tReturn control to python\n",
    "    Serialize/Compress indices 1,2,3,4,5 \n",
    "        (access modulo indices 1%5,2%5,3%5,4%5,5%5)\n",
    "\n",
    "Time block 2\n",
    "    Call generated code Operator(time_m=6, time_M=10)\n",
    "\tReturn control to python\n",
    "    Serialize/Compress indices 6,7,8,9,10\n",
    "        (access modulo indices 6%5,7%5,8%5,9%5,10%5)\n",
    "\n",
    "Time block 3\n",
    "    Call generated code Operator(time_m=11, time_M=15)\n",
    "\tReturn control to python\n",
    "    Serialize/Compress indices 11,12,13,14,15\n",
    "        (access modulo indices 11%5,12%5,13%5,14%5,15%5)\n",
    "```\n",
    "\n",
    "## Arrays used to save file offsets and compressed sizes\n",
    "\n",
    "We use two arrays the length of the total number of time steps to save bookeeping information used for the serialization and compression. During de-serialization these offsets and lengths will be used to seek the correct location and read the correct length from the bindary file saving the compressed data.\n",
    "\n",
    "| Array | Description |\n",
    "|:---|:---|\n",
    "| file_offset | stores the location of the start of the compressed block for each time step | \n",
    "| file_length | stores the length of the compressed block for each time step | \n"
   ]
  },
  {
   "cell_type": "markdown",
   "metadata": {},
   "source": [
    "## Compression note -- use of ```blosc```\n",
    "\n",
    "In this notebook we use ```blosc``` compression that is not loaded by default in devito. The first operational cell immediately below ensures that  ```blosc``` compression and python wrapper are installed in this jupyter kernel. \n",
    "\n",
    "Note that ```blosc``` provides *lossless compression*, and in practice one would use *lossy compression* to achieve significantly better compression ratios. Consider the use of ```blosc``` here as a placeholder for your compression method of choice, providing all the essential characteristics of what might be used at scale. \n",
    "\n",
    "We will use the low level interface to blosc compression because it allows the easiest use of numpy arrays. A synopsis of the compression and decompression calls is shown below for devito ```TimeFunction``` $u$, employing compression level $9$ of the ```zstd``` type with the optional shuffle, at modulo time index ```kt%M```.\n",
    "\n",
    "```\n",
    "    c = blosc.compress_ptr(u._data[kt%M,:,:].__array_interface__['data'][0], \n",
    "                           np.prod(u2._data[kt%M,:,:].shape), \n",
    "                           u._data[kt%M,:,:].dtype.itemsize, 9, True, 'zstd')\n",
    "    \n",
    "    blosc.decompress_ptr(u._data[kt,:,:], d.__array_interface__['data'][0])\n",
    "```\n",
    "\n",
    "```blosc``` Reference:\n",
    "* c project and library: https://blosc.org\n",
    "* python wrapper: https://github.com/Blosc/python-blosc\n",
    "* python wrapper documentation: http://python-blosc.blosc.org\n",
    "* low level interface to compression call: http://python-blosc.blosc.org/tutorial.html#compressing-from-a-data-pointer"
   ]
  },
  {
   "cell_type": "code",
   "execution_count": 1,
   "metadata": {},
   "outputs": [
    {
     "name": "stdout",
     "output_type": "stream",
     "text": [
      "Requirement already satisfied: blosc in /cpfs/lfs03/ESDRD/wask/local/lib/python3.8/site-packages (1.9.1)\n"
     ]
    }
   ],
   "source": [
    "# Install pyzfp package in the current Jupyter kernel\n",
    "import sys\n",
    "!{sys.executable} -m pip install blosc\n",
    "import blosc"
   ]
  },
  {
   "cell_type": "markdown",
   "metadata": {},
   "source": [
    "## Imports \n",
    "\n",
    "We have grouped all imports used in this notebook here for consistency."
   ]
  },
  {
   "cell_type": "code",
   "execution_count": 2,
   "metadata": {},
   "outputs": [],
   "source": [
    "from scipy.special import hankel2\n",
    "import numpy as np\n",
    "from examples.seismic import RickerSource, Receiver, TimeAxis, Model, AcquisitionGeometry\n",
    "from devito import (Grid, Function, TimeFunction, SpaceDimension, Constant, \n",
    "                    Eq, Operator, solve, configuration, norm, Buffer)\n",
    "from devito.finite_differences import Derivative\n",
    "from devito.builtins import gaussian_smooth\n",
    "from examples.seismic.self_adjoint import (acoustic_sa_setup, setup_w_over_q,\n",
    "                                           SaIsoAcousticWaveSolver)\n",
    "import matplotlib as mpl\n",
    "import matplotlib.pyplot as plt\n",
    "from matplotlib import cm\n",
    "from timeit import default_timer as timer\n",
    "import copy\n",
    "import os\n",
    "\n",
    "# These lines force images to be displayed in the notebook, and scale up fonts \n",
    "%matplotlib inline\n",
    "mpl.rc('font', size=14)\n",
    "\n",
    "# Make white background for plots, not transparent\n",
    "plt.rcParams['figure.facecolor'] = 'white'\n",
    "\n",
    "# Set logging to debug, captures statistics on the performance of operators\n",
    "# configuration['log-level'] = 'DEBUG'\n",
    "configuration['log-level'] = 'INFO'"
   ]
  },
  {
   "cell_type": "markdown",
   "metadata": {},
   "source": [
    "## Instantiate the model for a two dimensional problem\n",
    " - We use a small 200x200 m. model\n",
    " - We use 20x20 m. discretization \n",
    " - We choose modeling sample rate explicitly (2.5 msec)\n",
    " - We use a modeling time range of 100 milliseconds\n",
    " - We use a wholespace model\n",
    "   - velocity: 1500 m/s\n",
    "   - density: 1 g/cm^3\n",
    " - We place the source in the center of the model\n",
    " - We use a vertical line of receivers right of center in model\n",
    " - We use the visco-acoustic absorbing boundary logic from the self-adjoint operators linked above, and add a 50 point absorbing boundary\n",
    " - We also generate a velocity perturbation that will be used in the linearized forward Jacobian operator"
   ]
  },
  {
   "cell_type": "code",
   "execution_count": 3,
   "metadata": {},
   "outputs": [
    {
     "name": "stdout",
     "output_type": "stream",
     "text": [
      "shape;            (201, 201)\n",
      "origin;           (0.0, 0.0)\n",
      "spacing;          (20.0, 20.0)\n",
      "extent;           (4000.0, 4000.0)\n",
      "\n",
      "grid.shape;       (201, 201)\n",
      "grid.extent;      (4000.0, 4000.0)\n",
      "grid.spacing_map; {h_x: 20.0, h_z: 20.0}\n"
     ]
    },
    {
     "name": "stderr",
     "output_type": "stream",
     "text": [
      "Operator `WOverQ_Operator` run in 0.01 s\n"
     ]
    },
    {
     "name": "stdout",
     "output_type": "stream",
     "text": [
      "\n",
      "time_range;  TimeAxis: start=0, stop=250, step=2.5, num=101\n",
      "\n",
      "src_coordinate  X;           +1800.0000\n",
      "src_coordinate  Z;           +2000.0000\n",
      "rec_coordinates X min/max;   +2200.0000   +2200.0000\n",
      "rec_coordinates Z min/max;   +1200.0000   +2800.0000\n"
     ]
    }
   ],
   "source": [
    "# NBVAL_IGNORE_OUTPUT\n",
    "\n",
    "# Define dimensions for the interior of the model\n",
    "nx,nz = 201,201\n",
    "npad = 50\n",
    "dx,dz = 20.0,20.0  # Grid spacing in m\n",
    "shape = (nx, nz)   # Number of grid points\n",
    "spacing = (dx, dz) # Domain size is now 5 km by 5 km\n",
    "origin = (0., 0.)  # Origin of coordinate system, specified in m.\n",
    "extent = tuple([s*(n-1) for s, n in zip(spacing, shape)])\n",
    "\n",
    "# Define the dimensions \n",
    "x = SpaceDimension(name='x', spacing=Constant(name='h_x', value=extent[0]/(shape[0]-1)))\n",
    "z = SpaceDimension(name='z', spacing=Constant(name='h_z', value=extent[1]/(shape[1]-1)))\n",
    "\n",
    "# Initialize the Devito grid \n",
    "dtype = np.float32\n",
    "grid = Grid(extent=extent, shape=shape, origin=origin, dimensions=(x, z), dtype=dtype)\n",
    "\n",
    "print(\"shape;           \", shape)\n",
    "print(\"origin;          \", origin)\n",
    "print(\"spacing;         \", spacing)\n",
    "print(\"extent;          \", extent)\n",
    "\n",
    "print(\"\")\n",
    "print(\"grid.shape;      \", grid.shape)\n",
    "print(\"grid.extent;     \", grid.extent)\n",
    "print(\"grid.spacing_map;\", grid.spacing_map)\n",
    "\n",
    "# Create velocity and buoyancy fields. \n",
    "space_order = 8\n",
    "m0 = Function(name='m0', grid=grid, space_order=space_order)\n",
    "b = Function(name='b', grid=grid, space_order=space_order)\n",
    "m0.data[:] = 1.5\n",
    "b.data[:,:] = 1.0 / 1.0\n",
    "\n",
    "# Perturbation to velocity: a square offset from the center of the model\n",
    "dm = Function(name='dm', grid=grid, space_order=space_order)\n",
    "size = 4\n",
    "x0 = (nx-1)//2 + 1\n",
    "z0 = (nz-1)//2 + 1\n",
    "dm.data[:] = 0.0\n",
    "dm.data[(x0-size):(x0+size+1), (z0-size):(z0+size+1)] = 1.0\n",
    "\n",
    "# Initialize the attenuation profile for the absorbing boundary\n",
    "fpeak = 0.001\n",
    "w = 2.0 * np.pi * fpeak\n",
    "qmin = 0.1\n",
    "wOverQ = Function(name='wOverQ_025', grid=grid, space_order=space_order)\n",
    "setup_w_over_q(wOverQ, w, qmin, 100.0, npad)\n",
    "\n",
    "# Time sampling\n",
    "t0 = 0    # Simulation time start\n",
    "tn = 250   # Simulation time end\n",
    "dt = 2.5  # Simulation time step interval\n",
    "time_range = TimeAxis(start=t0, stop=tn, step=dt)\n",
    "nt = time_range.num\n",
    "print(\"\")\n",
    "print(\"time_range; \", time_range)\n",
    "\n",
    "# Source 10 Hz center frequency\n",
    "src = RickerSource(name='src', grid=grid, f0=fpeak, npoint=1, time_range=time_range)\n",
    "src.coordinates.data[0,:] = [dx * ((nx-1) / 2 - 10), dz * (nz-1) / 2]\n",
    "\n",
    "# Receivers: for nonlinear forward and linearized forward\n",
    "# one copy each for save all and time blocking implementations\n",
    "nr = 51\n",
    "z1 = dz * ((nz - 1) / 2 - 40)\n",
    "z2 = dz * ((nz - 1) / 2 + 40)\n",
    "\n",
    "nl_rec1 = Receiver(name='nl_rec1', grid=grid, npoint=nr, time_range=time_range)\n",
    "nl_rec2 = Receiver(name='nl_rec2', grid=grid, npoint=nr, time_range=time_range)\n",
    "ln_rec1 = Receiver(name='ln_rec1', grid=grid, npoint=nr, time_range=time_range)\n",
    "ln_rec2 = Receiver(name='ln_rec2', grid=grid, npoint=nr, time_range=time_range)\n",
    "nl_rec1.coordinates.data[:,0] = nl_rec2.coordinates.data[:,0] = \\\n",
    "    ln_rec1.coordinates.data[:,0] = ln_rec2.coordinates.data[:,0] = dx * ((nx-1) / 2 + 10)\n",
    "nl_rec1.coordinates.data[:,1] = nl_rec2.coordinates.data[:,1] = \\\n",
    "    ln_rec1.coordinates.data[:,1] = ln_rec2.coordinates.data[:,1] = np.linspace(z1, z2, nr)\n",
    "\n",
    "print(\"\")\n",
    "print(\"src_coordinate  X;         %+12.4f\" % (src.coordinates.data[0,0]))\n",
    "print(\"src_coordinate  Z;         %+12.4f\" % (src.coordinates.data[0,1]))\n",
    "print(\"rec_coordinates X min/max; %+12.4f %+12.4f\" % \\\n",
    "      (np.min(nl_rec1.coordinates.data[:,0]), np.max(nl_rec1.coordinates.data[:,0])))\n",
    "print(\"rec_coordinates Z min/max; %+12.4f %+12.4f\" % \\\n",
    "      (np.min(nl_rec1.coordinates.data[:,1]), np.max(nl_rec1.coordinates.data[:,1])))"
   ]
  },
  {
   "cell_type": "markdown",
   "metadata": {},
   "source": [
    "## Plot velocity and density models\n",
    "\n",
    "Next we plot the velocity and density models for illustration, with source location shown as a large red asterisk and receiver line shown as a black line."
   ]
  },
  {
   "cell_type": "code",
   "execution_count": 4,
   "metadata": {},
   "outputs": [
    {
     "data": {
      "image/png": "[encoded data removed]",
      "text/plain": [
       "<Figure size 864x1008 with 8 Axes>"
      ]
     },
     "metadata": {},
     "output_type": "display_data"
    }
   ],
   "source": [
    "# note: flip sense of second dimension to make the plot positive downwards\n",
    "plt_extent = [origin[0], origin[0] + extent[0], origin[1] + extent[1], origin[1]]\n",
    "\n",
    "vmin, vmax = 1.4, 1.7\n",
    "pmin, pmax = -1, +1\n",
    "dmin, dmax = 0.9, 1.1\n",
    "\n",
    "plt.figure(figsize=(12,14))\n",
    "\n",
    "# plot velocity \n",
    "plt.subplot(2, 2, 1)\n",
    "plt.imshow(np.transpose(m0.data), cmap=cm.jet, \n",
    "           vmin=vmin, vmax=vmax, extent=plt_extent)\n",
    "plt.colorbar(orientation='horizontal', label='Velocity (m/msec)')\n",
    "plt.plot(nl_rec1.coordinates.data[:, 0], nl_rec1.coordinates.data[:, 1], \\\n",
    "         'black', linestyle='-', label=\"Receiver\")\n",
    "plt.plot(src.coordinates.data[:, 0], src.coordinates.data[:, 1], \\\n",
    "         'red', linestyle='None', marker='*', markersize=15, label=\"Source\")\n",
    "plt.xlabel(\"X Coordinate (m)\")\n",
    "plt.ylabel(\"Z Coordinate (m)\")\n",
    "plt.title(\"Constant velocity\")\n",
    "\n",
    "# plot density\n",
    "plt.subplot(2, 2, 2)\n",
    "plt.imshow(np.transpose(1 / b.data), cmap=cm.jet,\n",
    "           vmin=dmin, vmax=dmax, extent=plt_extent)\n",
    "plt.colorbar(orientation='horizontal', label='Density (m^3/kg)')\n",
    "plt.plot(nl_rec1.coordinates.data[:, 0], nl_rec1.coordinates.data[:, 1], \\\n",
    "         'black', linestyle='-', label=\"Receiver\")\n",
    "plt.plot(src.coordinates.data[:, 0], src.coordinates.data[:, 1], \\\n",
    "         'red', linestyle='None', marker='*', markersize=15, label=\"Source\")\n",
    "plt.xlabel(\"X Coordinate (m)\")\n",
    "plt.ylabel(\"Z Coordinate (m)\")\n",
    "plt.title(\"Constant density\")\n",
    "\n",
    "# plot velocity perturbation\n",
    "plt.subplot(2, 2, 3)\n",
    "plt.imshow(np.transpose(dm.data), cmap=\"seismic\", \n",
    "           vmin=pmin, vmax=pmax, extent=plt_extent)\n",
    "plt.colorbar(orientation='horizontal', label='Velocity (m/msec)')\n",
    "plt.plot(nl_rec1.coordinates.data[:, 0], nl_rec1.coordinates.data[:, 1], \\\n",
    "         'black', linestyle='-', label=\"Receiver\")\n",
    "plt.plot(src.coordinates.data[:, 0], src.coordinates.data[:, 1], \\\n",
    "         'red', linestyle='None', marker='*', markersize=15, label=\"Source\")\n",
    "plt.xlabel(\"X Coordinate (m)\")\n",
    "plt.ylabel(\"Z Coordinate (m)\")\n",
    "plt.title(\"Velocity Perturbation\")\n",
    "\n",
    "# Plot the log of the generated Q profile\n",
    "q = np.log10(w / wOverQ.data)\n",
    "lmin, lmax = np.log10(qmin), np.log10(100)\n",
    "\n",
    "plt.subplot(2, 2, 4)\n",
    "plt.imshow(np.transpose(q.data), cmap=cm.jet, vmin=lmin, vmax=lmax, extent=plt_extent)\n",
    "plt.colorbar(orientation='horizontal', label='log10(Q)')\n",
    "plt.plot(nl_rec1.coordinates.data[:, 0], nl_rec1.coordinates.data[:, 1], \\\n",
    "         'black', linestyle='-', label=\"Receiver\")\n",
    "plt.plot(src.coordinates.data[:, 0], src.coordinates.data[:, 1], \\\n",
    "         'red', linestyle='None', marker='*', markersize=15, label=\"Source\")\n",
    "plt.xlabel(\"X Coordinate (m)\")\n",
    "plt.ylabel(\"Z Coordinate (m)\")\n",
    "plt.title(\"log10 of $Q$ model\")\n",
    "\n",
    "plt.tight_layout()\n",
    "None"
   ]
  },
  {
   "cell_type": "markdown",
   "metadata": {},
   "source": [
    "## Implementation of the nonlinear forward\n",
    "\n",
    "We copy the nonlinear forward PDE described in the 1st self-adjoint notebook linked above:\n",
    "\n",
    "$$\n",
    "L_t[\\cdot] \\equiv \\frac{\\omega_c}{Q} \\overleftarrow{\\partial_t}[\\cdot] + \\partial_{tt}[\\cdot]\n",
    "$$\n",
    "\n",
    "$$\n",
    "\\frac{b}{m^2} L_t[u] =\n",
    "    \\overleftarrow{\\partial_x}\\left(b\\ \\overrightarrow{\\partial_x}\\ u \\right) +\n",
    "    \\overleftarrow{\\partial_y}\\left(b\\ \\overrightarrow{\\partial_y}\\ u \\right) +\n",
    "    \\overleftarrow{\\partial_z}\\left(b\\ \\overrightarrow{\\partial_z}\\ u \\right) + q\n",
    "$$\n",
    "\n",
    "## Quantity that is serialized \n",
    "\n",
    "Recall that for Jacobian operators we need the scaled time derivatives of the reference wavefield for both the Born source in the Jacobian forward, and the imaging condition in the Jacobian adjoint. The quantity shown below is used in those expressions, and this is what we will serialize and compress during the nonlinear forward.\n",
    "\n",
    "$$\n",
    "\\frac{2\\ b}{m_0}\\ L_t[u_0] \n",
    "$$\n",
    "\n",
    "## The two implementations\n",
    "\n",
    "We borrow the stencil from the self-adjoint operators shown in the jupyter notebooks linked above, and make two operators. Here are details about the configuration.\n",
    "\n",
    "### Save all time steps implementation\n",
    "  * wavefield for propagation: ```u1 = TimeFunctions(..., save=None)```\n",
    "  * wavefield for serialization: ```v1 = TimeFunctions(..., save=nt)```\n",
    "  * Run the operator in a single execution from ```time_m=1``` to ```time_M=nt-1```\n",
    "\n",
    "### Time blocking implementation\n",
    "  * wavefield for propagation: ```u2 = TimeFunctions(..., save=None)```\n",
    "  * wavefield for serialization: ```v2 = TimeFunctions(..., save=Buffer(M))```\n",
    "  * Run the operator in a sequence of time blocks, each with $M$ time steps, from ```time_m=1``` to ```time_M=nt-1```"
   ]
  },
  {
   "cell_type": "code",
   "execution_count": 5,
   "metadata": {},
   "outputs": [
    {
     "name": "stderr",
     "output_type": "stream",
     "text": [
      "Operator `Kernel` run in 0.03 s\n"
     ]
    }
   ],
   "source": [
    "# NBVAL_IGNORE_OUTPUT\n",
    "\n",
    "# Define M: number of time steps in each time block\n",
    "M = 5\n",
    "\n",
    "# Create TimeFunctions\n",
    "u1 = TimeFunction(name=\"u1\", grid=grid, time_order=2, space_order=space_order, save=None)\n",
    "u2 = TimeFunction(name=\"u2\", grid=grid, time_order=2, space_order=space_order, save=None)\n",
    "v1 = TimeFunction(name=\"v1\", grid=grid, time_order=2, space_order=space_order, save=nt)\n",
    "v2 = TimeFunction(name=\"v2\", grid=grid, time_order=2, space_order=space_order, save=Buffer(M))\n",
    "\n",
    "# get time and space dimensions \n",
    "t,x,z = u1.dimensions\n",
    "\n",
    "# Source terms (see notebooks linked above for more detail)\n",
    "src1_term = src.inject(field=u1.forward, expr=src * t.spacing**2 * m0**2 / b)\n",
    "src2_term = src.inject(field=u2.forward, expr=src * t.spacing**2 * m0**2 / b)\n",
    "nl_rec1_term = nl_rec1.interpolate(expr=u1.forward)\n",
    "nl_rec2_term = nl_rec2.interpolate(expr=u2.forward)\n",
    "\n",
    "# The nonlinear forward time update equation\n",
    "update1 = (t.spacing**2 * m0**2 / b) * \\\n",
    "    ((b * u1.dx(x0=x+x.spacing/2)).dx(x0=x-x.spacing/2) + \\\n",
    "     (b * u1.dz(x0=z+z.spacing/2)).dz(x0=z-z.spacing/2)) + \\\n",
    "    (2 - t.spacing * wOverQ) * u1 + \\\n",
    "    (t.spacing * wOverQ - 1) * u1.backward\n",
    "\n",
    "update2 = (t.spacing**2 * m0**2 / b) * \\\n",
    "    ((b * u2.dx(x0=x+x.spacing/2)).dx(x0=x-x.spacing/2) + \\\n",
    "     (b * u2.dz(x0=z+z.spacing/2)).dz(x0=z-z.spacing/2)) + \\\n",
    "    (2 - t.spacing * wOverQ) * u2 + \\\n",
    "    (t.spacing * wOverQ - 1) * u2.backward\n",
    "\n",
    "stencil1 = Eq(u1.forward, update1)\n",
    "stencil2 = Eq(u2.forward, update2)\n",
    "\n",
    "# Equations for the Born term\n",
    "v1_term = Eq(v1, (2 * b * m0**-3) * (wOverQ * u1.dt(x0=t-t.spacing/2) + u1.dt2))\n",
    "v2_term = Eq(v2, (2 * b * m0**-3) * (wOverQ * u2.dt(x0=t-t.spacing/2) + u2.dt2))\n",
    "\n",
    "# Update spacing_map (see notebooks linked above for more detail)\n",
    "spacing_map = grid.spacing_map\n",
    "spacing_map.update({t.spacing : dt})\n",
    "\n",
    "# Build the Operators\n",
    "nl_op1 = Operator([stencil1, src1_term, nl_rec1_term, v1_term], subs=spacing_map)\n",
    "nl_op2 = Operator([stencil2, src2_term, nl_rec2_term, v2_term], subs=spacing_map)\n",
    "\n",
    "# Run operator 1 for all time samples\n",
    "u1.data[:] = 0\n",
    "v1.data[:] = 0\n",
    "nl_rec1.data[:] = 0\n",
    "nl_op1(time_m=1, time_M=nt-2)\n",
    "\n",
    "None"
   ]
  },
  {
   "cell_type": "code",
   "execution_count": 6,
   "metadata": {},
   "outputs": [
    {
     "name": "stdout",
     "output_type": "stream",
     "text": [
      "4.145e+01\n",
      "2.669e-03\n",
      "1.381e-02\n"
     ]
    }
   ],
   "source": [
    "# NBVAL_IGNORE_OUTPUT\n",
    "\n",
    "# Continuous integration hooks for the save all timesteps implementation\n",
    "# We ensure the norm of these computed wavefields is repeatable\n",
    "print(\"%.3e\" % norm(u1))\n",
    "print(\"%.3e\" % norm(nl_rec1))\n",
    "print(\"%.3e\" % norm(v1))\n",
    "# assert np.isclose(norm(u1), 1.148e+00, atol=0, rtol=1e-3)\n",
    "# assert np.isclose(norm(nl_rec1), 1.026e-14, atol=0, rtol=1e-3)\n",
    "# assert np.isclose(norm(v1), 4.283e-03, atol=0, rtol=1e-3)"
   ]
  },
  {
   "cell_type": "markdown",
   "metadata": {},
   "source": [
    "### Run the time blocking implementation over blocks of M time steps\n",
    "\n",
    "After each block of $M$ time steps, we return control to python to extract the Born term and serialize/compress. \n",
    "\n",
    "The next cell exercises the time blocking operator over $N$ time blocks. "
   ]
  },
  {
   "cell_type": "code",
   "execution_count": 7,
   "metadata": {},
   "outputs": [
    {
     "name": "stderr",
     "output_type": "stream",
     "text": [
      "Operator `Kernel` run in 0.01 s\n"
     ]
    },
    {
     "name": "stdout",
     "output_type": "stream",
     "text": [
      "kt1,kt2,len,cratio,|u1|,|u2|,|v1-v2|;   1   4   4  2269.3494 1.350484e-03 1.350484e-03 0.000000e+00\n",
      "kt1,kt2,len,cratio,|u1|,|u2|,|v1-v2|;   1   4   4   634.1953 1.148622e-03 1.148622e-03 0.000000e+00\n",
      "kt1,kt2,len,cratio,|u1|,|u2|,|v1-v2|;   1   4   4   200.3787 8.238639e-04 8.238639e-04 0.000000e+00\n",
      "kt1,kt2,len,cratio,|u1|,|u2|,|v1-v2|;   1   4   4    96.8909 6.871836e-04 6.871836e-04 0.000000e+00\n"
     ]
    },
    {
     "name": "stderr",
     "output_type": "stream",
     "text": [
      "Operator `Kernel` run in 0.01 s\n"
     ]
    },
    {
     "name": "stdout",
     "output_type": "stream",
     "text": [
      "kt1,kt2,len,cratio,|u1|,|u2|,|v1-v2|;   5   9   5    54.8344 8.612646e-04 8.612646e-04 0.000000e+00\n",
      "kt1,kt2,len,cratio,|u1|,|u2|,|v1-v2|;   5   9   5    37.4019 1.037131e-03 1.037131e-03 0.000000e+00\n",
      "kt1,kt2,len,cratio,|u1|,|u2|,|v1-v2|;   5   9   5    31.4977 1.067067e-03 1.067067e-03 0.000000e+00\n",
      "kt1,kt2,len,cratio,|u1|,|u2|,|v1-v2|;   5   9   5    27.9667 9.896747e-04 9.896747e-04 0.000000e+00\n",
      "kt1,kt2,len,cratio,|u1|,|u2|,|v1-v2|;   5   9   5    26.3767 9.165464e-04 9.165464e-04 0.000000e+00\n"
     ]
    },
    {
     "name": "stderr",
     "output_type": "stream",
     "text": [
      "Operator `Kernel` run in 0.01 s\n"
     ]
    },
    {
     "name": "stdout",
     "output_type": "stream",
     "text": [
      "kt1,kt2,len,cratio,|u1|,|u2|,|v1-v2|;  10  14   5    24.0097 9.124626e-04 9.124626e-04 0.000000e+00\n",
      "kt1,kt2,len,cratio,|u1|,|u2|,|v1-v2|;  10  14   5    22.6716 9.440763e-04 9.440763e-04 0.000000e+00\n",
      "kt1,kt2,len,cratio,|u1|,|u2|,|v1-v2|;  10  14   5    21.9657 9.703403e-04 9.703403e-04 0.000000e+00\n",
      "kt1,kt2,len,cratio,|u1|,|u2|,|v1-v2|;  10  14   5    21.0571 9.909896e-04 9.909896e-04 0.000000e+00\n",
      "kt1,kt2,len,cratio,|u1|,|u2|,|v1-v2|;  10  14   5    20.4535 1.005566e-03 1.005566e-03 0.000000e+00\n"
     ]
    },
    {
     "name": "stderr",
     "output_type": "stream",
     "text": [
      "Operator `Kernel` run in 0.01 s\n"
     ]
    },
    {
     "name": "stdout",
     "output_type": "stream",
     "text": [
      "kt1,kt2,len,cratio,|u1|,|u2|,|v1-v2|;  15  19   5    19.7252 9.935920e-04 9.935920e-04 0.000000e+00\n",
      "kt1,kt2,len,cratio,|u1|,|u2|,|v1-v2|;  15  19   5    18.9037 9.520441e-04 9.520441e-04 0.000000e+00\n",
      "kt1,kt2,len,cratio,|u1|,|u2|,|v1-v2|;  15  19   5    18.3672 9.215065e-04 9.215065e-04 0.000000e+00\n",
      "kt1,kt2,len,cratio,|u1|,|u2|,|v1-v2|;  15  19   5    17.6396 9.422954e-04 9.422954e-04 0.000000e+00\n",
      "kt1,kt2,len,cratio,|u1|,|u2|,|v1-v2|;  15  19   5    17.2361 9.907656e-04 9.907656e-04 0.000000e+00\n"
     ]
    },
    {
     "name": "stderr",
     "output_type": "stream",
     "text": [
      "Operator `Kernel` run in 0.01 s\n"
     ]
    },
    {
     "name": "stdout",
     "output_type": "stream",
     "text": [
      "kt1,kt2,len,cratio,|u1|,|u2|,|v1-v2|;  20  24   5    16.6201 1.010868e-03 1.010868e-03 0.000000e+00\n",
      "kt1,kt2,len,cratio,|u1|,|u2|,|v1-v2|;  20  24   5    16.1167 9.856700e-04 9.856700e-04 0.000000e+00\n",
      "kt1,kt2,len,cratio,|u1|,|u2|,|v1-v2|;  20  24   5    15.8549 9.502065e-04 9.502065e-04 0.000000e+00\n",
      "kt1,kt2,len,cratio,|u1|,|u2|,|v1-v2|;  20  24   5    15.6377 9.453722e-04 9.453722e-04 0.000000e+00\n",
      "kt1,kt2,len,cratio,|u1|,|u2|,|v1-v2|;  20  24   5    15.1035 9.683384e-04 9.683384e-04 0.000000e+00\n"
     ]
    },
    {
     "name": "stderr",
     "output_type": "stream",
     "text": [
      "Operator `Kernel` run in 0.01 s\n"
     ]
    },
    {
     "name": "stdout",
     "output_type": "stream",
     "text": [
      "kt1,kt2,len,cratio,|u1|,|u2|,|v1-v2|;  25  29   5    14.7533 9.893423e-04 9.893423e-04 0.000000e+00\n",
      "kt1,kt2,len,cratio,|u1|,|u2|,|v1-v2|;  25  29   5    14.3882 9.960936e-04 9.960936e-04 0.000000e+00\n",
      "kt1,kt2,len,cratio,|u1|,|u2|,|v1-v2|;  25  29   5    14.3052 9.959053e-04 9.959053e-04 0.000000e+00\n",
      "kt1,kt2,len,cratio,|u1|,|u2|,|v1-v2|;  25  29   5    13.8742 9.920930e-04 9.920930e-04 0.000000e+00\n",
      "kt1,kt2,len,cratio,|u1|,|u2|,|v1-v2|;  25  29   5    13.5596 9.809518e-04 9.809518e-04 0.000000e+00\n"
     ]
    },
    {
     "name": "stderr",
     "output_type": "stream",
     "text": [
      "Operator `Kernel` run in 0.01 s\n"
     ]
    },
    {
     "name": "stdout",
     "output_type": "stream",
     "text": [
      "kt1,kt2,len,cratio,|u1|,|u2|,|v1-v2|;  30  34   5    13.3595 9.698760e-04 9.698760e-04 0.000000e+00\n",
      "kt1,kt2,len,cratio,|u1|,|u2|,|v1-v2|;  30  34   5    12.9197 9.764855e-04 9.764855e-04 0.000000e+00\n",
      "kt1,kt2,len,cratio,|u1|,|u2|,|v1-v2|;  30  34   5    12.8667 1.000876e-03 1.000876e-03 0.000000e+00\n",
      "kt1,kt2,len,cratio,|u1|,|u2|,|v1-v2|;  30  34   5    12.5170 1.018203e-03 1.018203e-03 0.000000e+00\n",
      "kt1,kt2,len,cratio,|u1|,|u2|,|v1-v2|;  30  34   5    12.3496 1.010040e-03 1.010040e-03 0.000000e+00\n"
     ]
    },
    {
     "name": "stderr",
     "output_type": "stream",
     "text": [
      "Operator `Kernel` run in 0.01 s\n"
     ]
    },
    {
     "name": "stdout",
     "output_type": "stream",
     "text": [
      "kt1,kt2,len,cratio,|u1|,|u2|,|v1-v2|;  35  39   5    12.2269 9.891847e-04 9.891847e-04 0.000000e+00\n",
      "kt1,kt2,len,cratio,|u1|,|u2|,|v1-v2|;  35  39   5    11.9850 9.849145e-04 9.849145e-04 0.000000e+00\n",
      "kt1,kt2,len,cratio,|u1|,|u2|,|v1-v2|;  35  39   5    11.8972 1.005200e-03 1.005200e-03 0.000000e+00\n",
      "kt1,kt2,len,cratio,|u1|,|u2|,|v1-v2|;  35  39   5    11.5520 1.029141e-03 1.029141e-03 0.000000e+00\n",
      "kt1,kt2,len,cratio,|u1|,|u2|,|v1-v2|;  35  39   5    11.2599 1.038208e-03 1.038208e-03 0.000000e+00\n"
     ]
    },
    {
     "name": "stderr",
     "output_type": "stream",
     "text": [
      "Operator `Kernel` run in 0.01 s\n"
     ]
    },
    {
     "name": "stdout",
     "output_type": "stream",
     "text": [
      "kt1,kt2,len,cratio,|u1|,|u2|,|v1-v2|;  40  44   5    11.1480 1.035177e-03 1.035177e-03 0.000000e+00\n",
      "kt1,kt2,len,cratio,|u1|,|u2|,|v1-v2|;  40  44   5    10.9306 1.031836e-03 1.031836e-03 0.000000e+00\n",
      "kt1,kt2,len,cratio,|u1|,|u2|,|v1-v2|;  40  44   5    10.7528 1.031833e-03 1.031833e-03 0.000000e+00\n",
      "kt1,kt2,len,cratio,|u1|,|u2|,|v1-v2|;  40  44   5    10.6056 1.033581e-03 1.033581e-03 0.000000e+00\n",
      "kt1,kt2,len,cratio,|u1|,|u2|,|v1-v2|;  40  44   5    10.4162 1.040764e-03 1.040764e-03 0.000000e+00\n"
     ]
    },
    {
     "name": "stderr",
     "output_type": "stream",
     "text": [
      "Operator `Kernel` run in 0.01 s\n"
     ]
    },
    {
     "name": "stdout",
     "output_type": "stream",
     "text": [
      "kt1,kt2,len,cratio,|u1|,|u2|,|v1-v2|;  45  49   5    10.2035 1.056878e-03 1.056878e-03 0.000000e+00\n",
      "kt1,kt2,len,cratio,|u1|,|u2|,|v1-v2|;  45  49   5    10.0510 1.073647e-03 1.073647e-03 0.000000e+00\n",
      "kt1,kt2,len,cratio,|u1|,|u2|,|v1-v2|;  45  49   5     9.9712 1.078234e-03 1.078234e-03 0.000000e+00\n",
      "kt1,kt2,len,cratio,|u1|,|u2|,|v1-v2|;  45  49   5     9.7196 1.072008e-03 1.072008e-03 0.000000e+00\n",
      "kt1,kt2,len,cratio,|u1|,|u2|,|v1-v2|;  45  49   5     9.6573 1.072232e-03 1.072232e-03 0.000000e+00\n"
     ]
    },
    {
     "name": "stderr",
     "output_type": "stream",
     "text": [
      "Operator `Kernel` run in 0.01 s\n"
     ]
    },
    {
     "name": "stdout",
     "output_type": "stream",
     "text": [
      "kt1,kt2,len,cratio,|u1|,|u2|,|v1-v2|;  50  54   5     9.5250 1.090276e-03 1.090276e-03 0.000000e+00\n",
      "kt1,kt2,len,cratio,|u1|,|u2|,|v1-v2|;  50  54   5     9.4976 1.115789e-03 1.115789e-03 0.000000e+00\n",
      "kt1,kt2,len,cratio,|u1|,|u2|,|v1-v2|;  50  54   5     9.1989 1.131359e-03 1.131359e-03 0.000000e+00\n",
      "kt1,kt2,len,cratio,|u1|,|u2|,|v1-v2|;  50  54   5     9.1382 1.134138e-03 1.134138e-03 0.000000e+00\n",
      "kt1,kt2,len,cratio,|u1|,|u2|,|v1-v2|;  50  54   5     8.9715 1.135514e-03 1.135514e-03 0.000000e+00\n"
     ]
    },
    {
     "name": "stderr",
     "output_type": "stream",
     "text": [
      "Operator `Kernel` run in 0.01 s\n"
     ]
    },
    {
     "name": "stdout",
     "output_type": "stream",
     "text": [
      "kt1,kt2,len,cratio,|u1|,|u2|,|v1-v2|;  55  59   5     8.8021 1.144325e-03 1.144325e-03 0.000000e+00\n",
      "kt1,kt2,len,cratio,|u1|,|u2|,|v1-v2|;  55  59   5     8.6944 1.158491e-03 1.158491e-03 0.000000e+00\n",
      "kt1,kt2,len,cratio,|u1|,|u2|,|v1-v2|;  55  59   5     8.5387 1.173593e-03 1.173593e-03 0.000000e+00\n",
      "kt1,kt2,len,cratio,|u1|,|u2|,|v1-v2|;  55  59   5     8.6121 1.189872e-03 1.189872e-03 0.000000e+00\n",
      "kt1,kt2,len,cratio,|u1|,|u2|,|v1-v2|;  55  59   5     8.3867 1.207340e-03 1.207340e-03 0.000000e+00\n"
     ]
    },
    {
     "name": "stderr",
     "output_type": "stream",
     "text": [
      "Operator `Kernel` run in 0.01 s\n"
     ]
    },
    {
     "name": "stdout",
     "output_type": "stream",
     "text": [
      "kt1,kt2,len,cratio,|u1|,|u2|,|v1-v2|;  60  64   5     8.3079 1.221367e-03 1.221367e-03 0.000000e+00\n",
      "kt1,kt2,len,cratio,|u1|,|u2|,|v1-v2|;  60  64   5     8.2033 1.230152e-03 1.230152e-03 0.000000e+00\n",
      "kt1,kt2,len,cratio,|u1|,|u2|,|v1-v2|;  60  64   5     8.0439 1.241141e-03 1.241141e-03 0.000000e+00\n",
      "kt1,kt2,len,cratio,|u1|,|u2|,|v1-v2|;  60  64   5     7.9947 1.263190e-03 1.263190e-03 0.000000e+00\n",
      "kt1,kt2,len,cratio,|u1|,|u2|,|v1-v2|;  60  64   5     7.8893 1.293286e-03 1.293286e-03 0.000000e+00\n"
     ]
    },
    {
     "name": "stderr",
     "output_type": "stream",
     "text": [
      "Operator `Kernel` run in 0.01 s\n"
     ]
    },
    {
     "name": "stdout",
     "output_type": "stream",
     "text": [
      "kt1,kt2,len,cratio,|u1|,|u2|,|v1-v2|;  65  69   5     7.8081 1.318913e-03 1.318913e-03 0.000000e+00\n",
      "kt1,kt2,len,cratio,|u1|,|u2|,|v1-v2|;  65  69   5     7.6767 1.333711e-03 1.333711e-03 0.000000e+00\n",
      "kt1,kt2,len,cratio,|u1|,|u2|,|v1-v2|;  65  69   5     7.6242 1.344532e-03 1.344532e-03 0.000000e+00\n",
      "kt1,kt2,len,cratio,|u1|,|u2|,|v1-v2|;  65  69   5     7.5333 1.361495e-03 1.361495e-03 0.000000e+00\n",
      "kt1,kt2,len,cratio,|u1|,|u2|,|v1-v2|;  65  69   5     7.4585 1.385942e-03 1.385942e-03 0.000000e+00\n"
     ]
    },
    {
     "name": "stderr",
     "output_type": "stream",
     "text": [
      "Operator `Kernel` run in 0.01 s\n"
     ]
    },
    {
     "name": "stdout",
     "output_type": "stream",
     "text": [
      "kt1,kt2,len,cratio,|u1|,|u2|,|v1-v2|;  70  74   5     7.3623 1.412083e-03 1.412083e-03 0.000000e+00\n",
      "kt1,kt2,len,cratio,|u1|,|u2|,|v1-v2|;  70  74   5     7.2300 1.436804e-03 1.436804e-03 0.000000e+00\n",
      "kt1,kt2,len,cratio,|u1|,|u2|,|v1-v2|;  70  74   5     7.2043 1.461628e-03 1.461628e-03 0.000000e+00\n",
      "kt1,kt2,len,cratio,|u1|,|u2|,|v1-v2|;  70  74   5     7.0877 1.487391e-03 1.487391e-03 0.000000e+00\n",
      "kt1,kt2,len,cratio,|u1|,|u2|,|v1-v2|;  70  74   5     7.0175 1.512710e-03 1.512710e-03 0.000000e+00\n"
     ]
    },
    {
     "name": "stderr",
     "output_type": "stream",
     "text": [
      "Operator `Kernel` run in 0.01 s\n"
     ]
    },
    {
     "name": "stdout",
     "output_type": "stream",
     "text": [
      "kt1,kt2,len,cratio,|u1|,|u2|,|v1-v2|;  75  79   5     6.9448 1.538781e-03 1.538781e-03 0.000000e+00\n",
      "kt1,kt2,len,cratio,|u1|,|u2|,|v1-v2|;  75  79   5     6.8267 1.569550e-03 1.569550e-03 0.000000e+00\n",
      "kt1,kt2,len,cratio,|u1|,|u2|,|v1-v2|;  75  79   5     6.7822 1.605654e-03 1.605654e-03 0.000000e+00\n",
      "kt1,kt2,len,cratio,|u1|,|u2|,|v1-v2|;  75  79   5     6.6753 1.641169e-03 1.641169e-03 0.000000e+00\n",
      "kt1,kt2,len,cratio,|u1|,|u2|,|v1-v2|;  75  79   5     6.6092 1.670458e-03 1.670458e-03 0.000000e+00\n"
     ]
    },
    {
     "name": "stderr",
     "output_type": "stream",
     "text": [
      "Operator `Kernel` run in 0.01 s\n"
     ]
    },
    {
     "name": "stdout",
     "output_type": "stream",
     "text": [
      "kt1,kt2,len,cratio,|u1|,|u2|,|v1-v2|;  80  84   5     6.5581 1.696051e-03 1.696051e-03 0.000000e+00\n",
      "kt1,kt2,len,cratio,|u1|,|u2|,|v1-v2|;  80  84   5     6.4776 1.725856e-03 1.725856e-03 0.000000e+00\n",
      "kt1,kt2,len,cratio,|u1|,|u2|,|v1-v2|;  80  84   5     6.3930 1.762956e-03 1.762956e-03 0.000000e+00\n",
      "kt1,kt2,len,cratio,|u1|,|u2|,|v1-v2|;  80  84   5     6.3351 1.802991e-03 1.802991e-03 0.000000e+00\n",
      "kt1,kt2,len,cratio,|u1|,|u2|,|v1-v2|;  80  84   5     6.2915 1.841148e-03 1.841148e-03 0.000000e+00\n"
     ]
    },
    {
     "name": "stderr",
     "output_type": "stream",
     "text": [
      "Operator `Kernel` run in 0.01 s\n"
     ]
    },
    {
     "name": "stdout",
     "output_type": "stream",
     "text": [
      "kt1,kt2,len,cratio,|u1|,|u2|,|v1-v2|;  85  89   5     6.2027 1.877580e-03 1.877580e-03 0.000000e+00\n",
      "kt1,kt2,len,cratio,|u1|,|u2|,|v1-v2|;  85  89   5     6.1358 1.915278e-03 1.915278e-03 0.000000e+00\n",
      "kt1,kt2,len,cratio,|u1|,|u2|,|v1-v2|;  85  89   5     6.1542 1.955406e-03 1.955406e-03 0.000000e+00\n",
      "kt1,kt2,len,cratio,|u1|,|u2|,|v1-v2|;  85  89   5     6.0411 1.997315e-03 1.997315e-03 0.000000e+00\n",
      "kt1,kt2,len,cratio,|u1|,|u2|,|v1-v2|;  85  89   5     5.9693 2.041489e-03 2.041489e-03 0.000000e+00\n"
     ]
    },
    {
     "name": "stderr",
     "output_type": "stream",
     "text": [
      "Operator `Kernel` run in 0.01 s\n"
     ]
    },
    {
     "name": "stdout",
     "output_type": "stream",
     "text": [
      "kt1,kt2,len,cratio,|u1|,|u2|,|v1-v2|;  90  94   5     5.9099 2.088816e-03 2.088816e-03 0.000000e+00\n",
      "kt1,kt2,len,cratio,|u1|,|u2|,|v1-v2|;  90  94   5     5.8568 2.137170e-03 2.137170e-03 0.000000e+00\n",
      "kt1,kt2,len,cratio,|u1|,|u2|,|v1-v2|;  90  94   5     5.7949 2.182861e-03 2.182861e-03 0.000000e+00\n",
      "kt1,kt2,len,cratio,|u1|,|u2|,|v1-v2|;  90  94   5     5.7462 2.226005e-03 2.226005e-03 0.000000e+00\n",
      "kt1,kt2,len,cratio,|u1|,|u2|,|v1-v2|;  90  94   5     5.7098 2.270559e-03 2.270559e-03 0.000000e+00\n"
     ]
    },
    {
     "name": "stderr",
     "output_type": "stream",
     "text": [
      "Operator `Kernel` run in 0.01 s\n"
     ]
    },
    {
     "name": "stdout",
     "output_type": "stream",
     "text": [
      "kt1,kt2,len,cratio,|u1|,|u2|,|v1-v2|;  95  99   5     5.6399 2.320200e-03 2.320200e-03 0.000000e+00\n",
      "kt1,kt2,len,cratio,|u1|,|u2|,|v1-v2|;  95  99   5     5.5495 2.373602e-03 2.373602e-03 0.000000e+00\n",
      "kt1,kt2,len,cratio,|u1|,|u2|,|v1-v2|;  95  99   5     5.5196 2.426708e-03 2.426708e-03 0.000000e+00\n",
      "kt1,kt2,len,cratio,|u1|,|u2|,|v1-v2|;  95  99   5     5.4489 2.478259e-03 2.478259e-03 0.000000e+00\n",
      "kt1,kt2,len,cratio,|u1|,|u2|,|v1-v2|;  95  99   5     5.4012 2.531098e-03 2.531098e-03 0.000000e+00\n"
     ]
    },
    {
     "name": "stderr",
     "output_type": "stream",
     "text": [
      "Operator `Kernel` run in 0.01 s\n"
     ]
    }
   ],
   "source": [
    "# NBVAL_IGNORE_OUTPUT\n",
    "\n",
    "# We make an array the full size for correctness testing\n",
    "v2_all = np.zeros(v1.data.shape, dtype=dtype)\n",
    "\n",
    "# Number of time blocks\n",
    "N = int((nt-1) / M) + 1\n",
    "\n",
    "# Open a binary file in append mode to save the wavefield chunks  \n",
    "filename = \"timeblocking.nonlinear.bin\"\n",
    "\n",
    "if os.path.exists(filename):\n",
    "    os.remove(filename)\n",
    "f = open(filename, \"ab\")\n",
    "\n",
    "# Arrays to save offset and length of compressed data\n",
    "file_offset = np.zeros(nt, dtype=np.int64)\n",
    "file_length = np.zeros(nt, dtype=np.int64)\n",
    "\n",
    "# The length of the data type, 4 bytes for float32\n",
    "itemsize = v2.data[0,:,:].dtype.itemsize \n",
    "\n",
    "# The length of a an uncompressed wavefield, used to compute compression ratio below\n",
    "len0 = 4.0 * np.prod(v2._data[0,:,:].shape)\n",
    "\n",
    "# Loop over time blocks\n",
    "v2_all[:] = 0\n",
    "u2.data[:] = 0\n",
    "v2.data[:] = 0\n",
    "nl_rec2.data[:] = 0\n",
    "for kN in range(0,N,1):\n",
    "    kt1 = max((kN + 0) * M, 1)\n",
    "    kt2 = min((kN + 1) * M - 1, nt-2)\n",
    "    nl_op2(time_m=kt1, time_M=kt2)\n",
    "\n",
    "    # Copy computed Born term for correctness testing\n",
    "    for kt in range(kt1,kt2+1):\n",
    "\n",
    "        # assign\n",
    "        v2_all[kt,:,:] = v2.data[(kt%M),:,:]\n",
    "    \n",
    "        # compression\n",
    "        c = blosc.compress_ptr(v2._data[(kt%M),:,:].__array_interface__['data'][0], \n",
    "                               np.prod(v2._data[(kt%M),:,:].shape), \n",
    "                               v2._data[(kt%M),:,:].dtype.itemsize, 9, True, 'zstd')\n",
    "\n",
    "        # compression ratio\n",
    "        cratio = len0 / (1.0 * len(c))\n",
    "        \n",
    "        # serialization\n",
    "        file_offset[kt] = f.tell()\n",
    "        f.write(c)\n",
    "        file_length[kt] = len(c)\n",
    "\n",
    "        rms_v1 = np.linalg.norm(v1.data[kt,:,:].reshape(-1))\n",
    "        rms_v2 = np.linalg.norm(v2_all[kt,:,:].reshape(-1))\n",
    "        rms_12 = np.linalg.norm(v1.data[kt,:,:].reshape(-1) - v2_all[kt,:,:].reshape(-1))\n",
    "        print(\"kt1,kt2,len,cratio,|u1|,|u2|,|v1-v2|; %3d %3d %3d %10.4f %12.6e %12.6e %12.6e\" % \n",
    "              (kt1, kt2, kt2 - kt1 + 1, cratio, rms_v1, rms_v2, rms_12), flush=True)\n",
    "        \n",
    "# Close the binary file\n",
    "f.close()"
   ]
  },
  {
   "cell_type": "code",
   "execution_count": 8,
   "metadata": {},
   "outputs": [
    {
     "name": "stdout",
     "output_type": "stream",
     "text": [
      "2.669e-03\n",
      "1.381e-02\n"
     ]
    }
   ],
   "source": [
    "# NBVAL_IGNORE_OUTPUT\n",
    "\n",
    "# Continuous integration hooks for the time blocking implementation\n",
    "# We ensure the norm of these computed wavefields is repeatable\n",
    "# Note these are exactly the same norm values as the save all timesteps check above\n",
    "print(\"%.3e\" % norm(nl_rec1))\n",
    "print(\"%.3e\" % np.linalg.norm(v2_all))\n",
    "# assert np.isclose(norm(nl_rec1), 1.026e-14, atol=0, rtol=1e-3)\n",
    "# assert np.isclose(np.linalg.norm(v2_all), 4.283e-03, atol=0, rtol=1e-3)"
   ]
  },
  {
   "cell_type": "markdown",
   "metadata": {},
   "source": [
    "## Correctness test for nonlinear forward wavefield\n",
    "\n",
    "We now test correctness by measuring the maximum absolute difference between the wavefields computed with the```Buffer``` and save all time steps implementations."
   ]
  },
  {
   "cell_type": "code",
   "execution_count": 9,
   "metadata": {},
   "outputs": [
    {
     "name": "stdout",
     "output_type": "stream",
     "text": [
      "Maximum absolute difference +0.0000e+00\n"
     ]
    }
   ],
   "source": [
    "# NBVAL_IGNORE_OUTPUT\n",
    "\n",
    "dmax = np.max(np.abs(v1.data - v2_all))\n",
    "print(\"Maximum absolute difference %+.4e\" % (dmax))\n",
    "assert np.isclose(dmax, 0, atol=0, rtol=1e-14)"
   ]
  },
  {
   "cell_type": "markdown",
   "metadata": {},
   "source": [
    "## Implementation of Jacobian linearized forward\n",
    "\n",
    "As before we have two implementations:\n",
    "1. operates on all time steps in a single implementation and consumes the all time steps saved version of the nonlinear forward wavefield\n",
    "1. operates in time blocks, de-serializes and de-compresses $M$ time steps at a time, and consumes the compressed and serialized time blocking version of the nonlinear forward wavefield \n",
    "\n",
    "One difference in the correctness testing for this case is that we will assign the propagated perturbed wavefields to two ```TimeFunction(..., save=nt)``` for comparison."
   ]
  },
  {
   "cell_type": "code",
   "execution_count": 10,
   "metadata": {},
   "outputs": [
    {
     "name": "stderr",
     "output_type": "stream",
     "text": [
      "Operator `Kernel` run in 0.02 s\n"
     ]
    }
   ],
   "source": [
    "# NBVAL_IGNORE_OUTPUT\n",
    "\n",
    "# Create TimeFunctions\n",
    "duFwd1 = TimeFunction(name=\"duFwd1\", grid=grid, time_order=2, space_order=space_order, save=nt)\n",
    "duFwd2 = TimeFunction(name=\"duFwd2\", grid=grid, time_order=2, space_order=space_order, save=nt)\n",
    "\n",
    "ln_rec1_term = ln_rec1.interpolate(expr=duFwd1.forward)\n",
    "ln_rec2_term = ln_rec2.interpolate(expr=duFwd2.forward)\n",
    "\n",
    "# The Jacobian linearized forward time update equation\n",
    "update1 = (t.spacing**2 * m0**2 / b) * \\\n",
    "    ((b * duFwd1.dx(x0=x+x.spacing/2)).dx(x0=x-x.spacing/2) + \\\n",
    "     (b * duFwd1.dz(x0=z+z.spacing/2)).dz(x0=z-z.spacing/2) + \\\n",
    "     (dm * v1)) + (2 - t.spacing * wOverQ) * duFwd1 + \\\n",
    "    (t.spacing * wOverQ - 1) * duFwd1.backward\n",
    "\n",
    "update2 = (t.spacing**2 * m0**2 / b) * \\\n",
    "    ((b * duFwd2.dx(x0=x+x.spacing/2)).dx(x0=x-x.spacing/2) + \\\n",
    "     (b * duFwd2.dz(x0=z+z.spacing/2)).dz(x0=z-z.spacing/2) + \\\n",
    "     (dm * v2)) + (2 - t.spacing * wOverQ) * duFwd2 + \\\n",
    "    (t.spacing * wOverQ - 1) * duFwd2.backward\n",
    "\n",
    "stencil1 = Eq(duFwd1.forward, update1)\n",
    "stencil2 = Eq(duFwd2.forward, update2)\n",
    "\n",
    "# Build the Operators\n",
    "lf_op1 = Operator([stencil1, ln_rec1_term], subs=spacing_map)\n",
    "lf_op2 = Operator([stencil2, ln_rec2_term], subs=spacing_map)\n",
    "\n",
    "# Run operator 1 for all time samples\n",
    "duFwd1.data[:] = 0\n",
    "ln_rec1.data[:] = 0\n",
    "lf_op1(time_m=1, time_M=nt-2)\n",
    "\n",
    "None"
   ]
  },
  {
   "cell_type": "code",
   "execution_count": 11,
   "metadata": {},
   "outputs": [
    {
     "name": "stdout",
     "output_type": "stream",
     "text": [
      "6.438e+00\n",
      "2.681e-02\n"
     ]
    }
   ],
   "source": [
    "# NBVAL_IGNORE_OUTPUT\n",
    "\n",
    "# Continuous integration hooks for the save all timesteps implementation\n",
    "# We ensure the norm of these computed wavefields is repeatable\n",
    "print(\"%.3e\" % norm(duFwd1))\n",
    "print(\"%.3e\" % norm(ln_rec1))\n",
    "# assert np.isclose(norm(duFwd1), 1.041e-04, atol=0, rtol=1e-3)\n",
    "# assert np.isclose(norm(ln_rec1), 4.317e-14, atol=0, rtol=1e-3)"
   ]
  },
  {
   "cell_type": "markdown",
   "metadata": {},
   "source": [
    "### Run the time blocking implementation over blocks of M time steps\n",
    "\n",
    "Before each block of $M$ time steps, we de-serialize and de-compress. \n",
    "\n",
    "### TODO\n",
    "* in the linearized op below figure out how the hell to use a pre-allocated array to hold the compressed bytes, instead of returning a new bytearray each time we read. Note this is not a problem when not using python, and there must be a way."
   ]
  },
  {
   "cell_type": "code",
   "execution_count": 12,
   "metadata": {},
   "outputs": [
    {
     "name": "stderr",
     "output_type": "stream",
     "text": [
      "Operator `Kernel` run in 0.01 s\n"
     ]
    },
    {
     "name": "stdout",
     "output_type": "stream",
     "text": [
      "kt1,kt2,len,cratio,|du1|,|du2|,|du1-du2|;   1   4   4  2269.3494 0.000000e+00 0.000000e+00 0.000000e+00\n",
      "kt1,kt2,len,cratio,|du1|,|du2|,|du1-du2|;   1   4   4   634.1953 0.000000e+00 0.000000e+00 0.000000e+00\n",
      "kt1,kt2,len,cratio,|du1|,|du2|,|du1-du2|;   1   4   4   200.3787 3.248618e-10 3.248618e-10 0.000000e+00\n",
      "kt1,kt2,len,cratio,|du1|,|du2|,|du1-du2|;   1   4   4    96.8909 6.293924e-09 6.293924e-09 0.000000e+00\n"
     ]
    },
    {
     "name": "stderr",
     "output_type": "stream",
     "text": [
      "Operator `Kernel` run in 0.01 s\n"
     ]
    },
    {
     "name": "stdout",
     "output_type": "stream",
     "text": [
      "kt1,kt2,len,cratio,|du1|,|du2|,|du1-du2|;   5   9   5    54.8344 3.011667e-08 3.011667e-08 0.000000e+00\n",
      "kt1,kt2,len,cratio,|du1|,|du2|,|du1-du2|;   5   9   5    37.4019 5.526788e-08 5.526788e-08 0.000000e+00\n",
      "kt1,kt2,len,cratio,|du1|,|du2|,|du1-du2|;   5   9   5    31.4977 3.888593e-08 3.888593e-08 0.000000e+00\n",
      "kt1,kt2,len,cratio,|du1|,|du2|,|du1-du2|;   5   9   5    27.9667 2.700029e-07 2.700029e-07 0.000000e+00\n",
      "kt1,kt2,len,cratio,|du1|,|du2|,|du1-du2|;   5   9   5    26.3767 8.058460e-07 8.058460e-07 0.000000e+00\n"
     ]
    },
    {
     "name": "stderr",
     "output_type": "stream",
     "text": [
      "Operator `Kernel` run in 0.01 s\n"
     ]
    },
    {
     "name": "stdout",
     "output_type": "stream",
     "text": [
      "kt1,kt2,len,cratio,|du1|,|du2|,|du1-du2|;  10  14   5    24.0097 1.515287e-06 1.515287e-06 0.000000e+00\n",
      "kt1,kt2,len,cratio,|du1|,|du2|,|du1-du2|;  10  14   5    22.6716 2.043159e-06 2.043159e-06 0.000000e+00\n",
      "kt1,kt2,len,cratio,|du1|,|du2|,|du1-du2|;  10  14   5    21.9657 2.163814e-06 2.163814e-06 0.000000e+00\n",
      "kt1,kt2,len,cratio,|du1|,|du2|,|du1-du2|;  10  14   5    21.0571 3.649038e-06 3.649038e-06 0.000000e+00\n",
      "kt1,kt2,len,cratio,|du1|,|du2|,|du1-du2|;  10  14   5    20.4535 8.698074e-06 8.698074e-06 0.000000e+00\n"
     ]
    },
    {
     "name": "stderr",
     "output_type": "stream",
     "text": [
      "Operator `Kernel` run in 0.01 s\n"
     ]
    },
    {
     "name": "stdout",
     "output_type": "stream",
     "text": [
      "kt1,kt2,len,cratio,|du1|,|du2|,|du1-du2|;  15  19   5    19.7252 1.687538e-05 1.687538e-05 0.000000e+00\n",
      "kt1,kt2,len,cratio,|du1|,|du2|,|du1-du2|;  15  19   5    18.9037 2.681207e-05 2.681207e-05 0.000000e+00\n",
      "kt1,kt2,len,cratio,|du1|,|du2|,|du1-du2|;  15  19   5    18.3672 3.581040e-05 3.581040e-05 0.000000e+00\n",
      "kt1,kt2,len,cratio,|du1|,|du2|,|du1-du2|;  15  19   5    17.6396 4.089360e-05 4.089360e-05 0.000000e+00\n",
      "kt1,kt2,len,cratio,|du1|,|du2|,|du1-du2|;  15  19   5    17.2361 4.530985e-05 4.530985e-05 0.000000e+00\n"
     ]
    },
    {
     "name": "stderr",
     "output_type": "stream",
     "text": [
      "Operator `Kernel` run in 0.01 s\n"
     ]
    },
    {
     "name": "stdout",
     "output_type": "stream",
     "text": [
      "kt1,kt2,len,cratio,|du1|,|du2|,|du1-du2|;  20  24   5    16.6201 6.876001e-05 6.876001e-05 0.000000e+00\n",
      "kt1,kt2,len,cratio,|du1|,|du2|,|du1-du2|;  20  24   5    16.1167 1.238207e-04 1.238207e-04 0.000000e+00\n",
      "kt1,kt2,len,cratio,|du1|,|du2|,|du1-du2|;  20  24   5    15.8549 2.005535e-04 2.005535e-04 0.000000e+00\n",
      "kt1,kt2,len,cratio,|du1|,|du2|,|du1-du2|;  20  24   5    15.6377 2.810454e-04 2.810454e-04 0.000000e+00\n",
      "kt1,kt2,len,cratio,|du1|,|du2|,|du1-du2|;  20  24   5    15.1035 3.451817e-04 3.451817e-04 0.000000e+00\n"
     ]
    },
    {
     "name": "stderr",
     "output_type": "stream",
     "text": [
      "Operator `Kernel` run in 0.01 s\n"
     ]
    },
    {
     "name": "stdout",
     "output_type": "stream",
     "text": [
      "kt1,kt2,len,cratio,|du1|,|du2|,|du1-du2|;  25  29   5    14.7533 3.841233e-04 3.841233e-04 0.000000e+00\n",
      "kt1,kt2,len,cratio,|du1|,|du2|,|du1-du2|;  25  29   5    14.3882 4.327434e-04 4.327434e-04 0.000000e+00\n",
      "kt1,kt2,len,cratio,|du1|,|du2|,|du1-du2|;  25  29   5    14.3052 5.876190e-04 5.876190e-04 0.000000e+00\n",
      "kt1,kt2,len,cratio,|du1|,|du2|,|du1-du2|;  25  29   5    13.8742 9.081661e-04 9.081661e-04 0.000000e+00\n",
      "kt1,kt2,len,cratio,|du1|,|du2|,|du1-du2|;  25  29   5    13.5596 1.357245e-03 1.357245e-03 0.000000e+00\n"
     ]
    },
    {
     "name": "stderr",
     "output_type": "stream",
     "text": [
      "Operator `Kernel` run in 0.01 s\n"
     ]
    },
    {
     "name": "stdout",
     "output_type": "stream",
     "text": [
      "kt1,kt2,len,cratio,|du1|,|du2|,|du1-du2|;  30  34   5    13.3595 1.853241e-03 1.853241e-03 0.000000e+00\n",
      "kt1,kt2,len,cratio,|du1|,|du2|,|du1-du2|;  30  34   5    12.9197 2.298179e-03 2.298179e-03 0.000000e+00\n",
      "kt1,kt2,len,cratio,|du1|,|du2|,|du1-du2|;  30  34   5    12.8667 2.620240e-03 2.620240e-03 0.000000e+00\n",
      "kt1,kt2,len,cratio,|du1|,|du2|,|du1-du2|;  30  34   5    12.5170 2.897672e-03 2.897672e-03 0.000000e+00\n",
      "kt1,kt2,len,cratio,|du1|,|du2|,|du1-du2|;  30  34   5    12.3496 3.571639e-03 3.571639e-03 0.000000e+00\n"
     ]
    },
    {
     "name": "stderr",
     "output_type": "stream",
     "text": [
      "Operator `Kernel` run in 0.01 s\n"
     ]
    },
    {
     "name": "stdout",
     "output_type": "stream",
     "text": [
      "kt1,kt2,len,cratio,|du1|,|du2|,|du1-du2|;  35  39   5    12.2269 5.320055e-03 5.320055e-03 0.000000e+00\n",
      "kt1,kt2,len,cratio,|du1|,|du2|,|du1-du2|;  35  39   5    11.9850 8.485367e-03 8.485367e-03 0.000000e+00\n",
      "kt1,kt2,len,cratio,|du1|,|du2|,|du1-du2|;  35  39   5    11.8972 1.312570e-02 1.312570e-02 0.000000e+00\n",
      "kt1,kt2,len,cratio,|du1|,|du2|,|du1-du2|;  35  39   5    11.5520 1.926270e-02 1.926270e-02 0.000000e+00\n",
      "kt1,kt2,len,cratio,|du1|,|du2|,|du1-du2|;  35  39   5    11.2599 2.691003e-02 2.691003e-02 0.000000e+00\n"
     ]
    },
    {
     "name": "stderr",
     "output_type": "stream",
     "text": [
      "Operator `Kernel` run in 0.01 s\n"
     ]
    },
    {
     "name": "stdout",
     "output_type": "stream",
     "text": [
      "kt1,kt2,len,cratio,|du1|,|du2|,|du1-du2|;  40  44   5    11.1480 3.605108e-02 3.605108e-02 0.000000e+00\n",
      "kt1,kt2,len,cratio,|du1|,|du2|,|du1-du2|;  40  44   5    10.9306 4.662780e-02 4.662780e-02 0.000000e+00\n",
      "kt1,kt2,len,cratio,|du1|,|du2|,|du1-du2|;  40  44   5    10.7528 5.854315e-02 5.854315e-02 0.000000e+00\n",
      "kt1,kt2,len,cratio,|du1|,|du2|,|du1-du2|;  40  44   5    10.6056 7.166724e-02 7.166724e-02 0.000000e+00\n",
      "kt1,kt2,len,cratio,|du1|,|du2|,|du1-du2|;  40  44   5    10.4162 8.583608e-02 8.583608e-02 0.000000e+00\n"
     ]
    },
    {
     "name": "stderr",
     "output_type": "stream",
     "text": [
      "Operator `Kernel` run in 0.01 s\n"
     ]
    },
    {
     "name": "stdout",
     "output_type": "stream",
     "text": [
      "kt1,kt2,len,cratio,|du1|,|du2|,|du1-du2|;  45  49   5    10.2035 1.008448e-01 1.008448e-01 0.000000e+00\n",
      "kt1,kt2,len,cratio,|du1|,|du2|,|du1-du2|;  45  49   5    10.0510 1.164520e-01 1.164520e-01 0.000000e+00\n",
      "kt1,kt2,len,cratio,|du1|,|du2|,|du1-du2|;  45  49   5     9.9712 1.324121e-01 1.324121e-01 0.000000e+00\n",
      "kt1,kt2,len,cratio,|du1|,|du2|,|du1-du2|;  45  49   5     9.7196 1.485310e-01 1.485310e-01 0.000000e+00\n",
      "kt1,kt2,len,cratio,|du1|,|du2|,|du1-du2|;  45  49   5     9.6573 1.647151e-01 1.647151e-01 0.000000e+00\n"
     ]
    },
    {
     "name": "stderr",
     "output_type": "stream",
     "text": [
      "Operator `Kernel` run in 0.01 s\n"
     ]
    },
    {
     "name": "stdout",
     "output_type": "stream",
     "text": [
      "kt1,kt2,len,cratio,|du1|,|du2|,|du1-du2|;  50  54   5     9.5250 1.809794e-01 1.809794e-01 0.000000e+00\n",
      "kt1,kt2,len,cratio,|du1|,|du2|,|du1-du2|;  50  54   5     9.4976 1.974086e-01 1.974086e-01 0.000000e+00\n",
      "kt1,kt2,len,cratio,|du1|,|du2|,|du1-du2|;  50  54   5     9.1989 2.140955e-01 2.140955e-01 0.000000e+00\n",
      "kt1,kt2,len,cratio,|du1|,|du2|,|du1-du2|;  50  54   5     9.1382 2.310962e-01 2.310962e-01 0.000000e+00\n",
      "kt1,kt2,len,cratio,|du1|,|du2|,|du1-du2|;  50  54   5     8.9715 2.484244e-01 2.484244e-01 0.000000e+00\n"
     ]
    },
    {
     "name": "stderr",
     "output_type": "stream",
     "text": [
      "Operator `Kernel` run in 0.01 s\n"
     ]
    },
    {
     "name": "stdout",
     "output_type": "stream",
     "text": [
      "kt1,kt2,len,cratio,|du1|,|du2|,|du1-du2|;  55  59   5     8.8021 2.660806e-01 2.660806e-01 0.000000e+00\n",
      "kt1,kt2,len,cratio,|du1|,|du2|,|du1-du2|;  55  59   5     8.6944 2.840927e-01 2.840927e-01 0.000000e+00\n",
      "kt1,kt2,len,cratio,|du1|,|du2|,|du1-du2|;  55  59   5     8.5387 3.025340e-01 3.025340e-01 0.000000e+00\n",
      "kt1,kt2,len,cratio,|du1|,|du2|,|du1-du2|;  55  59   5     8.6121 3.214962e-01 3.214962e-01 0.000000e+00\n",
      "kt1,kt2,len,cratio,|du1|,|du2|,|du1-du2|;  55  59   5     8.3867 3.410241e-01 3.410241e-01 0.000000e+00\n"
     ]
    },
    {
     "name": "stderr",
     "output_type": "stream",
     "text": [
      "Operator `Kernel` run in 0.01 s\n"
     ]
    },
    {
     "name": "stdout",
     "output_type": "stream",
     "text": [
      "kt1,kt2,len,cratio,|du1|,|du2|,|du1-du2|;  60  64   5     8.3079 3.610629e-01 3.610629e-01 0.000000e+00\n",
      "kt1,kt2,len,cratio,|du1|,|du2|,|du1-du2|;  60  64   5     8.2033 3.814755e-01 3.814755e-01 0.000000e+00\n",
      "kt1,kt2,len,cratio,|du1|,|du2|,|du1-du2|;  60  64   5     8.0439 4.021288e-01 4.021288e-01 0.000000e+00\n",
      "kt1,kt2,len,cratio,|du1|,|du2|,|du1-du2|;  60  64   5     7.9947 4.229793e-01 4.229793e-01 0.000000e+00\n",
      "kt1,kt2,len,cratio,|du1|,|du2|,|du1-du2|;  60  64   5     7.8893 4.440853e-01 4.440853e-01 0.000000e+00\n"
     ]
    },
    {
     "name": "stderr",
     "output_type": "stream",
     "text": [
      "Operator `Kernel` run in 0.01 s\n"
     ]
    },
    {
     "name": "stdout",
     "output_type": "stream",
     "text": [
      "kt1,kt2,len,cratio,|du1|,|du2|,|du1-du2|;  65  69   5     7.8081 4.655465e-01 4.655465e-01 0.000000e+00\n",
      "kt1,kt2,len,cratio,|du1|,|du2|,|du1-du2|;  65  69   5     7.6767 4.874430e-01 4.874430e-01 0.000000e+00\n",
      "kt1,kt2,len,cratio,|du1|,|du2|,|du1-du2|;  65  69   5     7.6242 5.098305e-01 5.098305e-01 0.000000e+00\n",
      "kt1,kt2,len,cratio,|du1|,|du2|,|du1-du2|;  65  69   5     7.5333 5.327665e-01 5.327665e-01 0.000000e+00\n",
      "kt1,kt2,len,cratio,|du1|,|du2|,|du1-du2|;  65  69   5     7.4585 5.563155e-01 5.563155e-01 0.000000e+00\n"
     ]
    },
    {
     "name": "stderr",
     "output_type": "stream",
     "text": [
      "Operator `Kernel` run in 0.01 s\n"
     ]
    },
    {
     "name": "stdout",
     "output_type": "stream",
     "text": [
      "kt1,kt2,len,cratio,|du1|,|du2|,|du1-du2|;  70  74   5     7.3623 5.805300e-01 5.805300e-01 0.000000e+00\n",
      "kt1,kt2,len,cratio,|du1|,|du2|,|du1-du2|;  70  74   5     7.2300 6.054459e-01 6.054459e-01 0.000000e+00\n",
      "kt1,kt2,len,cratio,|du1|,|du2|,|du1-du2|;  70  74   5     7.2043 6.310996e-01 6.310996e-01 0.000000e+00\n",
      "kt1,kt2,len,cratio,|du1|,|du2|,|du1-du2|;  70  74   5     7.0877 6.575232e-01 6.575232e-01 0.000000e+00\n",
      "kt1,kt2,len,cratio,|du1|,|du2|,|du1-du2|;  70  74   5     7.0175 6.846968e-01 6.846968e-01 0.000000e+00\n"
     ]
    },
    {
     "name": "stderr",
     "output_type": "stream",
     "text": [
      "Operator `Kernel` run in 0.01 s\n"
     ]
    },
    {
     "name": "stdout",
     "output_type": "stream",
     "text": [
      "kt1,kt2,len,cratio,|du1|,|du2|,|du1-du2|;  75  79   5     6.9448 7.125278e-01 7.125278e-01 0.000000e+00\n",
      "kt1,kt2,len,cratio,|du1|,|du2|,|du1-du2|;  75  79   5     6.8267 7.409194e-01 7.409194e-01 0.000000e+00\n",
      "kt1,kt2,len,cratio,|du1|,|du2|,|du1-du2|;  75  79   5     6.7822 7.698829e-01 7.698829e-01 0.000000e+00\n",
      "kt1,kt2,len,cratio,|du1|,|du2|,|du1-du2|;  75  79   5     6.6753 7.995652e-01 7.995652e-01 0.000000e+00\n",
      "kt1,kt2,len,cratio,|du1|,|du2|,|du1-du2|;  75  79   5     6.6092 8.301483e-01 8.301483e-01 0.000000e+00\n"
     ]
    },
    {
     "name": "stderr",
     "output_type": "stream",
     "text": [
      "Operator `Kernel` run in 0.01 s\n"
     ]
    },
    {
     "name": "stdout",
     "output_type": "stream",
     "text": [
      "kt1,kt2,len,cratio,|du1|,|du2|,|du1-du2|;  80  84   5     6.5581 8.617289e-01 8.617289e-01 0.000000e+00\n",
      "kt1,kt2,len,cratio,|du1|,|du2|,|du1-du2|;  80  84   5     6.4776 8.943028e-01 8.943028e-01 0.000000e+00\n",
      "kt1,kt2,len,cratio,|du1|,|du2|,|du1-du2|;  80  84   5     6.3930 9.278333e-01 9.278333e-01 0.000000e+00\n",
      "kt1,kt2,len,cratio,|du1|,|du2|,|du1-du2|;  80  84   5     6.3351 9.622761e-01 9.622761e-01 0.000000e+00\n",
      "kt1,kt2,len,cratio,|du1|,|du2|,|du1-du2|;  80  84   5     6.2915 9.975283e-01 9.975283e-01 0.000000e+00\n"
     ]
    },
    {
     "name": "stderr",
     "output_type": "stream",
     "text": [
      "Operator `Kernel` run in 0.01 s\n"
     ]
    },
    {
     "name": "stdout",
     "output_type": "stream",
     "text": [
      "kt1,kt2,len,cratio,|du1|,|du2|,|du1-du2|;  85  89   5     6.2027 1.033408e+00 1.033408e+00 0.000000e+00\n",
      "kt1,kt2,len,cratio,|du1|,|du2|,|du1-du2|;  85  89   5     6.1358 1.069752e+00 1.069752e+00 0.000000e+00\n",
      "kt1,kt2,len,cratio,|du1|,|du2|,|du1-du2|;  85  89   5     6.1542 1.106537e+00 1.106537e+00 0.000000e+00\n",
      "kt1,kt2,len,cratio,|du1|,|du2|,|du1-du2|;  85  89   5     6.0411 1.143888e+00 1.143888e+00 0.000000e+00\n",
      "kt1,kt2,len,cratio,|du1|,|du2|,|du1-du2|;  85  89   5     5.9693 1.181967e+00 1.181967e+00 0.000000e+00\n"
     ]
    },
    {
     "name": "stderr",
     "output_type": "stream",
     "text": [
      "Operator `Kernel` run in 0.01 s\n"
     ]
    },
    {
     "name": "stdout",
     "output_type": "stream",
     "text": [
      "kt1,kt2,len,cratio,|du1|,|du2|,|du1-du2|;  90  94   5     5.9099 1.220892e+00 1.220892e+00 0.000000e+00\n",
      "kt1,kt2,len,cratio,|du1|,|du2|,|du1-du2|;  90  94   5     5.8568 1.260784e+00 1.260784e+00 0.000000e+00\n",
      "kt1,kt2,len,cratio,|du1|,|du2|,|du1-du2|;  90  94   5     5.7949 1.301829e+00 1.301829e+00 0.000000e+00\n",
      "kt1,kt2,len,cratio,|du1|,|du2|,|du1-du2|;  90  94   5     5.7462 1.344232e+00 1.344232e+00 0.000000e+00\n",
      "kt1,kt2,len,cratio,|du1|,|du2|,|du1-du2|;  90  94   5     5.7098 1.388100e+00 1.388100e+00 0.000000e+00\n"
     ]
    },
    {
     "name": "stderr",
     "output_type": "stream",
     "text": [
      "Operator `Kernel` run in 0.01 s\n"
     ]
    },
    {
     "name": "stdout",
     "output_type": "stream",
     "text": [
      "kt1,kt2,len,cratio,|du1|,|du2|,|du1-du2|;  95  99   5     5.6399 1.433419e+00 1.433419e+00 0.000000e+00\n",
      "kt1,kt2,len,cratio,|du1|,|du2|,|du1-du2|;  95  99   5     5.5495 1.480179e+00 1.480179e+00 0.000000e+00\n",
      "kt1,kt2,len,cratio,|du1|,|du2|,|du1-du2|;  95  99   5     5.5196 1.528492e+00 1.528492e+00 0.000000e+00\n",
      "kt1,kt2,len,cratio,|du1|,|du2|,|du1-du2|;  95  99   5     5.4489 1.578559e+00 1.578559e+00 0.000000e+00\n",
      "kt1,kt2,len,cratio,|du1|,|du2|,|du1-du2|;  95  99   5     5.4012 1.630538e+00 1.630538e+00 0.000000e+00\n"
     ]
    },
    {
     "name": "stderr",
     "output_type": "stream",
     "text": [
      "Operator `Kernel` run in 0.01 s\n"
     ]
    }
   ],
   "source": [
    "# NBVAL_IGNORE_OUTPUT\n",
    "\n",
    "# Open the binary file in read only mode\n",
    "f = open(filename, \"rb\")\n",
    "\n",
    "# Temporay nd array for decompression\n",
    "d = copy.copy(v2._data[0,:,:])\n",
    "\n",
    "# Array to hold compression ratio\n",
    "cratio = np.zeros(nt, dtype=dtype)\n",
    "\n",
    "# Loop over time blocks\n",
    "duFwd2.data[:] = 0\n",
    "ln_rec2.data[:] = 0\n",
    "for kN in range(0,N,1):\n",
    "    kt1 = max((kN + 0) * M, 1)\n",
    "    kt2 = min((kN + 1) * M - 1, nt-2)\n",
    "    \n",
    "    # 1. Seek to file_offset[kt] \n",
    "    # 2. Read file_length[kt1] bytes from file\n",
    "    # 3. Decompress wavefield and assign to v2 Buffer\n",
    "    for kt in range(kt1,kt2+1):\n",
    "        f.seek(file_offset[kt], 0)\n",
    "        c = f.read(file_length[kt])\n",
    "        blosc.decompress_ptr(c, v2._data[(kt%M),:,:].__array_interface__['data'][0])\n",
    "        cratio[kt] = len0 / (1.0 * len(c))\n",
    "\n",
    "    # Run the operator for this time block\n",
    "    lf_op2(time_m=kt1, time_M=kt2)\n",
    "    \n",
    "    for kt in range(kt1,kt2+1):\n",
    "        rms_du1 = np.linalg.norm(duFwd1.data[kt,:,:].reshape(-1))\n",
    "        rms_du2 = np.linalg.norm(duFwd2.data[kt,:,:].reshape(-1))\n",
    "        rms_d12 = np.linalg.norm(duFwd1.data[kt,:,:].reshape(-1) - duFwd2.data[kt,:,:].reshape(-1))\n",
    "        print(\"kt1,kt2,len,cratio,|du1|,|du2|,|du1-du2|; %3d %3d %3d %10.4f %12.6e %12.6e %12.6e\" % \n",
    "              (kt1, kt2, kt2 - kt1 + 1, cratio[kt], rms_du1, rms_du2, rms_d12), flush=True)"
   ]
  },
  {
   "cell_type": "code",
   "execution_count": 13,
   "metadata": {},
   "outputs": [
    {
     "name": "stdout",
     "output_type": "stream",
     "text": [
      "6.438e+00\n",
      "2.681e-02\n"
     ]
    }
   ],
   "source": [
    "# NBVAL_IGNORE_OUTPUT\n",
    "\n",
    "# Continuous integration hooks for the save all timesteps implementation\n",
    "# We ensure the norm of these computed wavefields is repeatable\n",
    "print(\"%.3e\" % norm(duFwd2))\n",
    "print(\"%.3e\" % norm(ln_rec2))\n",
    "# assert np.isclose(norm(duFwd2), 1.041e-04, atol=0, rtol=1e-3)\n",
    "# assert np.isclose(norm(ln_rec2), 4.317e-14, atol=0, rtol=1e-3)"
   ]
  },
  {
   "cell_type": "markdown",
   "metadata": {},
   "source": [
    "## Correctness test for Jacobian forward wavefield\n",
    "\n",
    "We now test correctness by measuring the maximum absolute difference between the wavefields computed with the```Buffer``` and save all time steps implementations."
   ]
  },
  {
   "cell_type": "code",
   "execution_count": 14,
   "metadata": {},
   "outputs": [
    {
     "name": "stdout",
     "output_type": "stream",
     "text": [
      "Maximum absolute difference +0.0000e+00\n"
     ]
    }
   ],
   "source": [
    "# NBVAL_IGNORE_OUTPUT\n",
    "\n",
    "dmax = np.max(np.abs(duFwd1.data - duFwd2.data))\n",
    "print(\"Maximum absolute difference %+.4e\" % (dmax))\n",
    "assert np.isclose(dmax, 0, atol=0, rtol=1e-14)\n",
    "\n",
    "# Might need to garbage collect duFwd1 and duFwd2 for CI to run ??\n",
    "# del duFwd1, duFwd2"
   ]
  },
  {
   "cell_type": "markdown",
   "metadata": {},
   "source": [
    "## Implementation of Jacobian linearized adjoint\n",
    "\n",
    "Again we have two implementations:\n",
    "1. operates on all time steps in a single implementation and consumes the all time steps saved version of the nonlinear forward wavefield\n",
    "1. operates in time blocks, de-serializes and de-compresses $M$ time steps at a time, and consumes the compressed and serialized time blocking version of the nonlinear forward wavefield \n",
    "\n",
    "For correctness testing here we will compare the final gradients computed via these two implementations."
   ]
  },
  {
   "cell_type": "code",
   "execution_count": 15,
   "metadata": {},
   "outputs": [
    {
     "name": "stderr",
     "output_type": "stream",
     "text": [
      "Operator `Kernel` run in 0.03 s\n"
     ]
    }
   ],
   "source": [
    "# NBVAL_IGNORE_OUTPUT\n",
    "\n",
    "# Create TimeFunctions for adjoint wavefields\n",
    "duAdj1 = TimeFunction(name=\"duAdj1\", grid=grid, time_order=2, space_order=space_order, save=nt)\n",
    "duAdj2 = TimeFunction(name=\"duAdj2\", grid=grid, time_order=2, space_order=space_order, save=nt)\n",
    "\n",
    "# Create Functions to hold the computed gradients\n",
    "dm1 = Function(name='dm1', grid=grid, space_order=space_order)\n",
    "dm2 = Function(name='dm2', grid=grid, space_order=space_order)\n",
    "\n",
    "# The Jacobian linearized adjoint time update equation\n",
    "update1 = (t.spacing**2 * m0**2 / b) * \\\n",
    "    ((b * duAdj1.dx(x0=x+x.spacing/2)).dx(x0=x-x.spacing/2) +\n",
    "     (b * duAdj1.dz(x0=z+z.spacing/2)).dz(x0=z-z.spacing/2)) +\\\n",
    "    (2 - t.spacing * wOverQ) * duAdj1 + \\\n",
    "    (t.spacing * wOverQ - 1) * duAdj1.forward\n",
    "\n",
    "update2 = (t.spacing**2 * m0**2 / b) * \\\n",
    "    ((b * duAdj2.dx(x0=x+x.spacing/2)).dx(x0=x-x.spacing/2) +\n",
    "     (b * duAdj2.dz(x0=z+z.spacing/2)).dz(x0=z-z.spacing/2)) +\\\n",
    "    (2 - t.spacing * wOverQ) * duAdj2 + \\\n",
    "    (t.spacing * wOverQ - 1) * duAdj2.forward\n",
    "\n",
    "stencil1 = Eq(duAdj1.backward, update1)\n",
    "stencil2 = Eq(duAdj2.backward, update2)\n",
    "\n",
    "# Equations to sum the zero lag correlations\n",
    "dm1_update = Eq(dm1, dm1 + duAdj1 * v1)\n",
    "dm2_update = Eq(dm2, dm2 + duAdj2 * v2)\n",
    "\n",
    "# We will inject the Jacobian linearized forward receiver data, time reversed\n",
    "la_rec1_term = ln_rec1.inject(field=duAdj1.backward, expr=ln_rec1 * t.spacing**2 * m0**2 / b)\n",
    "la_rec2_term = ln_rec2.inject(field=duAdj2.backward, expr=ln_rec2 * t.spacing**2 * m0**2 / b)\n",
    "\n",
    "# Build the Operators\n",
    "la_op1 = Operator([dm1_update, stencil1, la_rec1_term], subs=spacing_map)\n",
    "la_op2 = Operator([dm2_update, stencil2, la_rec2_term], subs=spacing_map)\n",
    "\n",
    "# Run operator 1 for all time samples\n",
    "duAdj1.data[:] = 0\n",
    "dm1.data[:] = 0\n",
    "la_op1(time_m=1, time_M=nt-2)\n",
    "\n",
    "None"
   ]
  },
  {
   "cell_type": "code",
   "execution_count": 16,
   "metadata": {},
   "outputs": [
    {
     "name": "stdout",
     "output_type": "stream",
     "text": [
      "4.626e+01\n",
      "1.426e-04\n"
     ]
    }
   ],
   "source": [
    "# NBVAL_IGNORE_OUTPUT\n",
    "\n",
    "# Continuous integration hooks for the save all timesteps implementation\n",
    "# We ensure the norm of these computed wavefields is repeatable\n",
    "print(\"%.3e\" % norm(duAdj1))\n",
    "print(\"%.3e\" % norm(dm1))\n",
    "# assert np.isclose(norm(duAdj1), 9.458e+00, atol=0, rtol=1e-3)\n",
    "# assert np.isclose(norm(dm1), 1.426e-04, atol=0, rtol=1e-3)"
   ]
  },
  {
   "cell_type": "markdown",
   "metadata": {},
   "source": [
    "### Run the time blocking implementation over blocks of M time steps\n",
    "\n",
    "Before each block of $M$ time steps, we de-serialize and de-compress. "
   ]
  },
  {
   "cell_type": "code",
   "execution_count": 17,
   "metadata": {},
   "outputs": [
    {
     "name": "stdout",
     "output_type": "stream",
     "text": [
      "K,N,kt1,kt2,len;  20  21 100  99   0\n"
     ]
    },
    {
     "name": "stderr",
     "output_type": "stream",
     "text": [
      "Operator `Kernel` run in 0.01 s\n",
      "Operator `Kernel` run in 0.01 s\n"
     ]
    },
    {
     "name": "stdout",
     "output_type": "stream",
     "text": [
      "K,N,kt1,kt2,len;  19  21  95  99   5\n",
      "kt2,kt1,kt,cratio,|du1|,|du2|,|du1-du2|;  99  95  99     5.4012 0.000000e+00 0.000000e+00 0.000000e+00\n",
      "kt2,kt1,kt,cratio,|du1|,|du2|,|du1-du2|;  99  95  98     5.4489 1.249523e-01 1.249523e-01 0.000000e+00\n",
      "kt2,kt1,kt,cratio,|du1|,|du2|,|du1-du2|;  99  95  97     5.5196 3.759708e-01 3.759708e-01 0.000000e+00\n",
      "kt2,kt1,kt,cratio,|du1|,|du2|,|du1-du2|;  99  95  96     5.5495 7.253098e-01 7.253098e-01 0.000000e+00\n",
      "kt2,kt1,kt,cratio,|du1|,|du2|,|du1-du2|;  99  95  95     5.6399 1.125247e+00 1.125247e+00 0.000000e+00\n"
     ]
    },
    {
     "name": "stderr",
     "output_type": "stream",
     "text": [
      "Operator `Kernel` run in 0.01 s\n"
     ]
    },
    {
     "name": "stdout",
     "output_type": "stream",
     "text": [
      "K,N,kt1,kt2,len;  18  21  90  94   5\n",
      "kt2,kt1,kt,cratio,|du1|,|du2|,|du1-du2|;  94  90  94     5.7098 1.524726e+00 1.524726e+00 0.000000e+00\n",
      "kt2,kt1,kt,cratio,|du1|,|du2|,|du1-du2|;  94  90  93     5.7462 1.885189e+00 1.885189e+00 0.000000e+00\n",
      "kt2,kt1,kt,cratio,|du1|,|du2|,|du1-du2|;  94  90  92     5.7949 2.189993e+00 2.189993e+00 0.000000e+00\n",
      "kt2,kt1,kt,cratio,|du1|,|du2|,|du1-du2|;  94  90  91     5.8568 2.444233e+00 2.444233e+00 0.000000e+00\n",
      "kt2,kt1,kt,cratio,|du1|,|du2|,|du1-du2|;  94  90  90     5.9099 2.665152e+00 2.665152e+00 0.000000e+00\n"
     ]
    },
    {
     "name": "stderr",
     "output_type": "stream",
     "text": [
      "Operator `Kernel` run in 0.01 s\n"
     ]
    },
    {
     "name": "stdout",
     "output_type": "stream",
     "text": [
      "K,N,kt1,kt2,len;  17  21  85  89   5\n",
      "kt2,kt1,kt,cratio,|du1|,|du2|,|du1-du2|;  89  85  89     5.9693 2.868159e+00 2.868159e+00 0.000000e+00\n",
      "kt2,kt1,kt,cratio,|du1|,|du2|,|du1-du2|;  89  85  88     6.0411 3.057189e+00 3.057189e+00 0.000000e+00\n",
      "kt2,kt1,kt,cratio,|du1|,|du2|,|du1-du2|;  89  85  87     6.1542 3.225462e+00 3.225462e+00 0.000000e+00\n",
      "kt2,kt1,kt,cratio,|du1|,|du2|,|du1-du2|;  89  85  86     6.1358 3.364440e+00 3.364440e+00 0.000000e+00\n",
      "kt2,kt1,kt,cratio,|du1|,|du2|,|du1-du2|;  89  85  85     6.2027 3.473126e+00 3.473126e+00 0.000000e+00\n"
     ]
    },
    {
     "name": "stderr",
     "output_type": "stream",
     "text": [
      "Operator `Kernel` run in 0.01 s\n"
     ]
    },
    {
     "name": "stdout",
     "output_type": "stream",
     "text": [
      "K,N,kt1,kt2,len;  16  21  80  84   5\n",
      "kt2,kt1,kt,cratio,|du1|,|du2|,|du1-du2|;  84  80  84     6.2915 3.560995e+00 3.560995e+00 0.000000e+00\n",
      "kt2,kt1,kt,cratio,|du1|,|du2|,|du1-du2|;  84  80  83     6.3351 3.642754e+00 3.642754e+00 0.000000e+00\n",
      "kt2,kt1,kt,cratio,|du1|,|du2|,|du1-du2|;  84  80  82     6.3930 3.728824e+00 3.728824e+00 0.000000e+00\n",
      "kt2,kt1,kt,cratio,|du1|,|du2|,|du1-du2|;  84  80  81     6.4776 3.819077e+00 3.819077e+00 0.000000e+00\n",
      "kt2,kt1,kt,cratio,|du1|,|du2|,|du1-du2|;  84  80  80     6.5581 3.905085e+00 3.905085e+00 0.000000e+00\n"
     ]
    },
    {
     "name": "stderr",
     "output_type": "stream",
     "text": [
      "Operator `Kernel` run in 0.01 s\n"
     ]
    },
    {
     "name": "stdout",
     "output_type": "stream",
     "text": [
      "K,N,kt1,kt2,len;  15  21  75  79   5\n",
      "kt2,kt1,kt,cratio,|du1|,|du2|,|du1-du2|;  79  75  79     6.6092 3.978551e+00 3.978551e+00 0.000000e+00\n",
      "kt2,kt1,kt,cratio,|du1|,|du2|,|du1-du2|;  79  75  78     6.6753 4.038469e+00 4.038469e+00 0.000000e+00\n",
      "kt2,kt1,kt,cratio,|du1|,|du2|,|du1-du2|;  79  75  77     6.7822 4.091446e+00 4.091446e+00 0.000000e+00\n",
      "kt2,kt1,kt,cratio,|du1|,|du2|,|du1-du2|;  79  75  76     6.8267 4.145671e+00 4.145671e+00 0.000000e+00\n",
      "kt2,kt1,kt,cratio,|du1|,|du2|,|du1-du2|;  79  75  75     6.9448 4.204039e+00 4.204039e+00 0.000000e+00\n"
     ]
    },
    {
     "name": "stderr",
     "output_type": "stream",
     "text": [
      "Operator `Kernel` run in 0.01 s\n"
     ]
    },
    {
     "name": "stdout",
     "output_type": "stream",
     "text": [
      "K,N,kt1,kt2,len;  14  21  70  74   5\n",
      "kt2,kt1,kt,cratio,|du1|,|du2|,|du1-du2|;  74  70  74     7.0175 4.262370e+00 4.262370e+00 0.000000e+00\n",
      "kt2,kt1,kt,cratio,|du1|,|du2|,|du1-du2|;  74  70  73     7.0877 4.313754e+00 4.313754e+00 0.000000e+00\n",
      "kt2,kt1,kt,cratio,|du1|,|du2|,|du1-du2|;  74  70  72     7.2043 4.354715e+00 4.354715e+00 0.000000e+00\n",
      "kt2,kt1,kt,cratio,|du1|,|du2|,|du1-du2|;  74  70  71     7.2300 4.387952e+00 4.387952e+00 0.000000e+00\n",
      "kt2,kt1,kt,cratio,|du1|,|du2|,|du1-du2|;  74  70  70     7.3623 4.419847e+00 4.419847e+00 0.000000e+00\n"
     ]
    },
    {
     "name": "stderr",
     "output_type": "stream",
     "text": [
      "Operator `Kernel` run in 0.01 s\n"
     ]
    },
    {
     "name": "stdout",
     "output_type": "stream",
     "text": [
      "K,N,kt1,kt2,len;  13  21  65  69   5\n",
      "kt2,kt1,kt,cratio,|du1|,|du2|,|du1-du2|;  69  65  69     7.4585 4.455182e+00 4.455182e+00 0.000000e+00\n",
      "kt2,kt1,kt,cratio,|du1|,|du2|,|du1-du2|;  69  65  68     7.5333 4.493528e+00 4.493528e+00 0.000000e+00\n",
      "kt2,kt1,kt,cratio,|du1|,|du2|,|du1-du2|;  69  65  67     7.6242 4.530163e+00 4.530163e+00 0.000000e+00\n",
      "kt2,kt1,kt,cratio,|du1|,|du2|,|du1-du2|;  69  65  66     7.6767 4.560498e+00 4.560498e+00 0.000000e+00\n",
      "kt2,kt1,kt,cratio,|du1|,|du2|,|du1-du2|;  69  65  65     7.8081 4.584157e+00 4.584157e+00 0.000000e+00\n"
     ]
    },
    {
     "name": "stderr",
     "output_type": "stream",
     "text": [
      "Operator `Kernel` run in 0.01 s\n"
     ]
    },
    {
     "name": "stdout",
     "output_type": "stream",
     "text": [
      "K,N,kt1,kt2,len;  12  21  60  64   5\n",
      "kt2,kt1,kt,cratio,|du1|,|du2|,|du1-du2|;  64  60  64     7.8893 4.605340e+00 4.605340e+00 0.000000e+00\n",
      "kt2,kt1,kt,cratio,|du1|,|du2|,|du1-du2|;  64  60  63     7.9947 4.629253e+00 4.629253e+00 0.000000e+00\n",
      "kt2,kt1,kt,cratio,|du1|,|du2|,|du1-du2|;  64  60  62     8.0439 4.657688e+00 4.657688e+00 0.000000e+00\n",
      "kt2,kt1,kt,cratio,|du1|,|du2|,|du1-du2|;  64  60  61     8.2033 4.687657e+00 4.687657e+00 0.000000e+00\n",
      "kt2,kt1,kt,cratio,|du1|,|du2|,|du1-du2|;  64  60  60     8.3079 4.714266e+00 4.714266e+00 0.000000e+00\n"
     ]
    },
    {
     "name": "stderr",
     "output_type": "stream",
     "text": [
      "Operator `Kernel` run in 0.01 s\n"
     ]
    },
    {
     "name": "stdout",
     "output_type": "stream",
     "text": [
      "K,N,kt1,kt2,len;  11  21  55  59   5\n",
      "kt2,kt1,kt,cratio,|du1|,|du2|,|du1-du2|;  59  55  59     8.3867 4.735125e+00 4.735125e+00 0.000000e+00\n",
      "kt2,kt1,kt,cratio,|du1|,|du2|,|du1-du2|;  59  55  58     8.6121 4.752360e+00 4.752360e+00 0.000000e+00\n",
      "kt2,kt1,kt,cratio,|du1|,|du2|,|du1-du2|;  59  55  57     8.5387 4.770576e+00 4.770576e+00 0.000000e+00\n",
      "kt2,kt1,kt,cratio,|du1|,|du2|,|du1-du2|;  59  55  56     8.6944 4.792767e+00 4.792767e+00 0.000000e+00\n",
      "kt2,kt1,kt,cratio,|du1|,|du2|,|du1-du2|;  59  55  55     8.8021 4.817821e+00 4.817821e+00 0.000000e+00\n"
     ]
    },
    {
     "name": "stderr",
     "output_type": "stream",
     "text": [
      "Operator `Kernel` run in 0.01 s\n"
     ]
    },
    {
     "name": "stdout",
     "output_type": "stream",
     "text": [
      "K,N,kt1,kt2,len;  10  21  50  54   5\n",
      "kt2,kt1,kt,cratio,|du1|,|du2|,|du1-du2|;  54  50  54     8.9715 4.841722e+00 4.841722e+00 0.000000e+00\n",
      "kt2,kt1,kt,cratio,|du1|,|du2|,|du1-du2|;  54  50  53     9.1382 4.861131e+00 4.861131e+00 0.000000e+00\n",
      "kt2,kt1,kt,cratio,|du1|,|du2|,|du1-du2|;  54  50  52     9.1989 4.876191e+00 4.876191e+00 0.000000e+00\n",
      "kt2,kt1,kt,cratio,|du1|,|du2|,|du1-du2|;  54  50  51     9.4976 4.890290e+00 4.890290e+00 0.000000e+00\n",
      "kt2,kt1,kt,cratio,|du1|,|du2|,|du1-du2|;  54  50  50     9.5250 4.907116e+00 4.907116e+00 0.000000e+00\n"
     ]
    },
    {
     "name": "stderr",
     "output_type": "stream",
     "text": [
      "Operator `Kernel` run in 0.01 s\n"
     ]
    },
    {
     "name": "stdout",
     "output_type": "stream",
     "text": [
      "K,N,kt1,kt2,len;   9  21  45  49   5\n",
      "kt2,kt1,kt,cratio,|du1|,|du2|,|du1-du2|;  49  45  49     9.6573 4.927511e+00 4.927511e+00 0.000000e+00\n",
      "kt2,kt1,kt,cratio,|du1|,|du2|,|du1-du2|;  49  45  48     9.7196 4.948790e+00 4.948790e+00 0.000000e+00\n",
      "kt2,kt1,kt,cratio,|du1|,|du2|,|du1-du2|;  49  45  47     9.9712 4.967144e+00 4.967144e+00 0.000000e+00\n",
      "kt2,kt1,kt,cratio,|du1|,|du2|,|du1-du2|;  49  45  46    10.0510 4.981009e+00 4.981009e+00 0.000000e+00\n",
      "kt2,kt1,kt,cratio,|du1|,|du2|,|du1-du2|;  49  45  45    10.2035 4.992456e+00 4.992456e+00 0.000000e+00\n"
     ]
    },
    {
     "name": "stderr",
     "output_type": "stream",
     "text": [
      "Operator `Kernel` run in 0.01 s\n"
     ]
    },
    {
     "name": "stdout",
     "output_type": "stream",
     "text": [
      "K,N,kt1,kt2,len;   8  21  40  44   5\n",
      "kt2,kt1,kt,cratio,|du1|,|du2|,|du1-du2|;  44  40  44    10.4162 5.005342e+00 5.005342e+00 0.000000e+00\n",
      "kt2,kt1,kt,cratio,|du1|,|du2|,|du1-du2|;  44  40  43    10.6056 5.021849e+00 5.021849e+00 0.000000e+00\n",
      "kt2,kt1,kt,cratio,|du1|,|du2|,|du1-du2|;  44  40  42    10.7528 5.040586e+00 5.040586e+00 0.000000e+00\n",
      "kt2,kt1,kt,cratio,|du1|,|du2|,|du1-du2|;  44  40  41    10.9306 5.057940e+00 5.057940e+00 0.000000e+00\n",
      "kt2,kt1,kt,cratio,|du1|,|du2|,|du1-du2|;  44  40  40    11.1480 5.071352e+00 5.071352e+00 0.000000e+00\n"
     ]
    },
    {
     "name": "stderr",
     "output_type": "stream",
     "text": [
      "Operator `Kernel` run in 0.01 s\n"
     ]
    },
    {
     "name": "stdout",
     "output_type": "stream",
     "text": [
      "K,N,kt1,kt2,len;   7  21  35  39   5\n",
      "kt2,kt1,kt,cratio,|du1|,|du2|,|du1-du2|;  39  35  39    11.2599 5.081527e+00 5.081527e+00 0.000000e+00\n",
      "kt2,kt1,kt,cratio,|du1|,|du2|,|du1-du2|;  39  35  38    11.5520 5.091693e+00 5.091693e+00 0.000000e+00\n",
      "kt2,kt1,kt,cratio,|du1|,|du2|,|du1-du2|;  39  35  37    11.8972 5.104735e+00 5.104735e+00 0.000000e+00\n",
      "kt2,kt1,kt,cratio,|du1|,|du2|,|du1-du2|;  39  35  36    11.9850 5.120741e+00 5.120741e+00 0.000000e+00\n",
      "kt2,kt1,kt,cratio,|du1|,|du2|,|du1-du2|;  39  35  35    12.2269 5.137015e+00 5.137015e+00 0.000000e+00\n"
     ]
    },
    {
     "name": "stderr",
     "output_type": "stream",
     "text": [
      "Operator `Kernel` run in 0.01 s\n"
     ]
    },
    {
     "name": "stdout",
     "output_type": "stream",
     "text": [
      "K,N,kt1,kt2,len;   6  21  30  34   5\n",
      "kt2,kt1,kt,cratio,|du1|,|du2|,|du1-du2|;  34  30  34    12.3496 5.150456e+00 5.150456e+00 0.000000e+00\n",
      "kt2,kt1,kt,cratio,|du1|,|du2|,|du1-du2|;  34  30  33    12.5170 5.160233e+00 5.160233e+00 0.000000e+00\n",
      "kt2,kt1,kt,cratio,|du1|,|du2|,|du1-du2|;  34  30  32    12.8667 5.168513e+00 5.168513e+00 0.000000e+00\n",
      "kt2,kt1,kt,cratio,|du1|,|du2|,|du1-du2|;  34  30  31    12.9197 5.178583e+00 5.178583e+00 0.000000e+00\n",
      "kt2,kt1,kt,cratio,|du1|,|du2|,|du1-du2|;  34  30  30    13.3595 5.191956e+00 5.191956e+00 0.000000e+00\n"
     ]
    },
    {
     "name": "stderr",
     "output_type": "stream",
     "text": [
      "Operator `Kernel` run in 0.01 s\n"
     ]
    },
    {
     "name": "stdout",
     "output_type": "stream",
     "text": [
      "K,N,kt1,kt2,len;   5  21  25  29   5\n",
      "kt2,kt1,kt,cratio,|du1|,|du2|,|du1-du2|;  29  25  29    13.5596 5.207006e+00 5.207006e+00 0.000000e+00\n",
      "kt2,kt1,kt,cratio,|du1|,|du2|,|du1-du2|;  29  25  28    13.8742 5.220428e+00 5.220428e+00 0.000000e+00\n",
      "kt2,kt1,kt,cratio,|du1|,|du2|,|du1-du2|;  29  25  27    14.3052 5.230221e+00 5.230221e+00 0.000000e+00\n",
      "kt2,kt1,kt,cratio,|du1|,|du2|,|du1-du2|;  29  25  26    14.3882 5.237480e+00 5.237480e+00 0.000000e+00\n",
      "kt2,kt1,kt,cratio,|du1|,|du2|,|du1-du2|;  29  25  25    14.7533 5.245362e+00 5.245362e+00 0.000000e+00\n"
     ]
    },
    {
     "name": "stderr",
     "output_type": "stream",
     "text": [
      "Operator `Kernel` run in 0.01 s\n"
     ]
    },
    {
     "name": "stdout",
     "output_type": "stream",
     "text": [
      "K,N,kt1,kt2,len;   4  21  20  24   5\n",
      "kt2,kt1,kt,cratio,|du1|,|du2|,|du1-du2|;  24  20  24    15.1035 5.256242e+00 5.256242e+00 0.000000e+00\n",
      "kt2,kt1,kt,cratio,|du1|,|du2|,|du1-du2|;  24  20  23    15.6377 5.269639e+00 5.269639e+00 0.000000e+00\n",
      "kt2,kt1,kt,cratio,|du1|,|du2|,|du1-du2|;  24  20  22    15.8549 5.282735e+00 5.282735e+00 0.000000e+00\n",
      "kt2,kt1,kt,cratio,|du1|,|du2|,|du1-du2|;  24  20  21    16.1167 5.292908e+00 5.292908e+00 0.000000e+00\n",
      "kt2,kt1,kt,cratio,|du1|,|du2|,|du1-du2|;  24  20  20    16.6201 5.299981e+00 5.299981e+00 0.000000e+00\n"
     ]
    },
    {
     "name": "stderr",
     "output_type": "stream",
     "text": [
      "Operator `Kernel` run in 0.01 s\n"
     ]
    },
    {
     "name": "stdout",
     "output_type": "stream",
     "text": [
      "K,N,kt1,kt2,len;   3  21  15  19   5\n",
      "kt2,kt1,kt,cratio,|du1|,|du2|,|du1-du2|;  19  15  19    17.2361 5.306331e+00 5.306331e+00 0.000000e+00\n",
      "kt2,kt1,kt,cratio,|du1|,|du2|,|du1-du2|;  19  15  18    17.6396 5.314812e+00 5.314812e+00 0.000000e+00\n",
      "kt2,kt1,kt,cratio,|du1|,|du2|,|du1-du2|;  19  15  17    18.3672 5.326280e+00 5.326280e+00 0.000000e+00\n",
      "kt2,kt1,kt,cratio,|du1|,|du2|,|du1-du2|;  19  15  16    18.9037 5.338837e+00 5.338837e+00 0.000000e+00\n",
      "kt2,kt1,kt,cratio,|du1|,|du2|,|du1-du2|;  19  15  15    19.7252 5.349487e+00 5.349487e+00 0.000000e+00\n"
     ]
    },
    {
     "name": "stderr",
     "output_type": "stream",
     "text": [
      "Operator `Kernel` run in 0.01 s\n"
     ]
    },
    {
     "name": "stdout",
     "output_type": "stream",
     "text": [
      "K,N,kt1,kt2,len;   2  21  10  14   5\n",
      "kt2,kt1,kt,cratio,|du1|,|du2|,|du1-du2|;  14  10  14    20.4535 5.356792e+00 5.356792e+00 0.000000e+00\n",
      "kt2,kt1,kt,cratio,|du1|,|du2|,|du1-du2|;  14  10  13    21.0571 5.362186e+00 5.362186e+00 0.000000e+00\n",
      "kt2,kt1,kt,cratio,|du1|,|du2|,|du1-du2|;  14  10  12    21.9657 5.368704e+00 5.368704e+00 0.000000e+00\n",
      "kt2,kt1,kt,cratio,|du1|,|du2|,|du1-du2|;  14  10  11    22.6716 5.378245e+00 5.378245e+00 0.000000e+00\n",
      "kt2,kt1,kt,cratio,|du1|,|du2|,|du1-du2|;  14  10  10    24.0097 5.389867e+00 5.389867e+00 0.000000e+00\n"
     ]
    },
    {
     "name": "stderr",
     "output_type": "stream",
     "text": [
      "Operator `Kernel` run in 0.01 s\n"
     ]
    },
    {
     "name": "stdout",
     "output_type": "stream",
     "text": [
      "K,N,kt1,kt2,len;   1  21   5   9   5\n",
      "kt2,kt1,kt,cratio,|du1|,|du2|,|du1-du2|;   9   5   9    26.3767 5.400680e+00 5.400680e+00 0.000000e+00\n",
      "kt2,kt1,kt,cratio,|du1|,|du2|,|du1-du2|;   9   5   8    27.9667 5.408471e+00 5.408471e+00 0.000000e+00\n",
      "kt2,kt1,kt,cratio,|du1|,|du2|,|du1-du2|;   9   5   7    31.4977 5.413644e+00 5.413644e+00 0.000000e+00\n",
      "kt2,kt1,kt,cratio,|du1|,|du2|,|du1-du2|;   9   5   6    37.4019 5.418785e+00 5.418785e+00 0.000000e+00\n",
      "kt2,kt1,kt,cratio,|du1|,|du2|,|du1-du2|;   9   5   5    54.8344 5.426361e+00 5.426361e+00 0.000000e+00\n",
      "K,N,kt1,kt2,len;   0  21   1   4   4\n"
     ]
    },
    {
     "name": "stderr",
     "output_type": "stream",
     "text": [
      "Operator `Kernel` run in 0.01 s\n"
     ]
    },
    {
     "name": "stdout",
     "output_type": "stream",
     "text": [
      "kt2,kt1,kt,cratio,|du1|,|du2|,|du1-du2|;   4   1   4    96.8909 5.436580e+00 5.436580e+00 0.000000e+00\n",
      "kt2,kt1,kt,cratio,|du1|,|du2|,|du1-du2|;   4   1   3   200.3787 5.447252e+00 5.447252e+00 0.000000e+00\n",
      "kt2,kt1,kt,cratio,|du1|,|du2|,|du1-du2|;   4   1   2   634.1953 5.455726e+00 5.455726e+00 0.000000e+00\n",
      "kt2,kt1,kt,cratio,|du1|,|du2|,|du1-du2|;   4   1   1  2269.3494 5.461194e+00 5.461194e+00 0.000000e+00\n"
     ]
    }
   ],
   "source": [
    "# NBVAL_IGNORE_OUTPUT\n",
    "\n",
    "# Open the binary file in read only mode\n",
    "f = open(filename, \"rb\")\n",
    "\n",
    "# Temporay nd array for decompression\n",
    "d = copy.copy(v2._data[0,:,:])\n",
    "\n",
    "# Array to hold compression ratio\n",
    "cratio = np.zeros(nt, dtype=dtype)\n",
    "\n",
    "# Loop over time blocks\n",
    "duAdj2.data[:] = 0\n",
    "dm2.data[:] = 0\n",
    "for kN in range(N-1,-1,-1):\n",
    "    kt1 = max((kN + 0) * M, 1)\n",
    "    kt2 = min((kN + 1) * M - 1, nt-2)\n",
    "    print(\"K,N,kt1,kt2,len; %3d %3d %3d %3d %3d\" % (kN, N, kt1, kt2, kt2 - kt1 + 1))\n",
    "        \n",
    "    # 1. Seek to file_offset[kt] \n",
    "    # 2. Read file_length[kt1] bytes from file\n",
    "    # 3. Decompress wavefield and assign to v2 Buffer\n",
    "    for kt in range(kt1,kt2+1,+1):\n",
    "        f.seek(file_offset[kt], 0)\n",
    "        c = f.read(file_length[kt])\n",
    "        blosc.decompress_ptr(c, v2._data[(kt%M),:,:].__array_interface__['data'][0])\n",
    "        cratio[kt] = len0 / (1.0 * len(c))\n",
    "\n",
    "    # Run the operator for this time block\n",
    "    la_op2(time_m=kt1, time_M=kt2)\n",
    "    \n",
    "    for kt in range(kt2,kt1-1,-1):\n",
    "        rms_du1 = np.linalg.norm(duAdj1.data[kt,:,:].reshape(-1))\n",
    "        rms_du2 = np.linalg.norm(duAdj2.data[kt,:,:].reshape(-1))\n",
    "        rms_d12 = np.linalg.norm(duAdj1.data[kt,:,:].reshape(-1) - duAdj2.data[kt,:,:].reshape(-1))\n",
    "        print(\"kt2,kt1,kt,cratio,|du1|,|du2|,|du1-du2|; %3d %3d %3d %10.4f %12.6e %12.6e %12.6e\" % \n",
    "              (kt2, kt1, kt, cratio[kt], rms_du1, rms_du2, rms_d12), flush=True)"
   ]
  },
  {
   "cell_type": "code",
   "execution_count": 18,
   "metadata": {},
   "outputs": [
    {
     "name": "stdout",
     "output_type": "stream",
     "text": [
      "4.626e+01\n",
      "1.426e-04\n"
     ]
    }
   ],
   "source": [
    "# NBVAL_IGNORE_OUTPUT\n",
    "\n",
    "# Continuous integration hooks for the save all timesteps implementation\n",
    "# We ensure the norm of these computed wavefields is repeatable\n",
    "print(\"%.3e\" % norm(duAdj2))\n",
    "print(\"%.3e\" % norm(dm2))\n",
    "# assert np.isclose(norm(duAdj2), 9.458e+00, atol=0, rtol=1e-3)\n",
    "# assert np.isclose(norm(dm2), 1.426e-04, atol=0, rtol=1e-3)"
   ]
  },
  {
   "cell_type": "markdown",
   "metadata": {},
   "source": [
    "## Correctness test for Jacobian adjoint wavefield and computed gradient\n",
    "\n",
    "We now test correctness by measuring the maximum absolute difference between the gradients computed with the```Buffer``` and save all time steps implementations."
   ]
  },
  {
   "cell_type": "code",
   "execution_count": 19,
   "metadata": {},
   "outputs": [
    {
     "name": "stdout",
     "output_type": "stream",
     "text": [
      "Maximum absolute difference wavefield,gradient; +0.0000e+00 +0.0000e+00\n"
     ]
    }
   ],
   "source": [
    "# NBVAL_IGNORE_OUTPUT\n",
    "\n",
    "dmax = np.max(np.abs(duAdj1.data - duAdj2.data))\n",
    "gmax = np.max(np.abs(dm1.data - dm2.data))\n",
    "print(\"Maximum absolute difference wavefield,gradient; %+.4e %+.4e\" % (dmax, gmax))\n",
    "assert np.isclose(dmax, 0, atol=0, rtol=1e-14)\n",
    "\n",
    "# Might need to garbage collect duAdj1 and duAdj2 for CI to run ??\n",
    "# del duAdj1, duAdj2"
   ]
  },
  {
   "cell_type": "markdown",
   "metadata": {},
   "source": [
    "## Delete the file used for seriazliation"
   ]
  },
  {
   "cell_type": "code",
   "execution_count": 20,
   "metadata": {},
   "outputs": [],
   "source": [
    "os.remove(filename)"
   ]
  },
  {
   "cell_type": "code",
   "execution_count": null,
   "metadata": {},
   "outputs": [],
   "source": []
  }
 ],
 "metadata": {
  "anaconda-cloud": {},
  "kernelspec": {
   "display_name": "Python 3",
   "language": "python",
   "name": "python3"
  },
  "language_info": {
   "codemirror_mode": {
    "name": "ipython",
    "version": 3
   },
   "file_extension": ".py",
   "mimetype": "text/x-python",
   "name": "python",
   "nbconvert_exporter": "python",
   "pygments_lexer": "ipython3",
   "version": "3.8.3"
  }
 },
 "nbformat": 4,
 "nbformat_minor": 4
}
